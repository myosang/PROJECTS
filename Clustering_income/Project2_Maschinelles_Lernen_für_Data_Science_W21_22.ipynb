{
  "cells": [
    {
      "cell_type": "markdown",
      "metadata": {
        "id": "yC9-HuKzeqRb"
      },
      "source": [
        "\n",
        "**Team:** <br>Ceyda Akbulut<br>Hyosang Kim<br>Raniyaharini Rajendran"
      ]
    },
    {
      "cell_type": "markdown",
      "metadata": {
        "id": "rujaEpoG0T2h"
      },
      "source": [
        "# **●Understanding the Dataset** <br>\n",
        "Dataset name: Adult dataset<br>\n",
        "Dataset characteristics: Multivariate<br>\n",
        "Attribute characteristics: Categorical, Integer<br>\n",
        "Number of Instances(Total): 48842<br>\n",
        "Number of Instances(Train):32561<br>\n",
        "Number of Instances(Test):16281<br>\n",
        "Number of Attributes:14\n"
      ]
    },
    {
      "cell_type": "markdown",
      "metadata": {
        "id": "UMoQREYPgbtw"
      },
      "source": [
        "**Download Adult Dataset from UCI Machine Learning Repository**"
      ]
    },
    {
      "cell_type": "code",
      "execution_count": null,
      "metadata": {
        "id": "gPpDF1H3ZqkS"
      },
      "outputs": [],
      "source": [
        "%%capture\n",
        "%%bash\n",
        "pip install imbalanced-learn"
      ]
    },
    {
      "cell_type": "code",
      "execution_count": null,
      "metadata": {
        "id": "s8ocSEIPZOCM"
      },
      "outputs": [],
      "source": [
        "#Read the libraries\n",
        "import pandas as pd\n",
        "import numpy as np\n",
        "import matplotlib.pyplot as plt\n",
        "import seaborn as sns\n",
        "from collections import Counter\n",
        "\n",
        "import warnings\n",
        "warnings.simplefilter(action='ignore', category=FutureWarning)"
      ]
    },
    {
      "cell_type": "code",
      "execution_count": null,
      "metadata": {
        "id": "ZhChsno_Z4Ww"
      },
      "outputs": [],
      "source": [
        "#Read adult.data as df (training part)\n",
        "df_train = pd.read_csv('adult.data', header=None)"
      ]
    },
    {
      "cell_type": "code",
      "execution_count": null,
      "metadata": {
        "id": "rVHSMMs0FwCW"
      },
      "outputs": [],
      "source": [
        "#from google.colab import drive\n",
        "#drive.mount('/content/drive')"
      ]
    },
    {
      "cell_type": "code",
      "execution_count": null,
      "metadata": {
        "id": "5mW2PGA_z2bu"
      },
      "outputs": [],
      "source": [
        "#Read adult.data as df (testing part)\n",
        "df_test = pd.read_csv('adult.test', error_bad_lines=False)\n",
        "pd.set_option(\"display.max_columns\", None)\n",
        "#print(df_test.head(20))"
      ]
    },
    {
      "cell_type": "code",
      "execution_count": null,
      "metadata": {
        "id": "tHpIMTCzaRdX"
      },
      "outputs": [],
      "source": [
        "#Show all columns to rename them\n",
        "pd.set_option(\"display.max_columns\", None)\n",
        "#print(df_train.head(20))"
      ]
    },
    {
      "cell_type": "code",
      "execution_count": null,
      "metadata": {
        "id": "4KAF5rK2al9a"
      },
      "outputs": [],
      "source": [
        "#Read adult.names to understand dataset description\n",
        "my_file = open(\"adult.names\", \"r\")\n",
        "content = my_file.read()\n",
        "#print(content)"
      ]
    },
    {
      "cell_type": "code",
      "execution_count": null,
      "metadata": {
        "id": "DCYzRJetlerv"
      },
      "outputs": [],
      "source": [
        "#Read old.adult.names files\n",
        "my_file_old = open(\"old.adult.names\", \"r\")\n",
        "content_old = my_file_old.read()\n",
        "#print(content_old)"
      ]
    },
    {
      "cell_type": "code",
      "execution_count": null,
      "metadata": {
        "id": "doYtQmrRjUwQ"
      },
      "outputs": [],
      "source": [
        "#Generate column names manually and print df2_train again\n",
        "names=[ 'age','workclass','fnlwgt','education','education-num','marital-status','occupation','relationship','race','sex','capital-gain','capital loss','hours-per-week','native-country','result']\n",
        "df2_train = pd.read_csv('adult.data', names = names)\n",
        "#print(df2_train.head(20))"
      ]
    },
    {
      "cell_type": "code",
      "execution_count": null,
      "metadata": {
        "id": "TH-FhoCx24yC"
      },
      "outputs": [],
      "source": [
        "#Generate column names manually and print df2_test again\n",
        "names=[ 'age','workclass','fnlwgt','education','education-num','marital-status','occupation','relationship','race','sex','capital-gain','capital loss','hours-per-week','native-country','result']\n",
        "df2_test = pd.read_csv('adult.test', names = names)\n",
        "#print(df2_train.head(20))"
      ]
    },
    {
      "cell_type": "code",
      "execution_count": null,
      "metadata": {
        "id": "dHsafggPrDSf"
      },
      "outputs": [],
      "source": [
        "main_data = pd.concat([df2_test.assign(ind=\"df2_test\"), df2_train.assign(ind=\"df2_train\")])\n",
        "#!!!!!To separate thema again: test, train = df[df[\"ind\"].eq(\"df2_test\")], df[df[\"ind\"].eq(\"df2_train\")]\n",
        "#print(main_data.shape)\n",
        "#print(main_data.head(20))\n",
        "#print(main_data.tail(20))\n",
        "#Note: First row is not useful. Therefore, we will remove it."
      ]
    },
    {
      "cell_type": "code",
      "execution_count": null,
      "metadata": {
        "id": "atAFrVk15d6g"
      },
      "outputs": [],
      "source": [
        "#Delete the first row since it has no meaning\n",
        "main_data.drop(index=main_data.index[0],axis=0,inplace=True)\n",
        "#We executed the code line above. So, we can show it as a comment.\n",
        "#print(main_data.shape)\n",
        "#print(main_data.head(20))"
      ]
    },
    {
      "cell_type": "code",
      "execution_count": null,
      "metadata": {
        "id": "WJ5t6sA8Ucp1"
      },
      "outputs": [],
      "source": [
        "main_data=main_data.iloc[:, : 14]"
      ]
    },
    {
      "cell_type": "code",
      "execution_count": null,
      "metadata": {
        "colab": {
          "base_uri": "https://localhost:8080/"
        },
        "id": "JNr7CcB1rYz8",
        "outputId": "ad09bbd2-4fe9-48c0-9213-66fb20219a26"
      },
      "outputs": [
        {
          "name": "stdout",
          "output_type": "stream",
          "text": [
            "  age   workclass    fnlwgt      education  education-num  \\\n",
            "1  25     Private  226802.0           11th            7.0   \n",
            "2  38     Private   89814.0        HS-grad            9.0   \n",
            "3  28   Local-gov  336951.0     Assoc-acdm           12.0   \n",
            "4  44     Private  160323.0   Some-college           10.0   \n",
            "5  18           ?  103497.0   Some-college           10.0   \n",
            "\n",
            "        marital-status          occupation relationship    race      sex  \\\n",
            "1        Never-married   Machine-op-inspct    Own-child   Black     Male   \n",
            "2   Married-civ-spouse     Farming-fishing      Husband   White     Male   \n",
            "3   Married-civ-spouse     Protective-serv      Husband   White     Male   \n",
            "4   Married-civ-spouse   Machine-op-inspct      Husband   Black     Male   \n",
            "5        Never-married                   ?    Own-child   White   Female   \n",
            "\n",
            "   capital-gain  capital loss  hours-per-week  native-country  \n",
            "1           0.0           0.0            40.0   United-States  \n",
            "2           0.0           0.0            50.0   United-States  \n",
            "3           0.0           0.0            40.0   United-States  \n",
            "4        7688.0           0.0            40.0   United-States  \n",
            "5           0.0           0.0            30.0   United-States  \n"
          ]
        }
      ],
      "source": [
        "print(main_data.head(5))"
      ]
    },
    {
      "cell_type": "code",
      "execution_count": null,
      "metadata": {
        "colab": {
          "base_uri": "https://localhost:8080/"
        },
        "id": "dM143aQMsPE2",
        "outputId": "eba9e9d2-6047-4569-fa16-15e60168b910"
      },
      "outputs": [
        {
          "data": {
            "text/plain": [
              "(48841, 14)"
            ]
          },
          "execution_count": 34,
          "metadata": {},
          "output_type": "execute_result"
        }
      ],
      "source": [
        "main_data.shape"
      ]
    },
    {
      "cell_type": "markdown",
      "metadata": {
        "id": "bCecyChV_jSZ"
      },
      "source": [
        "# ● **Data preprocessing/Cleaning** <br>\n",
        "■ Data integration:\n",
        "\n",
        "*  Integration of multiple databases, data warehouses, or files (entity identification, value resolution)\n",
        "\n",
        "■ Data cleaning:<br>\n",
        "\n",
        "*   Fill in missing values\n",
        "*   Smooth noisy data\n",
        "*   Identify or remove outliers\n",
        "*   Resolve inconsistencies\n",
        "\n",
        "■ Data reduction:<br>\n",
        "\n",
        "*   Duplicate elimination"
      ]
    },
    {
      "cell_type": "markdown",
      "metadata": {
        "id": "bJXSslT87HRo"
      },
      "source": [
        "# 3.1 Exploratory data analysis"
      ]
    },
    {
      "cell_type": "markdown",
      "metadata": {
        "id": "KK6PQKOH7aHQ"
      },
      "source": [
        "# ● Univariate analysis <br>\n",
        "○ Plot the value of each feature (boxplot, histogram, etc.). What do you\n",
        "observe? <br>\n",
        "○ Check for class imbalance. If existing, what are its effects? How can\n",
        "you cope with it?<br>\n",
        "\n",
        "\n",
        "Univariate analysis is perhaps the simplest form of statistical analysis. Like other forms of statistics, it can be inferential or descriptive. The key fact is that only one variable is involved.<br>*(https://en.wikipedia.org/wiki/Univariate_analysis)*<br>\n",
        "\n",
        "**Continuous Variables:** In case of continuous variables, we need to understand the central tendency and spread of the variables.These are measured using various statistical metrics visualization methods as shown below: <br>\n",
        "\n",
        "![Data_exploration_31.png](data:image/png;base64,iVBORw0KGgoAAAANSUhEUgAAA3wAAACfCAIAAAAtTkzEAABGqElEQVR42u29CVQdyZ3mG+4z/eZMnzl2d7u77dnaMzVzpqfdbm9TPe+N3oxnfPp1n3HPlLey267VrnIVKperVKUqSVXaV0AISSAJCYF2sQnEIsS+7wixI4lNCAmxi0VCgBYE4r7vZsIlcrmXC1yWC993/tyTN25EZGREJvHLf0RkCgtFUdQK1/a/YB1QFEXNtwSrgKIoQifrgKJ4EVGEToqiKPaXFMWLiCJ0UhRFsb+kKF5EFDUj6BQURVHLXU72l62trW1tbe3t7fhUt41qnxS2uxWpkW3xbZmocShqEYXz854i9WtnZ2dHR0dXV5d8ruqkBiJJT09Pb28vcsCZPDY25jx0Ho0uTCtpoK1MQ+sTOimKInRO319WVVXV1NRcuXIFn9evX6+trb2mFSJUK0IcfE1XhK91dXVqhBs3buBruaLS0lL1J/lXNROKWhilpKRcvnw5Pj6+oqIC52R2dnZ+fn5SUlKFIpyf9hImJCRcvHgxKioqNTUV0R49euQ8dCYUXKd7b8XK2Pom0Hkiv5M2H8a6ZWvSFr3VnIfOpqYmX1/fvXv3ent7l5SUJCYm4rOoqAi9daGihoaGrYr279+POB8qQgTEBKR6eXkFBgY2NjYCN9euXXvw4EG184YQAk5NS0srKytT0ZOi5lU4IYGV+/btO3z4cEBAAHATZ+bZs2ePHz9+/vz5q4pMT0UE4rx98803X3rppX/4h3/AGV5fX//48WPnofNS3jWy14qVsfUJncQUGluT0GnSX96+fXv9+vWenp6fffbZunXrDh06tHnzZqDk7373uwhFiPCeonPnzr311lsfKfrkk0/8/f137dqFbURGD3337l0khJcIX/0UIcPVq1cfOHBg06ZNIFcAAamImleBHXHLhDuo8PBwsGZycnJLSwu2jx07pt4FQTgPQaLNk7qhCIG4jwKY4kzG9qlTpwCvhE6K0ElMobE1aS6GThAkoBPE+atf/SoyMhIcCY/mj370oyRF6Jh/rQg8il58tSI15qeffrpz5064keAuvXPnzoYNG8LCwhAYqejdd99FTGwAWNW+nFREzatAk3FxcbgXwg0SzmGw461bt0JDQ/EVDJqm6ObNm3Dtv63Iw8MjQxECAZ1BQUHwysM9f/To0crKSldB58jIiG1DnSeKz2fPnslxbCHj4+O2+BShk0ZMYWvSlhV0Agejo6MxRI7ZbJjKBp9QTEwMSBGz4mIVoSMPVwSHECKr7k+Eo2MGkmK23JkzZzABDr5M5JOXl4d+/ZgidP9gU7g8Ec02xZOi5k+YkVxQUIA7H5zDOGMx+RghmCiCofPi4uIrinAO44zdpQj3WnmKEIhzGAlDQkJAqHDY4x5pLtAJxyruxJ48eZKVlQVnP/KHzxXj/uBg3J5hagpu4bABxERkrFvC1yNHjuAOEFMCMEcFxTZfxkQROmnEFLYmzX2hE8OIIEIgIz5VrESHh218qiOPiFCvSF2BUTcpJFGnx+EnuIUQTV2EhMAGRfgKlkUqNQJFLYCwHk49e/EJcESIugyuZlIIwQnZNClboHpu105qLp5OoCRwFvNHUQDcyGHtPD53796N3cGfigmjcKziAgEZq95NXCY5OTn49be//S2KgZkquOvDMiZwJy6r3Nxc3NohHF7bRkVIbtywbcu6OSndV9McjFk5Trjss0IbDQ0NLSfoLPrFN1CQ19csxF5e/EUEMWWOdeh8Y4V+TyxAyy7E7pxrTRcWQL4o5p7tAjeE00X6xk7P+byWZwSd8/rwmr6+Pj5EiXJHwQ05F08nHKtwW4JcMXZ///79zMxMHx8fPLwJw/cgS2QOsgR0jo6OIjKG9THZFDvFjBTcs+GZTYDO4eFhwCvoBzdy8IxiJR+e6HR3Upi6iph3JYGY4ceVQ+BbBbCiGHIg3LqgW9tXPCsKu8Yu5DiALZRfLaSDhEBhxMSGLUR1Ksup1HkLmKLjOCEWLOJw5BD1PlbOCsyNrHRl0CVEHaLkuIuQs8ItB6odtWFLiPIgGurWXkJExjO24ClH5vMDnb6vTz1oZE79wYy6N0OSiJ0vmDz5ZI68uIjQqXb5Vn3PV4ozdZhLigbsmueHL+oPQXt0ql74sGj5QucEdpu0o/V6WTrQqbumXFKwOZ7GZkVaStBJUZRRT58+ndEjk3TYAeclRuqBiRhnxzwTODIxIwWUeenSJXyCQTGbBUQIDAXW4FdMPMUsFAzr4yfExLbKo6rAf5iiqrtXHBgYkEMGBwdBS7pSwdWqjuDbhN3pppPCEdvf3y+H4MBBXbqsjAnhD340PCyHANTwoFPdfFbbLAI54bA2IRhUdzjIB7nJIagQZCVXi2lCUCmoXQ7B0eEY5ZDnz58jK93cWWNCddmZ66FTRQrxUqjtq0QPCwud2iLNqhhLEDpffOEbml5WOTolcBlA5+Rx6c6i5Te8bjxAl56lrnL/z8fowRxPY0InRbmfHimaNXTClwZHGjbg7MdoPogQ4AW3H2BR5Txsg2vBPYigYiVckipsAaR0TAYnH5bkyyHgSzhQ5RCwFzKRQ7BHuDB1lAaKwkxTHb/qYAtjyigMyMxxwvraurFHGgx90N3f36vh19GR0Tu39aQIfkWF6GaW6w4H81x1pIjqQq3i03FCVCxYXw7B0eEYZfAFPSMrnSfbmFB9wJbLodOBL8Q2qCr/o7fGf+HDUNtPCovIMZUeRfGCvPDhzqnMJWfqZD89I+h0vjBa3+03Xv+epqOaYT6S8/V7vro+z7z7NNbtL5TuWZPqpZ3aYzctlWmlda55aTJIBSC1hBMwJJXQ2AT29mLuvJyIMLU7/cHqD1+NKZ0PE0enL7CD2jYtoeFADBmauvecbuKZ3ULomkyuWDvHa6+Bpr8opG15LMJWeH1yw2XompqZy2lsLNLEafOLl4y7My2e3WvZcBoQOilqqUCna7U0obOgpiiqLD7+Rppql2vTz+SHNNTVPu0bttmDjj4wNKFTgk71H7qJg8rYj8pDfmpXEWoAmsnuZ5LVJnoUfJ2gE7tdtUPonGlhJB6a6LHkLnBW+WD7GzvXyAVTcjY6ukwwZQKbplJN8qs9ZFG2TStN2qnnh6/b4NIedEqdur1jNx2k1rCRM55Obas5LPBkbUsxHbaO7kBMMrQ3JC1nbq+JZzCnU6Jq02qfeQNNc1EYLxCp5E5dUy6pmbmdxnbA1/xas1c847VschoQOimK0Llw0Hkk7eTv1f/4Cz2/+EK3Yj2vfKH8H15Mfulv83/+/cIJ++8ZLx3JDRofHSd02h001Hj4bOETfYweNZSuxYQYpOlu+l7cbhIH0DnTwmhw0MBhs8xHT1rSgUzrG1PKMJVqMkSGKpNSmVWa2u/KFesYOm0xp92L9mDlJnASOqUcDC46+y7SqcztlVB3ICYZmjOf9ijsnbczWUgk3aFp68Th8TrwdE5zUegvEDsN4eCacknNzPE0djS8bu9amyqevWvZ5DQgdFIUoXPhoPNQygnR94aweEzab0XDT8SdvxCWrwvLX03Yo69tL91n0T54lJ5OM+jUDucJnXPCSeiUstWM0s4UOmdYGG1yQ0c1w3zs8N9UB+zMgKw6Ae4XvrZqsTtyKo85mlWaHGjs7KchbNO9OKjzGUGnuafTWGAz6LThhUkJHZ1LejizfxSugE4dfpk7FJ1uoOkvimlmQzpxTbmkZuZ4GjsFnfaKZ/daNjkNCJ0URehcOOg8nHryCz1a6Kz/qWj6a2H5jrB8d8IG/uOuqwcInRJ0ToxdGsjPztjx7KBTppbZeDpnWhiH3hHn8zFfKTLhYnnxBTuLSMxnAU7NDTUcu51S2ak0QxXNBDodrXoxczWpe3cSOh23rD3X2lTm9kpogE4nR/O1JXcJdE6OsH+48wX70z+cbCAnLgpNtrpWcO6acknNzOk0noun03BWmPiJTS9SQidFEToJnUsSOm0OA4lOpsjAhAjtdlGa7soEOuUJZDOEzpkWRh6Q1czpnEM+ypxOT81qCXNqsbP0ZDKVyTw881KZVtrUswV0niqNt8kMOqefyChXgiPccWL1usbBZqfAhsLbK6HhXDJkaKhMe5U8Z+iU/HlycmeOV99ATlwUhsFrw+JxQ3LdobmkZuZ0GhvytLc7O8Wzcy2b1TOhk6IInYTOJQ+dU8SgX6GsexDjdF2UzQsyuXrdQDyKl+il12cOnTMvzNSKV3X1j7bPm8VBST3xRHXZn09mynlmA4Wmy4r1y5vMKk1/n2BysCYOQtO9mD550ZmphA6e02kkJ/3q9cmVyA7WL9uZLGiSofkiNu1RuAg6bSW0N6nU+Qaa/qLQD45rq9o0ufYydE3NzPE01hXJmWtNe3Ka155ZPRM6KYrQSehc+tBJm5k5HKpm3c7nO2n4Gkyai1+DSRnVf6+tqrIC1t7zwDRCaUHW7e4BmON8SgpyYK19U89cbG2qLa+8Bns08nzWxbtakHXn3iCMLWUqvMxG99xvQiehk9DpxqZ5dA4xhdBJI3QuLx3a+XlYQips17YtN3tGHw/ca2i2vutl7MkA3snc3nWvqqykZ3gUNjKIR383WHuz8dGezraWtm5rn32/u/FmMzb2bloLy6ntnEDVjIv+gWeSkxJhja29z4bvo8scww/PR7o77rZ39w89uNfRY+1BHz8aar5585GVFp43N9b3DFh7x4f9vbC77R2VZVd7hp7B7ne33mm7B8Ovg72d9Q23rAnGRrqsBelfsc0HetC9O4fQSegkdLqt2Vt6RUwhdNIIncsDOnesP3o2BHbA72hLS3NwUMBhv0OJaRmxoWcCD+/b7hMQHnImp6gQdvzo4bCzgWGJubmXQ3Z4H9rvvb2kpvnmtcKTh7yjUvPwCStqRI8OfHm057PP70x2tU/7b/v5HQg7f+J8fGZaVPDmnfv2bP3owLHje/ftq2+8uWXDRyeDT+4PCunou5d2+eIun0NNDdffeeM1WNbVqtBTwXEJsbC9u3dnFlfDbteWHvA7FBJ0+FJuaULoMa+Dx7z3bL9x9wGbktDpKuhsqm/UlepE5nlCJ6GTmEJja7LVCJ1z0hHPbUeDAmF7/U9V5Mf9bu3upKjzQafPeu/0vBAellNcGXE6YI/nNtiJ6ELE9/b0PB5wPL26rSo38lx8dmVxdugp/12Hg08c9oUVNuI9h+hiB7d9trl7svetzQ7bG5yAjf17vfZ57U0qqS+6dDytrCUl5mRcfKLfwUDrT9u3ZFytTE2IW/PxJxnpqdt374chPNBnR1JuIexkgO+FqGRYxEnf8Ix6K9d6+QQePlbW+jA9OjA2v5ZNSeh0FXRG5yRnleRdrSkrUaysuvy9kO1f6CN0Og2dFEVRy1iEzlnrwI7Ndb1PYSGHPIPPhuz32ZeUntd8u3HrB29t3LSjsLo26NC+8Ogo2IFDRzKSYo+FRF4OOZdU1nw1O+rEuTOeW3ceP+rrFRgceMALllfXrWabGB5w4ET4FUXlhYlevgczUi8HnL0QEXgoOqcqP+Z4xtXmyxeDUzKytqxdGxsfH3j63Lkgf9+Dx9ZvXpeVkbZrz0EY8gnw2hKbVQa7eiX7s3VbYKGRYQcDTqTGhJ6JiY8MCiq+1ZtwISA2/wabktDpKuj825jNf1Cx6UuNPl9q9Ib9UeMBEfG66AV0riZ0OgWdvKjmSaxbtia16K1G6JyLOu7eGX5mgQ30tHX1D3bdqc3Jv9paX7Z9h1dBdtLGzZ4NLW1PR8dh7beuZ2bmDo9Zhvru9Q8+GXzQ0/9wqL2pNr+wuKO3r6u9Dfbw0VSXW3U1Pyf/CuzJ2Fh3S11WZtbgM8tgT2fvwNDDvq4Hg0/6e7v6Wmq3rN+UlJ3d/XDEMjJ0paCgqr5xaHDgbms7DJkgz97ee7ArBTnXb7XDENh4vTQzuwh8cb+r4+GTZ/29nX0PH7EpCZ2ugs7/nrJNjPgJy2lhOalYiMh4T/QQOgmdxBSKrUnonAN04t99bm7u2NhYjiK45ToVXbp0Cf+7ryoqLS3Ff+2VVa3jY9crilNTkps75nmNzuijhsbbPI0JnUsKOv9n8nYxeEDBzWDFzonU1c5A5+5SP4t2WVddbR2hkyKmUGxNQqdV6G8iIyP7+/sLFVVUVFxSVF1dnTYpHx+f9PR0WweAf+iAVNY8RegkdOqgc0/xQcuQxersnLQb1+nppIgpFFuT0KkInQ2wEv+p8xTBqXlZEf4FFxcX31cUEBBw9OjRsrIyQidF6CR02oHO/ywGv/kfov7tX6d+/es5k5b99VcuvvLw4UNCJ0VModiahE4Leqm6ujr8Xy5QBLLsU5SQkIB/308U4R80AFTXK1AUoZPQqYHOgW+Lq/9EPBVifMr+Z8r/GOyhp5MiplBsTUInRVGETtdB5xeu/sHvPRO/Z5kwYRF/n/p3Kxk6m/xXWb96JGtTJHtYQ1f5N/Himz2mTNTtpPR1TLlda8oXhPzdernYv1isMdn4hE6KInSuTOgcIXTqutJVq3RdJjpRDw8PQqcLMcXKJSSPZQqdjkXoJHRSFKGT0EnotHWIyRrANAmTnXZS/ykFT4baEqtacdxqF1Pk+pxRvdnCNAnstAi1GNAp31FIDYOfNd7uyeh22s6koZWTxt9jKqb5mYOMbYkRbIu0Qu8aCZ0UtRSgE1iDqc9BQUFAHDwOwt/fPzQ0FJCUmpoaGBjY1dWlkhAgD3GOHz+On/C8iMOHD4P5ZEhqbW3F8yJ0pAjK1JEiSFRXADCTnA9UW1urezE92A5l0xW7paVFl9X3U3a4EDof9WvqtrGxUbe0qKenB/Ujh4CeQdU6hjYmBKDrGBq1quNX8DSyGhkZcZwQ09nnDzoNRKQN0vepE+HJHnIvOrGtdni2GCuOiOxgilItE1Uxo3qbagbZYWanRajFhk4zr6Y2TD4T5C+mDa2ipC2xgzNnaveaLyvyxCB0UtRSgE6QTVRUVExMDBbk+fr6lpeXZ2VlrV+/Hu5G9UlkKv+dPHkyOTkZjyRbu3YtQAdcePHiRZAfngiBJX2ImZKSsmfPHjxmCFSkruoDDCHzPkkgTvg15RBELikpgfdODoT3DgQmh2B34C05BESrZtWv6H7//Yf99//f+E1i6KCroPNu411kq+4Ou0DN4HCwYQsBTTY0NMilAoPW1NTggcG2ENOEVVVV8FnKITg6VKOt6iC4UZFVe3u7nJUu4YMHDzIzM+cROqVuc7Lzs3WC+r4r2WTcfaqf1PawyStujN7enE7zapi23nSk6XyLUPPZmrpG1UKnnjo1Taun0sm2M21oB3dtds4czZeVOqWD0ElRSwE6QW/gxezsbPgv4aoEMFVWVr733nsARBAPYFR90Bh8nIAnQNU777wDBATuAFWHh4fhkAMJ4e0MsbGxO3fuhGuzSxGYCVAI7yk2bCFwjgKkuiRhd4BO7EiOhhDs3RYCJAUBNzU1yXEQ4WZVzVBb1+POe487uh933LN0Pfhe/EZXQeffpf5dc93t3p5edY9wauLwgYYojK1U9YrkUqEyweVw+toCjQlBlqhh0KrqKFWzAr+iVm3Vog7cIyt4cx0kVB3S8wmdtg7K1uFpEMe8s9X+Qui07xvTdv8zqTczALHfItQiezql1tEPHZiDoHwBmvq5DbEdnjmETkInRS0dTycecIvXKABfzpw5k5iYGB8ff+rUKbzoCxsIB9zAu5aUlBQeHo6vwcHBIFR8hRNUHvxFPro5nWAvsKkcglFm45g4gFL3AF1QlG5apOrwk0OGB4c2Z8Wtq0zfcC17fY3Vtt0o/FrMp2L4kEug83+l/cDyUEvnt9oHBjRBwEFAsxyCCgFY68bEgYm6egBAAxzlEBwdjlEOwRg9stLNbTUmxCOK5xU6DTM5TZ1tsvRDvIROB5hiB0Cd8nQK8/mf/L+4NKHTcHk47ek0TvTUZuzEmUPoJHRS1BKBTtXZqT7pFrQEXxq8birfYNAcw+XYBbxuYKDriizKCiE1vpzJAi8kGuzr/xcFZ0V/hhjInrQCcXmDGHINdP63hP+SWZFd2FJSeGfCYvIie/u75TIs+4VEshfFOMZnZ26YziFD6HSMKbbqmlG9WZ8jYMQGTuNc+tCppULdmjzjfFzzhrYLnfbOHEInoZOilg50ukQLD51/UR4lLOXCck1YahRrECmbxaC/S6Dzzy6Jr2aKP60Qf1JutT8tF39wXlxrr1p50Kmbj2Z39bp2KttEgL8HoXMaTNFMm3W+3jRrmqdrEWqRoVNuLbsD7lIke08psDOnc9ozh9BJ6KQoQudcobMsUoxdFZYqYalUrFYkb3IVdH4lTbz4UPyNRbyoGDa+lCfK2qpXCHRS84cpLpCRW4mX7tuabGhCJ0UROlc6dKaK7/aI/2wR31UMG3+YJcoJndRSwBTjAiSyyLKETjY0oZOiCJ2ETkIntbiY4sRzlyj3h042NKGTogidhE5CJ7VkMYVia1KETooidBI6lzx0UhRFLWMROilnhf54fPxZd9P46Agrg9BJ6KSnk74xiq1J0dNJzY+ej8JK488+HbzPyiB0EjoJncQUiq1JLTR0jinCu/jUr+q7QMYVsZKXn86Fhum6YUInoZPQSegkplBsTWreoROvfs5SVFxcfFMRXhWN96nkK0K4+m4VV2tcMWoRhDcxEjoJnYROQicxhWJrUoROitBJ6CR0EjopYgpbk1p20Nnf339ZUXZ2dqqiurq69PT0HEXoApOSkoaGhtTIGILX9W2zAs7nD65nw8YeDcDYjoROQiehk9BpX3yJytLAlJX67sNl0ppsviUCnX19ffGK4NRMV5Sbm1tSUjKkKCgo6OjRo/hq695sUz/nAp2JF87Chgfuw9iOC6zoi5GsBEInoXO+oXPikdT6bk59x/OMIFL3uvCVCqD63k77jnRX4YT2Te2aCie1zE9rahtyzlWsedO6lJszzadrfWo+oBN9VZWi2tpaFTRBnw8fPnyiCP1BTU0NwNS1JQ8Nj4ANDQ3D2I4zVV9vr69/wOHjZw4Fnp6Fvbdm/YEjQbNIiD3u8zuKPnvRjnz8uWV8zGqETkKnW0DnqlX6l+6h5/Pw8Jg1dBJTTGBwkltcQgsOsIPQOX/QOdmWLmhI+XKRsyN0LhHoXBRFKFIZl+04U924Vv3LD712nivcEpQxC9t9rmBLcOYsEu48m//qp/5JyYt2SQ7dvT7QUAIjdBI63QM6PZK1wGgSJrt5pO5uKniVv7+HubNNSjoZZtvBMnznn1S3JvwgkYuWHAwMoq0x5Wd/tcKs9wi69yXKezK+xdvVblZCp+7l6GaVrGdU/UmuveSmGm265uPbMgmdlLnqa69/sDMoILHeL6ZyIS0goXaNd2hGZuZiHXhNeUlBZgqM0EnodBfoNDCPNkjuCHXYJEcxi5/sYdLzqh3nxJdl5pmbqlsz1JAC7UGnaY2pgK6FEd3wuhl02mk4ygWeTlOvp/xlMpJ5xRvu6YyXg8OceQdB6KS0amyo//uf/eZXn+57bc2ehbRffbL37//xvYyMjMU68PKKyozMLBihcxbQ2dHe/qi/Xw55fv/BXy44dFZ1XJfL0Nfb19nRuZyhU+tqUfo/W6+o7zQnfzCCj+NphVPx7Tv5lhOmmNbC9NBpWmP6vJyCTnsNR80WOoXRyagHQLmSldkVq8xZ3xDPcO3Yz5nQuVyh84KiYUVsx1l4Ot/betQ/tto3omQhzT+m6v3dpxfR01lRUaE+3ovQOQvobGxuTq6pyb99O6+5GVZw+3ZazbU/vxImnpcuGHR+MUsU1lc9HbA8Hniu2HhLU3t7+7L2dE51drauTQOdOk1SqRPQabaQZmVA5yw9naY1NmvoNGs4aq6eTokTHbeM4qE25UPNQiInBtrt37RRSw86J1Z1zNjCQs7CHg0OwGaRXLGVK8zpfP2T/V4R5ZhkOQvbG3F119mCWST0Ci99c+Ox5JSUxTpwQudcoDPr2rU/KCsVzc1Tdv26KAlfSOj8d9ni3azvb7v+s43VP4ZtvvaT1Vl/V9yYubyh0zCTUwOdZl2cM55OPX6uJOic3ZxO8xqbNXSSTeYHOm3VPI2nU52Ja9IK9s56ejrdGjq7OjvWbNi22TsAtnGP/0zt7Q82wjbsPACbRfLNXkfWfLartLRsZbZ7d3fX1t0+Xn7HPQ8cm4W988H6XT6HZ5HQ6+DxLbv3Odk9EzqXGnRmX7v2z1tbhMJJEzbwQJRdWLDhddh3ssTLd8Ub4+K151Z747n4H00iuTZ0mUOn/ulJ2j7Ozgih6SxNc+iUnD4rBDrVWtGBytSB612SBuiUoptBp6l7zDApkL7N+fV0Gmde6q8C86Xu00On/ZzZrksWOhtqr7+1we9A7A2Yd3jpTO1AdDVsb0QZbBbJ90fXeOw8l5DEG5LZKPJCmGV81B1LvpShE8wXGRnZ2toK0Dl58uSlS5ewkZeXd/78+QcPHtjiYCpzaGgofiovLz99+nRXV5cMSUBMHx8fOVtQFChTDhkcHEQ03d6BmHI+Vnf4jRsjIyNySM6NG1+806zg5rhiFtHXu8DQ+a0s8Xq7eN8iViuGjR80ifT6KLmcqBxQNT41/3AaGnT1AEDXrYvCey50a5LGxsaQlY5fjQnLysrmGTp1vaPd1evCbJ21RzK2zYbXpTXq8PmsLOi0mA5xa7FzIkTnJ9bXmMFpOpnvTFavc3R9rtBp50Gd0lC5Zp6mozVcTkCnnZwNrU8tHei82VD3260Bh+NvwA5ElS2wHYq7tsY7LDUtnefALOS+byRastCJ9XAnTpy4ePEi5ijjfQp4w0JCQsKOHTtAM3jVQmJiouqGBG4iDt4uu2XLlqKiIrx4NjY2Fm2BFy6AI+GBA6R6enoi5OGk4OEDdz6UBK7CO8PkENAYdgRHoByIkJ6eHtvXocHBlCtXvnj71qJD52tt4rcW4aEYNn5wS8SWnx0aGLYVFUQIBMSnfDh4kDDqAcCtfsUGnLu3b9+2RUBIS0sL3tmL2rAFAkORFfyacjRdQrQd2oivwXQ/6LSYYwVHR5dLa1KETkInoZPQaQadlZWVR44cQcHgcfT29sZjgKqrq1evXg1Ogi8zOjoaLjdECwwMREww0G9+8xsVHOEcxd7xK176hffQwg8KVAU+IqF1fU1HB/IBjGKjXRE2mpqaQGDtkhAZ/ApslaMhBGhlC+np7Lycn/+lJeDpNEJnRNGJ3rb7alHxCXZELcFDaSt8Z2cnRsABlNhQQ1CrcBXjfRa2EGygSgGUtmpBcjiekRVG2G1ZGROCbpOTkwmdxBSKrUkROgmdhM4pXauuyMvJhC016AQI4kWy8FPCwYnXxmZmZsK76efnV1hYmJaWlpSUBKcjoDAmJgaeTvjVfH198QnKBI/Kg7/AI92cTmCTbXReFVAVWCaHYGAdsKub0wmK0s3pzLl+/YtLEDqbRFqd5r2smBUAXNaNiWN4XVcPqHPUqhyCF6cBIuVpBqgTZKU7240Jl/y71yliCluTInSuVOh8Ptw/NtBJ6JyFQiMit3odgu3aFwDbOUP7eOPu3326FbZz5mlV2+ETEBB4ApzmWugE6MAfmZOTA+jB8C4G0OGMBDbB8QYSBQwhEECJHcEBCcTBT6AoNb6cjxE6XbuQaGlCZ2rtBbmcy2YhEUVModiahE5C51zVXlvaWJhE6JyFdvoc2XQiF+YTWQHbe6F8Rrb/YvWBmBrYTBPabFdo+Sfb9stvb19Rq9cJnQsBnRRFUctYhE5CJ6GT0EnopKeTvjGKrUnR00noJHQSOgmdhE6KmEKxNQmdhM4Zqqq6Oi09w31Pm0WEzl17/d7bcQL26b4w2Cf7QhfY1niHfvz5bsv4c0LnUlpIpHtO56hxIRGhkyKmsDUpQudKhM6amprMxXv/uFtD5w7P/b/e4A97f0eQ1bYfX2Dz2Hr8g3XbCJ1LCjqTqqPGHltsNjww2tRETydFTGFrUssUOtV+F8+1Vr/iicoWZZBL/b+vPmLQCJ3vbzt6JKEOdjC6YoENpPvR3ghCp9tBp+/hE15hV2FHE+pgAZdrF9gOxtVu3XuMw+tLBDrxUqJfNouNcatOZr9xMudV2Kmc1/xSfnI20+/J01FCJ0VMYWtSyw068UKOeEV4PHWjIjxKUOUqCOF45LIJdDbWv71+397QItju01kLbN4hBR5bgwids1NYeNhiQaePf9DOM3kwv+gK2MGL5QtsPhfKN3keJnQuHeh8rUlsrhdBFnFMsUCL2P9InLj60eNhC6FzUsvrbZbEFIqtuZKhEw8RPKEI781TQRMPT8ZnkSJ0gXhTn+r7hPC+PrVva266+b9+/u5bGw7A3lzrvcD263X7f/DqmpTUVELnzDRutciwC4+HFwc6t3n5rT2UCNtxOg+2/VTujGz3ucI9IUWwmSa02abg3DUbvQmdSwc6X20SW+vESYsIVuyERfgPi1NXP10G0DnxFmf9WxnVdz7PCCIJnQZM0b8xXfv6bukX3Xu9+Y5MQie1yNCJ/9RJivAU67RJlZaWPlF09uzZ48ePwwkq93AWZXj9w51BgSm3YIcvXVtgO5Z085P9FxfL09l8q6m4uMgdT5jnA6OwLM9Lw033F6UA0bGXvA8GwvYdClYsaEa2YavnRxu2w2aa0GZwtZ48c97lD4cndBI6zaFz1apVOl4ELXl4eBA6XQmd1i9SBSmcOfmj0gqTv+lRlSJ0UgsOnfgf3aAI/52fKcK/4CeTwqvn0BFiCF6Xyt0XEqGTTkxKTkpOSZy5HT0W6LXXJ3FWaVUrLFokZh0bh90v6hgdfOaOJ3zt9ZqC/FyYC/MkdBI65xE6PZK1wGgSJrviTD10q/z9nYi/cqHThCQl0tRAJ/Gd0EktOnTOTu4Onds9fd/eevLjfRc+2hcxU/tkf9S6g9GzSKjaBz4X3vlo8/joCE/gmaqioiJLEaGT0Oku0KnhHEOQwSk38UVGJWU8Xv5i6sRbsdBpWgtTgfLPmtqmCJ2Ue0HnBzuOH0u+CTsUV7PAdjSxYa1v1Fyg0/fQ8a0nMg9Ele6PvDorm3XCq3svlK7feZDQSegkdK4I6JT4aBI2bdA5GcWic8TpwjXxZcBaWY47c+g0HTLXQqdN9HISOik3hc7G+tofv73hU/842Ec+ETO19X4xMDgarb7GmSf/9GDMy+97JiTO/rVAO/b4/NRjyxsfe77+0Z4FtlfWeL79/ifjY6M8gQmdhM4VAJ02LLIhorxhWA6j5VQjdOq04qHTeU8nZ3QSOim3hU7004lJSQlJyVZLnLF9tnET7GJ0LGwWybHTywmJXV1dsy7//iPBO8/kH4qt9o+pWmDbH1392e5D9HQSOgmdKwQ6DTM55+TpXLnYNOc5nSttPgKhkyJ0EjoJnYROQuc00HmmbItFu9StuandjaFT//QkB3M6JaecHMV8WQyhc6p2pVpRJsGaT3yls5PQSbkndM5Rl+JiYYtYAN/DQdtOZuNp4Qu/CsonsnzDLj9CJ6FzXqGzvrZWfjIUVNxQ/yV3gM4jT4RX/Dej0lfHFU5YbMHqkEuf4YnCbguduiUsmqmY6nM7DUPlUyPpHsnYNl+9LriQyKxS5KX9OkwndRI6qZUInRGKhhQROilCp8uhM/9qeXlF9Y0bdarV3qg7nZT8z5ublj50Hn4k/PNEcqvI7BPpimX1icCEr7e19bgXdFKLiikafydF6KQInYROitA5X9DpFZX8JxFlf3b5xlcuWe2rl2/8UXDSF5rcADoPDYvjpaL8ibhuETWK1VpESPb/Tehkh8e6ZWtShE5CJ6GT0LnkoHNHZLK4OiJuWMQ1xeotIrFe3Gp2C+gMvCquDotqi6hUDMU/n0XoZIfHumVrUoROQiehk9C59KBzV1SyKBy0Ilu5YnAYxl8jdBI6iSkUW5MidBI6KbeHzv7+/p4eKxhdvHgxOzsbG2VlZfHx8TL0JCcnX758GRu1tbXR0dF4zaycQ0tLiw46W1tbdXEGBwcRTbdrrFV//vy5HLJ72UFnR4dmIVFTU5Na23L9t7e3yyFjY2O3b99++vSp44SlpaWuhE6KoqhlLHeEzrCocNjQ4+Eh3eP4CJ2UG0InvGvgGPAiPI64mwJNRkVFHTx4sKCgAIiZnp6uuiFjY2PPnj2bmJjo6+ubl5enAigebAReRPLOzk7Qj5eX18jICIr0WBHccng02GNJ3d3djY2Ncggio2YAo7aQJ48fb7+QKIqWFXQ2NbUqRzYhYCKIXK4HuDnhKrZVHfTw4UM84BMwKkfTJUT9o5no6aRvjGJrUsvT0zn+ZOyy/0XYw5Z+GKGTcnfo7Ojo2LVr1/vvvx8cHOzn54fRW9Dn6tWrgUFgRDAoXG6IduzYsaqqKowCv/3224AhYGJkZCT2jl/z8/NTUlLOnz+/Y8cOPBvoriKwUWVlZUNDAzZsISBO1MNdSXB8FhYWYsxdjYa/nvbWTefjRPHQ8oBOrCg6n/3/lJXWdHZ0q4eMCgegw78L16YagqoGOFZXV9uqBbWBOikvL4drE7/aS4gGwm0AoZOYQrE1qeUKnc/rT5XBHrc8hBE6KXeHTnjLQDanT5+GLxOfIMjU1FRgKPgG2xhhh7MNJBoeHo7tkpKSbdu2AROxAehUH+EOZyfcpQBKb2/vcUmgIqSVQzDaDpaSQ5AWjIv5i7YQuF53RS634fXW1nvKkU0IPmDwolwP8BYDLtWaVAWfMeZ0on3laLqEqPwrV64QOokpFFuTWp7QadXwuNXGdY+vJnRSbgmdqrDiB9ADuMS4eVFREegQK1SwDacanJd1dXX4xFB7Tk4OYsLlCQcbUFXOARMQZ7GQCAJ0qs5Um5bfQqL29l75AI3rgVC9qH85BLMaAJ26NzMZE7p4TicvVGIKxdYkdFKETndXZUVldlY2bGlC59zF1etcvU4RU9iaFKGT0EnoJHQSOgmdhE5iCsXWJHQSOgmdhE5C5zKGzuz/2tk5KB9gc3PrPe2Tj5biu9dN3sSovmt98nXg1m8r6f3pLsEU7Zvsp8Kcf+klq53QSS0idHYpwnND+hTFxMSgq7syKXSEhE5C51JQfXxl2ak8mAunAhM63QI6z6Z951pNdV9va2+P1bBRVprf3dW+1KFz1apVOrgB7nh4eJB45oYpVmjUIKYhgCJ0UksTOrHYM04RnmhdqQhLHNLS0tIV+fj44NM2Ex//0HXrFQidhM4F0/DN+wMV3TAX5knodItHJoUm/F5KzD8tKfqnVwqsho2Qk/9X883cpQ6dHsnJGsA0hEmwZPtNFbHUEaboIFPzdcLFLLuZlRr397CFTRffflvYiawPowidhE47wn/ko4rwqBfVtYmFt8XFxQ8UqT9hdaete9O9+ITQSeh0axE6lz50ouyx2eJ+p1L2SbtaJJqbspc+dFpk6jQG6aDTxjf03E2DKZoKkr8ke0zWreJqnqpOuUKlBKbx7bWFPCw/kVDet5QDRegkdNrVoCI80uW+oqSkJAyyP1GEXhD/kTH4vsyqjtBJETrdCDpjskR3i1L2McUsoigP0JnjBtApUckkbDrydEpYRHxxhClaFDStq6ka1TO8OdNPxbfTFsZkesxksxE6CZ0UoZMidBI6Fws6bagiswuhc86YItevXFXyaLdwAjrN4tuHTl2jaBNzXgShk9BJETopQiehcxGh0zCTk9DpEkyZ8DJqa0qPk9NBp3n8GXk6OQ2C0EnoJHROo/1HgnedKzx86fqhuGsztcOXrDaLhKodiL3++Z5DhE5CJ6FzpUCn/ulJhE7XYIrZ8wF0EzBnAp1SfHttYZzTyWmchE5CJ6Fzem339P315uNr9oZ96B06U/vYJ3yt74VZJFTtfa+wdz7aND76jK1A6CR0rgzo1D1ZktDpIkxRYV7naZTWnGO9+vTD62bx7bfF1Hi6SRBH1wmdhE7KVFg1hYdCpaVnzMKOnwzee2Df7NKqhk6OTUDodCF01tWCmTQPL/WMTiF08o1ExBSKrUkROt1bLaU3y+OLWA+EzqUDnaWlZYO93U8H+ibsQd+2kFhRROgkdBJTKLYmReh0Z3Xl3b4VWePCl+JQhM65QCew80dbL6zanfX9/YXf97Xa3/rm/7vPToorQ6KK0EnoJKZQbE2K0Om+ejpuGXrOaiB0LhnofP6X65KF/7gIsojjigHftqaJ4mXu6Wxrr5JrYfiJpau7h9BJTKHYmhShk6IInfMFnd/akCT8n2qhM3l5Q2dxnkgK9yhL31uWYbXyjL1Z0TvrqvMXHzopiqKWsQidFEXoXGnQWZglioLF3XhxN9ZqrQmi8JAoz/STp73Q00nfGMXWpOjppChCJ6FzTtBZkCnuJFrLa6lRrE60XxLXC48ROokpFFuTInRSFKGT0OlK6GyKF5ZqYSlXrEbciRbXCgidxBSKrUkROimK0EnoJHRSxBSKrUnopChC51ygE3SYlZU1PDyMbWxUVFRgo76+Pi8vT35X0JUrV/Lz87EBcEQ0HQ/dvn1bB52tra0PHjyQQx4+fNjS0qLd+TihU4XO64WBcr2g5lGlT548kQObmpp6enrkkNLSUkInMYVia1KETopyA+js6urKycmJjY0FR0ZGRp47d+78+fNnzpzJzMwMCwvLzc0dGxtDtPT09MDAwIiIiJMnTyImNlJTU58+fYoF16BV0CTeZunt7Q1UejYpOOpASM8k9fX1AZueafT0m+sTCZ2AzqrcIyPPpmoPLdvY2IiKlSsLdwIdHR1ySHFxMaGTmCJpLu8g5ftLCZ2Ezun0VJHNH6N6X54rYiVThM5poVO9duDFBOL4+Phg9Bb46OHh0d7e3t3dffHiRTVCQEBAVVUVqPGtt94C+gwNDV24cAF7B5KCWRMSEs6ePbtjxw485Bx+ULgz4T2FxxQxsdGiCBsNDQ3l5eUtk8Iv/d3tf73+sjg0ssKhE2vYcy/73L7bq1YXPuHmLCsrw3i6rQLx9HgMpqN14EJWQ3DDkJiYOF/vXje+GXziVd/kkjliiu2N6VINa9+YvnSgU/tydjH7MloP2mHBdDUwbXxCJ7Xw0AnczFMEf0yDIvSR+MxVlJGRgW1WNUXodACduIiio6Pj4+OR1eHDhzFcC0fmxo0bq6urAT1xcXFwtmEuJjygKSkp4M5169aVlJQAfQCd6j0ecsAoMNDHy8sLN3ujkwJ9gkFHJfX398P9KYdYxse+/VkyPZ3wdFbnH3s2Om6rGVQppskODg7aQsD3uDHo7OzEhhqC2i4qKpov6Fy1apWu1wcH4HaE0DknTFEobhKukj0mK3MpQ+dUmILL89T+LqsBQic1b9Bpc2fiP2+qInhWwJoqdGKGGRww+K9tiyxPUKMoQieE4dqQkBDAJYASfjVsADrhVMP0TYy5YzRc9X0iBGCKSwyON0AnOLWmpkbOZ7ZzOrmQaHJOZ8ExuV7wzwqArpvTiQZamDmdKgBoGcQYJnnBJmhBRhQtrrDDM6U4ozdx4jdj3U41gCaiNvIqf3+HDaRypb/HVJi9tPaKa92/xj+r24Pmdym5vXS6QtgOzJiPHe+wWYUQOqn5gU5I9XRizK5CESaioUccVnTixImjR4/iqxoTk8845k4ROk01MjKizt3Ep3qZ4HpRQ2ySQ3Q/Wbh6fXmtXp/wOukJUxOk9dLpt4mc9jBF5SczuJtiLNO61SSUmEyuatkVaZqJimgabjNLax86pT3LXGhOl7od27jU3pmjG16XDlCT5cQXexVC6KQInRS1pKFz7iJ0zhU6r5yW6wVQf7ulbZGhUwsYSu9uOnqr4QVlMt4qIqcjTJn0zk3Vkd3B5akf9Fw6kdoIa44ayOhAdJzWPnTqf7ElntqFHmmNBygVwC506qvGzpEv4CooQiehk9BJEToJne4Lna2XRMbZ1fVFiTeL424WxzYVx93IjSrNS378+MmiQqet65eJQnZNma4wUZDKTabnLQ50Sk47yY0pVZlZ3dphLB3NTdNA2tj20zoHnTrpnI6GexGNt1KYTM0whU49rtoiEjqphYZOQKQ6lRO4+VARpnJiXe0TRVjaiX/Hum6PogidiwidtwmdZtDZkiiKN4qWzeLutgm7tV4UHHv94aOxxYVOw0xOU9bR04U6a5DYOS2m2HFjmtftDD2d5pnM2dNpy8DBwh/1J0N57YzK09NJuZOnk6IIne4CnbgtvN/brkv4Xaxe91vxw+uXxQ1PYTmulP2E9XPUX5Sd+vXA8GJDp/7pSWZMI3s2NX4wYqcBU1Av2sXgkqfT9oN53dpjLF0uwmEDGX2bplNG7UCn7Jt1NG138ukH03ku5TNHl52jOZ2m3mFCJ0XopChCp6Te3j6fo4n+p3OPnMtXLeBszr/6IEYcGyV0Xtsjxo8KS5CCnkHiyQFReuqtJQCdOnyUunZp2TAcm5rR+GmYZEV7OuWxZZMV6FPEqKtbB4w1laXiX3TQQMaplXbSmpXWyKTaXw1Ho/NPyncuhoKZ1YDWTyocz4MldFKETooidErq7Oj6k5fyxcsD4tVJ++V98W6CCB4hdC4p6KSIKRRbk9BJUZQbQ2dXZ/dXf1Yh3rSIdybtbRBckgji8Dqhk5hCsTUpQidFETpdB53/8uflWuh8TugkdBJTKLYmReikKEInoZPQSRFTKLYmoZOiCJ2ETkKnC6GToihqGYvQSVGETkInPZ30jVFsTYqeTooidBI6Fwc6y069NfhYfh+7panpFqGTmEKxNSlCJ0UROgmdLoPOpwdE8VmPe08tIxbLU8WeWSx1t+4QOokpFFuTInRSFKFTA50dHW0Wy2M55Onj+//6HyvEG4TO6aHzWYBI+/CFvI0/q979cuWun8Ku7Xw5fvs7ba1thE5iCsXWpAidFEXonNK1azcjwqqiIm7YLPhYwR/9uES8Reh0Yng9UJT8Utz7P+LJL8STf1TsZZH9yteamu4QOokpFFuTInRSFKFzSjGXKsUfl4sv1ok/tFmR+N9XrbxG6JwWOo+J0jfF4GtKqd9V7Dei8Dd/1XSrhdC5/DBF+0bH5aoFfFMloZMidFLUioLOS/GVv//vW8W3LVZ2U+0798UPK6zIRuh0DjoHXlVw8x3F3hYFhM7lgCnSi8Tl946vTOjUhFlrZmZYOuuKm/muCJ2EThP19fXh84mi8fHx0dFRVjVF6FwY6PT13SeHJCRW/f7XGsVfW6zcqdo3u8UPywmds4TOt0Th6m/dvT8kV3JlfT2h062g00pJNkxK9pjgHkKnrmbmHTpddgtBrVTorFMUHR1dVVWVoSguLq62tpZVTRE6FwA6m5qadu3aNjo6/OTJA9jos4HIqILf//ObhE6XQedqkfPDr8Sv/7zMe69q5d57wzZuvH79OqHTvaDT6GGT2EnjglNATOsV1WCWNbLxixrF5lCVd2eSoTZUJkBjcn1srafWbI9TkVf5+zuATs2R6GFyikyVLX91P6tWTR2LLWNnD1Den6ODJXQSOu0oTxEenpyVlXVFEQb7YmNjVd8n9Pz5czo+KUKnM3r69GlJSUlycnJ3d7caMjAwkJqampmZiY2amprExEQ8EQmDCbYkra23v/rVNV//y1v/6T/egH39P934l//msvh6h/iOBJ3f6hM/qrby2ruT9hvgW4o4MWZltxOKYWN7mrj62MprVYrdsIjEOtGigtukDdwXVReFpUJYrlmpzWoNIm2reHxYWE4r3AkLERm/FfffFJb3FO6EvS+aXhZ3vmllTcuLiv2NGP6uqPhn4rmVNW32ZxnixfvibyzixUn7dq54vUu8r+Am7D2LeP2O2H5TnJIKfvipCK4Q5U/FdQU3a5Syx+WKvnZN2a/kijuJwnJdAWbYDdGWJOq8hOWYgspB1s/R46LyV2JYntO5RhT+lbjyT0THn4qOLyv2RZH27T++Ue/UrTWhc2lA5wTh6OBmkrG0g756MFJ/kXisyd9j1SojjWp2IWcybYZO+A9t3lmZn+3tUUZsBUnNoTPZQOIOoNNAkzq21KCkBOGG/Uq1NTNnKa8UQqdFmdsEoS8sKyt7quj8+fPHjx9H32mLI/eRs9aYonFFbMcFFut8YaATV01ubm5paenly5dxtiMkIiIC0Hnt2rU9e/bgQquursaoAiax4CeAaWdne0XZFSE2CtEhRKtibUIkii+XiT9vE/+6VbE28aeV4nvJ4uVW8ZM28RPl88d3xZtRYk+z8GwTnq1W29P2h2tCRUyDSGoXCW1WS+4QJzJEUbHovSfudVutt0fcuCESj4k7CaItWbQmWa0tXYSsFnWbRJuXaN1jtfZ9IuyXovr/iPafidafWq395yLnb0X+n4m2PxatirV9WdT+sYj9grilFFkte7v4kzDxlWrx5Xbx5VbFOsWfR4r/XSp+3iF+2mq1n3WI/y9H/DZLHOwR+2H3xIFesatZbI8TcfUipU0ktlotpUOcjRY1JaK9TbTesVpnh4iNEAUnRAcKftlqHanWr2lrRben6PER9/aK3n3izh6R+ENR+wPRjoL/xGqdvxRxfyFK/kj0vCC6vma1vn8lEr/1leqqSkKnG0HnFDrpPJoe/lr00vtEbeQlezSt7kUTFjUlNnsZGse1nRzp1mKunT1K2dgZXjdzMTqCTrlgmnh6fLR/gHronBl18kohdBI6CZ2EThdCJzya5eXlbW1tMTExKnTiUgKDdnR0vPvuu5hEiAGEyMhI7B2jBwUFBeDR8LDQV375q4jorNALabCwqPS1a3f6eJ0NC08PDU2FYePg/rA167aHRKeGxqSFxlg/z0cl//CVN09ExYUlpocmpIYmpmHjl6+9eSwyNjwzPzQtFxaeWfC5r9+u4OCwrJzQzCxYeFaOX8SF97dsPZcUH5qWHJqahM+w9OQfv/GLgIjT4RnxoalxsIishJd//cr+0/7hGRdDUy/AIjIvfuazbYvfltC0k6GpJ2Dh6ScDIv0+2vHxqctBYelnQ1PPwCKyQv7x1z/yOb33fMb5s6lnYGE5oa94/Mz72O7IrIjwtFDYhayI7Qe27t63KT4rFHYpMzQ+OywsNmjD5+9HRB9PzAhLSAuFpeREfvzBa8HHPTOzIlLTQmE5uVFrP3jjoNemrJQLqQmhsKyUiAC/HV471mUkhGYmWS0rOSz+4smta9+/EHwkIyY8FcW/GJoTH/nx228c2LQpK+JCakgoLDcy6uO33kq4fJnQ6WbQKaHdFJ3ZH5gWxqHhiSFpsBKiWb/IwOUAAc0ztP00tXtjiHm5HEKnDhHtz+k0gN+soNPBj4bD0cS1f7CETkKnPamLh9AvAjfV7YcPH96+fXt4eNiFxcZU0RRFdxS5V52jNsDlAAV3nOpapQg1jxkU7lXy+vp6IFphYeE9RZiB5yp0nj/orKiowDSV/Pz8tLQ0oCco89KlSwkJCbijO3TokDp9BSG41qb+vzc1eXnu1NwHluR3d2mWWt/v7ygqyNbdR5w/fcLy7IkcFHL29JMBzauMctJSaisq5JCh3t6CzCzLc01eYafPPXkwKIdEnAvt7+iRQ66VVjVd1/Qsgz2DlyIvaR9jbwk/F9Hf0S+HxFyIbWnSPJi9tqahplJzKT199DwzI294UDONZ+9ev8rKOjkkLi655lqDHFLXcLukrFqT1ZglM7egf1DTvnGJyTUNjXLIqZAQNASh0y2hU6KiiQ2NL9LBsK8KYRM+TpU6EWTH42fP72iery6GIUQ/Qu8CT6eZN9Klnk6z0hsP1TyM0EnoXFSFhIQUKupU5F51joVWAQEBQDeU3+0cnOriMGBQQ0ODexW+ubkZDvjw8PBYRcC1pe/phHcTA+g5OTm4c3vw4AHur0ZGRlD5cGo+e/YMfIn50729vXKS9vb2c+fOTduOxnnVyHDa8mC8AtU4bTRkpQN6Y4iR+HGDisNRpwrINaCLhpJjXrgujjGaMQQzE3R3SsZKQM6me5y28PAxFxUVETrdBjon/JJTkKOjM5m9zNcc2XDKw2OVjZ88PDycIDYHGdrjXEOIBGbKyLhD6JTnqJrOZdWAoWZCq2742xF06tyzxkmrZodjBpjOzu7klULoJHQSOgmdLoROx4K/FgcFnuvq6sJJ1djYqC7XQzPhJ3h2USr8BJ8uYAvYOqPMMUMUUIus4GGFSx7bKo0hBIP7CMHG4OCg6j92PltkgpzBdo8fP8YphLL19/djLRQKj0IODQ3Z9o4QtVYRzbaOyrFAh3hilIrF2EbJVTpUdyG3FzJX88QIDOI74/O21SqS4F32aoWD+HEstqKqam1tRTHUBkJ81BKhc8lBp3Z02tSrKbOXdihbQigJ+HRfHCCgnQyl54ZKRGZcAi7v2rYc3TF0yjv0SNYQt93SaY5KTWjf02kYGZeKrgFY/eFofZ52D5bQSegkdBI6CZ2LCJ2ASPgdscBIXVeERvH29sa0FtVliPH3pKQkOER37dp18OBBhOscoo4F9+rRo0exhunixYsY08cufH19VSIEQmGmKQb9g4ODgYzZ2dm4GJ2/BpHJtm3bAHw4hZADsgKiVVZWorSenp7qVBkAIo4L01gRJzQ0FD9duHABS/WnzRxZIQkmkaN9UaRXX30VRAjXLyYn2J5nBBjF0wAwFI4aw2EiPurKmZKDkjHbARNLkDkqHDXg5+eHsqHwqGfb9CFkePr0aUSLiopSHy+AZ8YhLaFzqUEnxdakCJ0rAjrRY6GjwiGkp6e7HXSWKwJqoHN1r8Jj4iPwC2fLeUVOosaShU5VgYGB4B5swNkGSpN/wjHiJxAPIA/bM/J0AlJBTmCmdevWWZRRdQzx236FbxVQhbMXbku4J7HhfOZIEhYWBl8p7gHAtSdPnmxpsc43xdg0AFSNg+saGAcwBewGBQWBFw8fPgzudOb8BNTiqEGT4LxNmzapVbR58+YzZ86ork0UANCJXYBEP//88x07doB91TI4I3An5gCAZeFCBn3i8LEX3EPangyPm0nQMxhdPRxUI9qF0ElModialBtDJ/qkJEW3FblXnYN7MCKpDom63QmjPvwfzAEHktsVXvXONivCcy7dGjrhucSJhNFbPDIJOIVP1ZeJY8QGRpbhL0QgHLogKjgOAdwzyh845e/vD2BCPli0hDMWrIlGx3mLlUzqMiyAO24/ZrRGEMyHPFEklBmOSXUhFDZQVOQDHy32i0AwLryeCATOYhsY58yqO2QLz6LqLoVHduvWrSgk0uI2D/NcwZ0Y78ZeAKbAWbDm9u3b1SX/+/fvnzZzZAjXL/gbh4CZtSgbcgOd478Q6BxM3KsISI3Jo2BQwCgqDWcafpJPNkInMYViaxI63Qw6KWrpaFGgEwwEXx1wENyJOYvqwDo8cCBC/ARPHgZ/4XUDJh45cgQ+RTgXZ5Q/6A35WxS/o7r+Bu46eOiBU1u2bIFvD/5CjCBjTB+uROc9nWA+UCBG7cFh8MIeO3YMfIxCoqgW5dH3YDjEwV0Nyo+JpDiWU6dOIY4zmcMHDxcjigRnJJLAwQncROYAbiAmGBF7wXRMcDO+4hOMiJpBHTpTOSgbUnl5eYEpsagLD6BAbYNfUVQ4YlFFyA0eVuwF0cDr8D0XFxfjKFBp8oolQicxhWJrEjoJndQKFRx4wALwiik4OoNTizW8DjceXG72frU9RwkHaFyRPa0c5Izc4JJUQUp9Fq/zD59CTCRX02LD3pJ526Fhw5ll9TYhZ8Cxbb25euDISl7wjm3b0Y0qcr7wOHBdzRhbwZY/fpKfZjUD6KQoilrGInRSK1YYPsaUR0AnBk/hWoMHCz6tLEWYwIe5BOoUDnxVH/CJ0Vg4F2XMWlLvXqeWuAidFEUROgmd1AoVJhRiOQtWSWM8FKu7sLwdI9TqMjWsFMGcxXRFGJkNV4RtLHyWnVuETspl0ElRFLUSReikVoaw+gTLYrAoB05NzFPEXEasxYlRhNl7mCtZpAgkmqcIbIqVLnOBzoSC66z2FStj6xM6KYoidBI6qRUhdZahZXKKIRaaYHXIOUVYNKP+Ctmec2l8aQ0mEZqv4LZzER2NLkwraaCtTEPrEzopiqKm7y/7KWrZCZSJxcjqJ2ZzYuUQnnSj/oSl0w8mhe37itSv2LDl0NPTY77shndulBMidFIUReg06S+fUtTK0Igi5yNzuIAidFIURbkSOimK4kVEETopiqLYX1IULyKK0ElRFMX+kqJ4EVEUoZOiKIr9JUXxIqIInRRFUewvKYoXEUXopCiKYn9JURQvIorQSVEUxf6SongRUYROiqIoiqIoasXp/wepxS2xNgbJCQAAAABJRU5ErkJggg==)<br>\n",
        "\n",
        "**Categorical Variables:** For categorical variables, we’ll use frequency table to understand distribution of each category.<br>\n",
        "*(https://www.analyticsvidhya.com/blog/2016/01/guide-data-exploration/)*\n",
        "\n"
      ]
    },
    {
      "cell_type": "code",
      "execution_count": null,
      "metadata": {
        "colab": {
          "base_uri": "https://localhost:8080/"
        },
        "id": "MM97aLejt-h4",
        "outputId": "69590e17-3843-4429-91db-709fe57edb9b"
      },
      "outputs": [
        {
          "data": {
            "text/plain": [
              "age               0\n",
              "workclass         0\n",
              "fnlwgt            0\n",
              "education         0\n",
              "education-num     0\n",
              "marital-status    0\n",
              "occupation        0\n",
              "relationship      0\n",
              "race              0\n",
              "sex               0\n",
              "capital-gain      0\n",
              "capital loss      0\n",
              "hours-per-week    0\n",
              "native-country    0\n",
              "dtype: int64"
            ]
          },
          "execution_count": 35,
          "metadata": {},
          "output_type": "execute_result"
        }
      ],
      "source": [
        "#Missing data can occur when no information is provided for one or more items or for a whole unit. Missing data is a very big problem in a real-life scenarios.\n",
        "#Check if there is any missing value with isna() function and sum to count the NaN values\n",
        "main_data.isna().sum()\n",
        "#As a result, there is no missing value result.But without NaN value, we have '?' in our dataset."
      ]
    },
    {
      "cell_type": "markdown",
      "metadata": {
        "id": "-83QAbly4IGe"
      },
      "source": [
        "If we handle missing values of categorical variables, there are 4 main steps as below.\n",
        "\n",
        "\n",
        "1.   Ignore observation.\n",
        "2.   **Replace by most frequent value (Mode).**\n",
        "3.   Develop a model to predict missing values.\n",
        "4.   Treat missing data as just another category.\n",
        "\n",
        "We will choose **second option** for our dataset.\n",
        "\n",
        "\n"
      ]
    },
    {
      "cell_type": "code",
      "execution_count": null,
      "metadata": {
        "colab": {
          "base_uri": "https://localhost:8080/",
          "height": 528
        },
        "id": "OcYtRJG5wNuu",
        "outputId": "9f030474-c1e4-488d-b894-8bd1ca1098e6"
      },
      "outputs": [
        {
          "data": {
            "text/html": [
              "\n",
              "  <div id=\"df-09502935-3403-4641-bd68-aeacfacb0f33\">\n",
              "    <div class=\"colab-df-container\">\n",
              "      <div>\n",
              "<style scoped>\n",
              "    .dataframe tbody tr th:only-of-type {\n",
              "        vertical-align: middle;\n",
              "    }\n",
              "\n",
              "    .dataframe tbody tr th {\n",
              "        vertical-align: top;\n",
              "    }\n",
              "\n",
              "    .dataframe thead th {\n",
              "        text-align: right;\n",
              "    }\n",
              "</style>\n",
              "<table border=\"1\" class=\"dataframe\">\n",
              "  <thead>\n",
              "    <tr style=\"text-align: right;\">\n",
              "      <th></th>\n",
              "      <th>age</th>\n",
              "      <th>workclass</th>\n",
              "      <th>fnlwgt</th>\n",
              "      <th>education</th>\n",
              "      <th>education-num</th>\n",
              "      <th>marital-status</th>\n",
              "      <th>occupation</th>\n",
              "      <th>relationship</th>\n",
              "      <th>race</th>\n",
              "      <th>sex</th>\n",
              "      <th>capital-gain</th>\n",
              "      <th>capital loss</th>\n",
              "      <th>hours-per-week</th>\n",
              "      <th>native-country</th>\n",
              "    </tr>\n",
              "  </thead>\n",
              "  <tbody>\n",
              "    <tr>\n",
              "      <th>20</th>\n",
              "      <td>40</td>\n",
              "      <td>Private</td>\n",
              "      <td>85019.0</td>\n",
              "      <td>Doctorate</td>\n",
              "      <td>16.0</td>\n",
              "      <td>Married-civ-spouse</td>\n",
              "      <td>Prof-specialty</td>\n",
              "      <td>Husband</td>\n",
              "      <td>Asian-Pac-Islander</td>\n",
              "      <td>Male</td>\n",
              "      <td>0.0</td>\n",
              "      <td>0.0</td>\n",
              "      <td>45.0</td>\n",
              "      <td>?</td>\n",
              "    </tr>\n",
              "    <tr>\n",
              "      <th>66</th>\n",
              "      <td>41</td>\n",
              "      <td>Private</td>\n",
              "      <td>109912.0</td>\n",
              "      <td>Bachelors</td>\n",
              "      <td>13.0</td>\n",
              "      <td>Never-married</td>\n",
              "      <td>Other-service</td>\n",
              "      <td>Not-in-family</td>\n",
              "      <td>White</td>\n",
              "      <td>Female</td>\n",
              "      <td>0.0</td>\n",
              "      <td>0.0</td>\n",
              "      <td>40.0</td>\n",
              "      <td>?</td>\n",
              "    </tr>\n",
              "    <tr>\n",
              "      <th>84</th>\n",
              "      <td>44</td>\n",
              "      <td>Self-emp-inc</td>\n",
              "      <td>223881.0</td>\n",
              "      <td>HS-grad</td>\n",
              "      <td>9.0</td>\n",
              "      <td>Married-civ-spouse</td>\n",
              "      <td>Craft-repair</td>\n",
              "      <td>Husband</td>\n",
              "      <td>White</td>\n",
              "      <td>Male</td>\n",
              "      <td>99999.0</td>\n",
              "      <td>0.0</td>\n",
              "      <td>50.0</td>\n",
              "      <td>?</td>\n",
              "    </tr>\n",
              "    <tr>\n",
              "      <th>189</th>\n",
              "      <td>34</td>\n",
              "      <td>State-gov</td>\n",
              "      <td>513100.0</td>\n",
              "      <td>Bachelors</td>\n",
              "      <td>13.0</td>\n",
              "      <td>Married-spouse-absent</td>\n",
              "      <td>Farming-fishing</td>\n",
              "      <td>Not-in-family</td>\n",
              "      <td>Black</td>\n",
              "      <td>Male</td>\n",
              "      <td>0.0</td>\n",
              "      <td>0.0</td>\n",
              "      <td>40.0</td>\n",
              "      <td>?</td>\n",
              "    </tr>\n",
              "    <tr>\n",
              "      <th>254</th>\n",
              "      <td>42</td>\n",
              "      <td>Federal-gov</td>\n",
              "      <td>177937.0</td>\n",
              "      <td>Bachelors</td>\n",
              "      <td>13.0</td>\n",
              "      <td>Never-married</td>\n",
              "      <td>Prof-specialty</td>\n",
              "      <td>Not-in-family</td>\n",
              "      <td>White</td>\n",
              "      <td>Male</td>\n",
              "      <td>0.0</td>\n",
              "      <td>0.0</td>\n",
              "      <td>40.0</td>\n",
              "      <td>?</td>\n",
              "    </tr>\n",
              "    <tr>\n",
              "      <th>306</th>\n",
              "      <td>37</td>\n",
              "      <td>Local-gov</td>\n",
              "      <td>263690.0</td>\n",
              "      <td>Bachelors</td>\n",
              "      <td>13.0</td>\n",
              "      <td>Never-married</td>\n",
              "      <td>Prof-specialty</td>\n",
              "      <td>Unmarried</td>\n",
              "      <td>Black</td>\n",
              "      <td>Male</td>\n",
              "      <td>0.0</td>\n",
              "      <td>0.0</td>\n",
              "      <td>40.0</td>\n",
              "      <td>?</td>\n",
              "    </tr>\n",
              "    <tr>\n",
              "      <th>330</th>\n",
              "      <td>64</td>\n",
              "      <td>Self-emp-not-inc</td>\n",
              "      <td>71807.0</td>\n",
              "      <td>Doctorate</td>\n",
              "      <td>16.0</td>\n",
              "      <td>Married-civ-spouse</td>\n",
              "      <td>Prof-specialty</td>\n",
              "      <td>Husband</td>\n",
              "      <td>White</td>\n",
              "      <td>Male</td>\n",
              "      <td>15024.0</td>\n",
              "      <td>0.0</td>\n",
              "      <td>50.0</td>\n",
              "      <td>?</td>\n",
              "    </tr>\n",
              "    <tr>\n",
              "      <th>404</th>\n",
              "      <td>27</td>\n",
              "      <td>Private</td>\n",
              "      <td>500068.0</td>\n",
              "      <td>HS-grad</td>\n",
              "      <td>9.0</td>\n",
              "      <td>Married-civ-spouse</td>\n",
              "      <td>Other-service</td>\n",
              "      <td>Husband</td>\n",
              "      <td>White</td>\n",
              "      <td>Male</td>\n",
              "      <td>0.0</td>\n",
              "      <td>0.0</td>\n",
              "      <td>36.0</td>\n",
              "      <td>?</td>\n",
              "    </tr>\n",
              "    <tr>\n",
              "      <th>421</th>\n",
              "      <td>65</td>\n",
              "      <td>Private</td>\n",
              "      <td>88145.0</td>\n",
              "      <td>1st-4th</td>\n",
              "      <td>2.0</td>\n",
              "      <td>Married-civ-spouse</td>\n",
              "      <td>Handlers-cleaners</td>\n",
              "      <td>Husband</td>\n",
              "      <td>Other</td>\n",
              "      <td>Male</td>\n",
              "      <td>0.0</td>\n",
              "      <td>0.0</td>\n",
              "      <td>40.0</td>\n",
              "      <td>?</td>\n",
              "    </tr>\n",
              "    <tr>\n",
              "      <th>472</th>\n",
              "      <td>28</td>\n",
              "      <td>State-gov</td>\n",
              "      <td>293628.0</td>\n",
              "      <td>Masters</td>\n",
              "      <td>14.0</td>\n",
              "      <td>Divorced</td>\n",
              "      <td>Prof-specialty</td>\n",
              "      <td>Not-in-family</td>\n",
              "      <td>White</td>\n",
              "      <td>Male</td>\n",
              "      <td>0.0</td>\n",
              "      <td>0.0</td>\n",
              "      <td>10.0</td>\n",
              "      <td>?</td>\n",
              "    </tr>\n",
              "  </tbody>\n",
              "</table>\n",
              "</div>\n",
              "      <button class=\"colab-df-convert\" onclick=\"convertToInteractive('df-09502935-3403-4641-bd68-aeacfacb0f33')\"\n",
              "              title=\"Convert this dataframe to an interactive table.\"\n",
              "              style=\"display:none;\">\n",
              "        \n",
              "  <svg xmlns=\"http://www.w3.org/2000/svg\" height=\"24px\"viewBox=\"0 0 24 24\"\n",
              "       width=\"24px\">\n",
              "    <path d=\"M0 0h24v24H0V0z\" fill=\"none\"/>\n",
              "    <path d=\"M18.56 5.44l.94 2.06.94-2.06 2.06-.94-2.06-.94-.94-2.06-.94 2.06-2.06.94zm-11 1L8.5 8.5l.94-2.06 2.06-.94-2.06-.94L8.5 2.5l-.94 2.06-2.06.94zm10 10l.94 2.06.94-2.06 2.06-.94-2.06-.94-.94-2.06-.94 2.06-2.06.94z\"/><path d=\"M17.41 7.96l-1.37-1.37c-.4-.4-.92-.59-1.43-.59-.52 0-1.04.2-1.43.59L10.3 9.45l-7.72 7.72c-.78.78-.78 2.05 0 2.83L4 21.41c.39.39.9.59 1.41.59.51 0 1.02-.2 1.41-.59l7.78-7.78 2.81-2.81c.8-.78.8-2.07 0-2.86zM5.41 20L4 18.59l7.72-7.72 1.47 1.35L5.41 20z\"/>\n",
              "  </svg>\n",
              "      </button>\n",
              "      \n",
              "  <style>\n",
              "    .colab-df-container {\n",
              "      display:flex;\n",
              "      flex-wrap:wrap;\n",
              "      gap: 12px;\n",
              "    }\n",
              "\n",
              "    .colab-df-convert {\n",
              "      background-color: #E8F0FE;\n",
              "      border: none;\n",
              "      border-radius: 50%;\n",
              "      cursor: pointer;\n",
              "      display: none;\n",
              "      fill: #1967D2;\n",
              "      height: 32px;\n",
              "      padding: 0 0 0 0;\n",
              "      width: 32px;\n",
              "    }\n",
              "\n",
              "    .colab-df-convert:hover {\n",
              "      background-color: #E2EBFA;\n",
              "      box-shadow: 0px 1px 2px rgba(60, 64, 67, 0.3), 0px 1px 3px 1px rgba(60, 64, 67, 0.15);\n",
              "      fill: #174EA6;\n",
              "    }\n",
              "\n",
              "    [theme=dark] .colab-df-convert {\n",
              "      background-color: #3B4455;\n",
              "      fill: #D2E3FC;\n",
              "    }\n",
              "\n",
              "    [theme=dark] .colab-df-convert:hover {\n",
              "      background-color: #434B5C;\n",
              "      box-shadow: 0px 1px 3px 1px rgba(0, 0, 0, 0.15);\n",
              "      filter: drop-shadow(0px 1px 2px rgba(0, 0, 0, 0.3));\n",
              "      fill: #FFFFFF;\n",
              "    }\n",
              "  </style>\n",
              "\n",
              "      <script>\n",
              "        const buttonEl =\n",
              "          document.querySelector('#df-09502935-3403-4641-bd68-aeacfacb0f33 button.colab-df-convert');\n",
              "        buttonEl.style.display =\n",
              "          google.colab.kernel.accessAllowed ? 'block' : 'none';\n",
              "\n",
              "        async function convertToInteractive(key) {\n",
              "          const element = document.querySelector('#df-09502935-3403-4641-bd68-aeacfacb0f33');\n",
              "          const dataTable =\n",
              "            await google.colab.kernel.invokeFunction('convertToInteractive',\n",
              "                                                     [key], {});\n",
              "          if (!dataTable) return;\n",
              "\n",
              "          const docLinkHtml = 'Like what you see? Visit the ' +\n",
              "            '<a target=\"_blank\" href=https://colab.research.google.com/notebooks/data_table.ipynb>data table notebook</a>'\n",
              "            + ' to learn more about interactive tables.';\n",
              "          element.innerHTML = '';\n",
              "          dataTable['output_type'] = 'display_data';\n",
              "          await google.colab.output.renderOutput(dataTable, element);\n",
              "          const docLink = document.createElement('div');\n",
              "          docLink.innerHTML = docLinkHtml;\n",
              "          element.appendChild(docLink);\n",
              "        }\n",
              "      </script>\n",
              "    </div>\n",
              "  </div>\n",
              "  "
            ],
            "text/plain": [
              "    age          workclass    fnlwgt   education  education-num  \\\n",
              "20   40            Private   85019.0   Doctorate           16.0   \n",
              "66   41            Private  109912.0   Bachelors           13.0   \n",
              "84   44       Self-emp-inc  223881.0     HS-grad            9.0   \n",
              "189  34          State-gov  513100.0   Bachelors           13.0   \n",
              "254  42        Federal-gov  177937.0   Bachelors           13.0   \n",
              "306  37          Local-gov  263690.0   Bachelors           13.0   \n",
              "330  64   Self-emp-not-inc   71807.0   Doctorate           16.0   \n",
              "404  27            Private  500068.0     HS-grad            9.0   \n",
              "421  65            Private   88145.0     1st-4th            2.0   \n",
              "472  28          State-gov  293628.0     Masters           14.0   \n",
              "\n",
              "             marital-status          occupation    relationship  \\\n",
              "20       Married-civ-spouse      Prof-specialty         Husband   \n",
              "66            Never-married       Other-service   Not-in-family   \n",
              "84       Married-civ-spouse        Craft-repair         Husband   \n",
              "189   Married-spouse-absent     Farming-fishing   Not-in-family   \n",
              "254           Never-married      Prof-specialty   Not-in-family   \n",
              "306           Never-married      Prof-specialty       Unmarried   \n",
              "330      Married-civ-spouse      Prof-specialty         Husband   \n",
              "404      Married-civ-spouse       Other-service         Husband   \n",
              "421      Married-civ-spouse   Handlers-cleaners         Husband   \n",
              "472                Divorced      Prof-specialty   Not-in-family   \n",
              "\n",
              "                    race      sex  capital-gain  capital loss  hours-per-week  \\\n",
              "20    Asian-Pac-Islander     Male           0.0           0.0            45.0   \n",
              "66                 White   Female           0.0           0.0            40.0   \n",
              "84                 White     Male       99999.0           0.0            50.0   \n",
              "189                Black     Male           0.0           0.0            40.0   \n",
              "254                White     Male           0.0           0.0            40.0   \n",
              "306                Black     Male           0.0           0.0            40.0   \n",
              "330                White     Male       15024.0           0.0            50.0   \n",
              "404                White     Male           0.0           0.0            36.0   \n",
              "421                Other     Male           0.0           0.0            40.0   \n",
              "472                White     Male           0.0           0.0            10.0   \n",
              "\n",
              "    native-country  \n",
              "20               ?  \n",
              "66               ?  \n",
              "84               ?  \n",
              "189              ?  \n",
              "254              ?  \n",
              "306              ?  \n",
              "330              ?  \n",
              "404              ?  \n",
              "421              ?  \n",
              "472              ?  "
            ]
          },
          "execution_count": 36,
          "metadata": {},
          "output_type": "execute_result"
        }
      ],
      "source": [
        "#To see the frequency list of each column to understand which columns include '?' as a value.\n",
        "main_data.loc[main_data['native-country'].str.contains('\\?')].head(10)\n",
        "#main_data['age'].value_counts()\n",
        "#main_data['workclass'].value_counts()\n",
        "#main_data['fnlwgt'].value_counts()\n",
        "#main_data['education'].value_counts()\n",
        "#main_data['education-num'].value_counts()\n",
        "#main_data['occupation'].value_counts()\n",
        "#main_data['relationship'].value_counts()\n",
        "#main_data['race'].value_counts()\n",
        "#main_data['sex'].value_counts()\n",
        "#main_data['capital-gain'].value_counts()\n",
        "#main_data['capital loss'].value_counts()\n",
        "#main_data['hours-per-week'].value_counts()\n",
        "#main_data['native-country'].value_counts()\n",
        "#main_data['result'].value_counts()\n",
        "\n"
      ]
    },
    {
      "cell_type": "markdown",
      "metadata": {
        "id": "RvcxiWns_pLa"
      },
      "source": [
        "The column list has '?' as a value. We can see them with the help of the frequency table.\n",
        "\n",
        "\n",
        "\n",
        "1.   workclass\n",
        "2.   occupation\n",
        "3.   native-country\n",
        "\n",
        "\n",
        "\n",
        "\n"
      ]
    },
    {
      "cell_type": "code",
      "execution_count": null,
      "metadata": {
        "colab": {
          "base_uri": "https://localhost:8080/"
        },
        "id": "L8gWBZLoAE5q",
        "outputId": "039e231b-cef6-4d7f-cc98-47f16bf88b39"
      },
      "outputs": [
        {
          "data": {
            "text/plain": [
              " Private             33906\n",
              " Self-emp-not-inc     3862\n",
              " Local-gov            3136\n",
              " ?                    2799\n",
              " State-gov            1980\n",
              " Self-emp-inc         1695\n",
              " Federal-gov          1432\n",
              " Without-pay            21\n",
              " Never-worked           10\n",
              "Name: workclass, dtype: int64"
            ]
          },
          "execution_count": 37,
          "metadata": {},
          "output_type": "execute_result"
        }
      ],
      "source": [
        "#Let's start with 'workclass'\n",
        "main_data['workclass'].value_counts()\n",
        "#Mode is 'Private' for this column. We will replace ? to Private as we agreed above."
      ]
    },
    {
      "cell_type": "code",
      "execution_count": null,
      "metadata": {
        "colab": {
          "base_uri": "https://localhost:8080/"
        },
        "id": "3-lzz7eY8fvT",
        "outputId": "2dfbf96c-b245-4489-8e30-58c535385abc"
      },
      "outputs": [
        {
          "name": "stderr",
          "output_type": "stream",
          "text": [
            "/usr/local/lib/python3.7/dist-packages/pandas/core/indexing.py:670: SettingWithCopyWarning: \n",
            "A value is trying to be set on a copy of a slice from a DataFrame\n",
            "\n",
            "See the caveats in the documentation: https://pandas.pydata.org/pandas-docs/stable/user_guide/indexing.html#returning-a-view-versus-a-copy\n",
            "  iloc._setitem_with_indexer(indexer, value)\n"
          ]
        }
      ],
      "source": [
        "#Replace '?' to ''Private'.\n",
        "main_data['workclass'].loc[main_data['workclass'].str.contains('\\?')]=' Private'"
      ]
    },
    {
      "cell_type": "code",
      "execution_count": null,
      "metadata": {
        "colab": {
          "base_uri": "https://localhost:8080/"
        },
        "id": "3OCy6JdG87HL",
        "outputId": "d45d12f4-f195-417f-9dbc-cfac79a321d4"
      },
      "outputs": [
        {
          "data": {
            "text/plain": [
              " Private             36705\n",
              " Self-emp-not-inc     3862\n",
              " Local-gov            3136\n",
              " State-gov            1980\n",
              " Self-emp-inc         1695\n",
              " Federal-gov          1432\n",
              " Without-pay            21\n",
              " Never-worked           10\n",
              "Name: workclass, dtype: int64"
            ]
          },
          "execution_count": 39,
          "metadata": {},
          "output_type": "execute_result"
        }
      ],
      "source": [
        "#Check frequency table again to be sure if there is '?', or not.\n",
        "main_data['workclass'].value_counts()"
      ]
    },
    {
      "cell_type": "code",
      "execution_count": null,
      "metadata": {
        "colab": {
          "base_uri": "https://localhost:8080/"
        },
        "id": "H0hnZeMSBLDJ",
        "outputId": "8dbfdf27-3433-409d-ca86-56af87a86d03"
      },
      "outputs": [
        {
          "data": {
            "text/plain": [
              " Prof-specialty       6172\n",
              " Craft-repair         6112\n",
              " Exec-managerial      6086\n",
              " Adm-clerical         5610\n",
              " Sales                5504\n",
              " Other-service        4923\n",
              " Machine-op-inspct    3022\n",
              " ?                    2809\n",
              " Transport-moving     2355\n",
              " Handlers-cleaners    2072\n",
              " Farming-fishing      1490\n",
              " Tech-support         1446\n",
              " Protective-serv       983\n",
              " Priv-house-serv       242\n",
              " Armed-Forces           15\n",
              "Name: occupation, dtype: int64"
            ]
          },
          "execution_count": 40,
          "metadata": {},
          "output_type": "execute_result"
        }
      ],
      "source": [
        "#Now,we will continue with 'occupation'.\n",
        "main_data['occupation'].value_counts()\n",
        "#Mode is 'Prof-specialty' for this column."
      ]
    },
    {
      "cell_type": "code",
      "execution_count": null,
      "metadata": {
        "colab": {
          "base_uri": "https://localhost:8080/"
        },
        "id": "cTJ-dqDBBg86",
        "outputId": "0655458b-ee8a-4c2a-dd13-8a90d83d83a0"
      },
      "outputs": [
        {
          "name": "stderr",
          "output_type": "stream",
          "text": [
            "/usr/local/lib/python3.7/dist-packages/pandas/core/indexing.py:670: SettingWithCopyWarning: \n",
            "A value is trying to be set on a copy of a slice from a DataFrame\n",
            "\n",
            "See the caveats in the documentation: https://pandas.pydata.org/pandas-docs/stable/user_guide/indexing.html#returning-a-view-versus-a-copy\n",
            "  iloc._setitem_with_indexer(indexer, value)\n"
          ]
        }
      ],
      "source": [
        "#Replace '?' to 'Prof-specialty'\n",
        "main_data['occupation'].loc[main_data['occupation'].str.contains('\\?')]=' Prof-specialty'"
      ]
    },
    {
      "cell_type": "code",
      "execution_count": null,
      "metadata": {
        "colab": {
          "base_uri": "https://localhost:8080/"
        },
        "id": "UMCdTLC_B3_6",
        "outputId": "d174fbf5-4320-4112-bf07-54aa4174906d"
      },
      "outputs": [
        {
          "data": {
            "text/plain": [
              " Prof-specialty       8981\n",
              " Craft-repair         6112\n",
              " Exec-managerial      6086\n",
              " Adm-clerical         5610\n",
              " Sales                5504\n",
              " Other-service        4923\n",
              " Machine-op-inspct    3022\n",
              " Transport-moving     2355\n",
              " Handlers-cleaners    2072\n",
              " Farming-fishing      1490\n",
              " Tech-support         1446\n",
              " Protective-serv       983\n",
              " Priv-house-serv       242\n",
              " Armed-Forces           15\n",
              "Name: occupation, dtype: int64"
            ]
          },
          "execution_count": 42,
          "metadata": {},
          "output_type": "execute_result"
        }
      ],
      "source": [
        "#Check frequency table again to be sure if there is '?', or not.\n",
        "main_data['occupation'].value_counts()"
      ]
    },
    {
      "cell_type": "code",
      "execution_count": null,
      "metadata": {
        "colab": {
          "base_uri": "https://localhost:8080/"
        },
        "id": "4u7grF_WBsNx",
        "outputId": "7b11856e-d6fd-4a16-f547-d696597fef9b"
      },
      "outputs": [
        {
          "data": {
            "text/plain": [
              " United-States                 43831\n",
              " Mexico                          951\n",
              " ?                               857\n",
              " Philippines                     295\n",
              " Germany                         206\n",
              " Puerto-Rico                     184\n",
              " Canada                          182\n",
              " El-Salvador                     155\n",
              " India                           151\n",
              " Cuba                            138\n",
              " England                         127\n",
              " China                           122\n",
              " South                           115\n",
              " Jamaica                         106\n",
              " Italy                           105\n",
              " Dominican-Republic              103\n",
              " Japan                            92\n",
              " Guatemala                        88\n",
              " Poland                           87\n",
              " Vietnam                          86\n",
              " Columbia                         85\n",
              " Haiti                            75\n",
              " Portugal                         67\n",
              " Taiwan                           65\n",
              " Iran                             59\n",
              " Greece                           49\n",
              " Nicaragua                        49\n",
              " Peru                             46\n",
              " Ecuador                          45\n",
              " France                           38\n",
              " Ireland                          37\n",
              " Hong                             30\n",
              " Thailand                         30\n",
              " Cambodia                         28\n",
              " Trinadad&Tobago                  27\n",
              " Yugoslavia                       23\n",
              " Laos                             23\n",
              " Outlying-US(Guam-USVI-etc)       23\n",
              " Scotland                         21\n",
              " Honduras                         20\n",
              " Hungary                          19\n",
              " Holand-Netherlands                1\n",
              "Name: native-country, dtype: int64"
            ]
          },
          "execution_count": 43,
          "metadata": {},
          "output_type": "execute_result"
        }
      ],
      "source": [
        "#Now,we will continue with 'native-country'.\n",
        "main_data['native-country'].value_counts()\n",
        "#Mode is 'United-States' for this column."
      ]
    },
    {
      "cell_type": "code",
      "execution_count": null,
      "metadata": {
        "colab": {
          "base_uri": "https://localhost:8080/"
        },
        "id": "SDI84EL5CGHr",
        "outputId": "0cf1534f-c1ac-409d-f3a7-683e49f9a929"
      },
      "outputs": [
        {
          "name": "stderr",
          "output_type": "stream",
          "text": [
            "/usr/local/lib/python3.7/dist-packages/pandas/core/indexing.py:670: SettingWithCopyWarning: \n",
            "A value is trying to be set on a copy of a slice from a DataFrame\n",
            "\n",
            "See the caveats in the documentation: https://pandas.pydata.org/pandas-docs/stable/user_guide/indexing.html#returning-a-view-versus-a-copy\n",
            "  iloc._setitem_with_indexer(indexer, value)\n"
          ]
        }
      ],
      "source": [
        "#Replace '?' to 'United-States'\n",
        "main_data['native-country'].loc[main_data['native-country'].str.contains('\\?')]=' United-States'"
      ]
    },
    {
      "cell_type": "code",
      "execution_count": null,
      "metadata": {
        "colab": {
          "base_uri": "https://localhost:8080/"
        },
        "id": "geI25W7bCVWz",
        "outputId": "46b821ce-41ed-449e-f4d6-5f439a4d8dd0"
      },
      "outputs": [
        {
          "data": {
            "text/plain": [
              " United-States                 44688\n",
              " Mexico                          951\n",
              " Philippines                     295\n",
              " Germany                         206\n",
              " Puerto-Rico                     184\n",
              " Canada                          182\n",
              " El-Salvador                     155\n",
              " India                           151\n",
              " Cuba                            138\n",
              " England                         127\n",
              " China                           122\n",
              " South                           115\n",
              " Jamaica                         106\n",
              " Italy                           105\n",
              " Dominican-Republic              103\n",
              " Japan                            92\n",
              " Guatemala                        88\n",
              " Poland                           87\n",
              " Vietnam                          86\n",
              " Columbia                         85\n",
              " Haiti                            75\n",
              " Portugal                         67\n",
              " Taiwan                           65\n",
              " Iran                             59\n",
              " Greece                           49\n",
              " Nicaragua                        49\n",
              " Peru                             46\n",
              " Ecuador                          45\n",
              " France                           38\n",
              " Ireland                          37\n",
              " Hong                             30\n",
              " Thailand                         30\n",
              " Cambodia                         28\n",
              " Trinadad&Tobago                  27\n",
              " Yugoslavia                       23\n",
              " Laos                             23\n",
              " Outlying-US(Guam-USVI-etc)       23\n",
              " Scotland                         21\n",
              " Honduras                         20\n",
              " Hungary                          19\n",
              " Holand-Netherlands                1\n",
              "Name: native-country, dtype: int64"
            ]
          },
          "execution_count": 45,
          "metadata": {},
          "output_type": "execute_result"
        }
      ],
      "source": [
        "#Check frequency table again to be sure if there is '?', or not.\n",
        "main_data['native-country'].value_counts()"
      ]
    },
    {
      "cell_type": "code",
      "execution_count": null,
      "metadata": {
        "colab": {
          "base_uri": "https://localhost:8080/"
        },
        "id": "0S9iFMlJq78i",
        "outputId": "8fd9aef1-43a4-4881-be1a-68c11f1f29be"
      },
      "outputs": [
        {
          "data": {
            "text/plain": [
              " HS-grad         15784\n",
              " Some-college    10878\n",
              " Bachelors        8024\n",
              " Masters          2657\n",
              " Assoc-voc        2061\n",
              " 11th             1812\n",
              " Assoc-acdm       1601\n",
              " 10th             1389\n",
              " 7th-8th           955\n",
              " Prof-school       834\n",
              " 9th               756\n",
              " 12th              657\n",
              " Doctorate         594\n",
              " 5th-6th           509\n",
              " 1st-4th           247\n",
              " Preschool          83\n",
              "Name: education, dtype: int64"
            ]
          },
          "execution_count": 46,
          "metadata": {},
          "output_type": "execute_result"
        }
      ],
      "source": [
        "#main_data['occupation'].value_counts()\n",
        "#main_data['native-country'].value_counts()\n",
        "#main_data['workclass'].value_counts()\n",
        "#main_data['age'].value_counts()\n",
        "#main_data['race'].value_counts()\n",
        "main_data['education'].value_counts()\n",
        "#main_data['relationship'].value_counts()"
      ]
    },
    {
      "cell_type": "code",
      "execution_count": null,
      "metadata": {
        "colab": {
          "base_uri": "https://localhost:8080/"
        },
        "id": "aRGhez8PCcVq",
        "outputId": "d701146f-fb8e-4afe-acef-e0342f809c49"
      },
      "outputs": [
        {
          "name": "stdout",
          "output_type": "stream",
          "text": [
            "(48841, 14)\n",
            "   age          workclass    fnlwgt      education  education-num  \\\n",
            "1   25            Private  226802.0           11th            7.0   \n",
            "2   38            Private   89814.0        HS-grad            9.0   \n",
            "3   28          Local-gov  336951.0     Assoc-acdm           12.0   \n",
            "4   44            Private  160323.0   Some-college           10.0   \n",
            "5   18            Private  103497.0   Some-college           10.0   \n",
            "6   34            Private  198693.0           10th            6.0   \n",
            "7   29            Private  227026.0        HS-grad            9.0   \n",
            "8   63   Self-emp-not-inc  104626.0    Prof-school           15.0   \n",
            "9   24            Private  369667.0   Some-college           10.0   \n",
            "10  55            Private  104996.0        7th-8th            4.0   \n",
            "\n",
            "         marital-status          occupation    relationship    race      sex  \\\n",
            "1         Never-married   Machine-op-inspct       Own-child   Black     Male   \n",
            "2    Married-civ-spouse     Farming-fishing         Husband   White     Male   \n",
            "3    Married-civ-spouse     Protective-serv         Husband   White     Male   \n",
            "4    Married-civ-spouse   Machine-op-inspct         Husband   Black     Male   \n",
            "5         Never-married      Prof-specialty       Own-child   White   Female   \n",
            "6         Never-married       Other-service   Not-in-family   White     Male   \n",
            "7         Never-married      Prof-specialty       Unmarried   Black     Male   \n",
            "8    Married-civ-spouse      Prof-specialty         Husband   White     Male   \n",
            "9         Never-married       Other-service       Unmarried   White   Female   \n",
            "10   Married-civ-spouse        Craft-repair         Husband   White     Male   \n",
            "\n",
            "    capital-gain  capital loss  hours-per-week  native-country  \n",
            "1            0.0           0.0            40.0   United-States  \n",
            "2            0.0           0.0            50.0   United-States  \n",
            "3            0.0           0.0            40.0   United-States  \n",
            "4         7688.0           0.0            40.0   United-States  \n",
            "5            0.0           0.0            30.0   United-States  \n",
            "6            0.0           0.0            30.0   United-States  \n",
            "7            0.0           0.0            40.0   United-States  \n",
            "8         3103.0           0.0            32.0   United-States  \n",
            "9            0.0           0.0            40.0   United-States  \n",
            "10           0.0           0.0            10.0   United-States  \n"
          ]
        }
      ],
      "source": [
        "#Check main_data again.\n",
        "print(main_data.shape)\n",
        "print(main_data.head(10))"
      ]
    },
    {
      "cell_type": "code",
      "execution_count": null,
      "metadata": {
        "colab": {
          "base_uri": "https://localhost:8080/",
          "height": 729
        },
        "id": "UPJDAkQt9xFm",
        "outputId": "f760d7ed-ede6-4968-aebe-040a15116a5c"
      },
      "outputs": [
        {
          "data": {
            "text/plain": [
              "array([[<matplotlib.axes._subplots.AxesSubplot object at 0x7f2133e99390>,\n",
              "        <matplotlib.axes._subplots.AxesSubplot object at 0x7f2133e61b50>],\n",
              "       [<matplotlib.axes._subplots.AxesSubplot object at 0x7f2133e1c7d0>,\n",
              "        <matplotlib.axes._subplots.AxesSubplot object at 0x7f2133e4fd90>],\n",
              "       [<matplotlib.axes._subplots.AxesSubplot object at 0x7f2133e144d0>,\n",
              "        <matplotlib.axes._subplots.AxesSubplot object at 0x7f2133dcbb90>]],\n",
              "      dtype=object)"
            ]
          },
          "execution_count": 48,
          "metadata": {},
          "output_type": "execute_result"
        },
        {
          "data": {
            "image/png": "[encoded data removed]",
            "text/plain": [
              "<Figure size 1080x720 with 6 Axes>"
            ]
          },
          "metadata": {},
          "output_type": "display_data"
        }
      ],
      "source": [
        "#Plot a histogram for each numerical attribute in the main_data\n",
        "main_data.hist(bins=30, figsize=(15, 10))"
      ]
    },
    {
      "cell_type": "code",
      "execution_count": null,
      "metadata": {
        "colab": {
          "base_uri": "https://localhost:8080/",
          "height": 602
        },
        "id": "ba0gDP229wx4",
        "outputId": "bb33b036-053b-4d67-efdd-1959e15d6f48"
      },
      "outputs": [
        {
          "data": {
            "image/png": "[encoded data removed]",
            "text/plain": [
              "<Figure size 1080x720 with 1 Axes>"
            ]
          },
          "metadata": {},
          "output_type": "display_data"
        }
      ],
      "source": [
        "#Plot a boxplot for each numerical attribute in the main_data.\n",
        "#Boxplot for 'fnlwgt'.\n",
        "boxplot = main_data.boxplot(column=['fnlwgt'],figsize=(15, 10),boxprops=dict(color='red'))"
      ]
    },
    {
      "cell_type": "code",
      "execution_count": null,
      "metadata": {
        "colab": {
          "base_uri": "https://localhost:8080/",
          "height": 592
        },
        "id": "GozzSXi0HMhI",
        "outputId": "71628368-c8f5-463e-864b-000cff4f04b3"
      },
      "outputs": [
        {
          "data": {
            "image/png": "[encoded data removed]",
            "text/plain": [
              "<Figure size 1080x720 with 1 Axes>"
            ]
          },
          "metadata": {},
          "output_type": "display_data"
        }
      ],
      "source": [
        "#Boxplot for 'education-num'.\n",
        "boxplot = main_data.boxplot(column=['education-num'],figsize=(15, 10),boxprops=dict(color='green'))"
      ]
    },
    {
      "cell_type": "code",
      "execution_count": null,
      "metadata": {
        "colab": {
          "base_uri": "https://localhost:8080/",
          "height": 592
        },
        "id": "zbU1dcYnHMci",
        "outputId": "64145a13-8737-4a57-ee26-20c5a14484a1"
      },
      "outputs": [
        {
          "data": {
            "image/png": "[encoded data removed]",
            "text/plain": [
              "<Figure size 1080x720 with 1 Axes>"
            ]
          },
          "metadata": {},
          "output_type": "display_data"
        }
      ],
      "source": [
        "#Boxplot for 'capital-gain'.\n",
        "boxplot = main_data.boxplot(column=['capital-gain'],figsize=(15, 10),boxprops=dict(color='blue'))"
      ]
    },
    {
      "cell_type": "code",
      "execution_count": null,
      "metadata": {
        "colab": {
          "base_uri": "https://localhost:8080/",
          "height": 592
        },
        "id": "OXSq3Sp9HMU3",
        "outputId": "ea24e692-7fca-47fa-ea8b-758b3597e5bb"
      },
      "outputs": [
        {
          "data": {
            "image/png": "[encoded data removed]",
            "text/plain": [
              "<Figure size 1080x720 with 1 Axes>"
            ]
          },
          "metadata": {},
          "output_type": "display_data"
        }
      ],
      "source": [
        "#Boxplot for 'capital loss'.\n",
        "boxplot = main_data.boxplot(column=['capital loss'],figsize=(15, 10),boxprops=dict(color='red'))"
      ]
    },
    {
      "cell_type": "code",
      "execution_count": null,
      "metadata": {
        "colab": {
          "base_uri": "https://localhost:8080/",
          "height": 592
        },
        "id": "ukcB3LaxHMLP",
        "outputId": "150ba299-3dd4-4d74-cfd0-ecc0fe02ca90"
      },
      "outputs": [
        {
          "data": {
            "image/png": "[encoded data removed]",
            "text/plain": [
              "<Figure size 1080x720 with 1 Axes>"
            ]
          },
          "metadata": {},
          "output_type": "display_data"
        }
      ],
      "source": [
        "#Boxplot for 'hours-per-week'.\n",
        "boxplot = main_data.boxplot(column=['hours-per-week'],figsize=(15, 10),boxprops=dict(color='green'))"
      ]
    },
    {
      "cell_type": "markdown",
      "metadata": {
        "id": "ubL1M6GHP_Mc"
      },
      "source": [
        "# **Four Outlier Detection Techniques**\n",
        "\n",
        "1.   **Numeric Outlier**<br>\n",
        "This is the simplest, nonparametric outlier detection method in a one dimensional feature space. Here outliers are calculated by means of the IQR (InterQuartile Range).The first and the third quartile (Q1, Q3) are calculated. An outlier is then a data point x_i that lies outside the interquartile range. Using the interquartile multiplier value k=1, the range limits are the typical upper and lower whiskers of a box plot.\n",
        "\n",
        "2.   Z-Score\n",
        "3.   DBSCAN\n",
        "4.   Isolation Forest\n",
        "\n",
        "For our dataset, we will interpret boxplots & histograms and apply the first one, Numeric Outlier.\n",
        "\n",
        "\n"
      ]
    },
    {
      "cell_type": "code",
      "execution_count": null,
      "metadata": {
        "id": "9k8-r8clUXWT"
      },
      "outputs": [],
      "source": [
        "#Write a function to calculate IOR for each numerical attribute and show skewness\n",
        "def detection_outlier(dfcolumn):\n",
        "#Calculate Q1, Q3 and IQR\n",
        " Q1 = dfcolumn.quantile(0.25)\n",
        " Q3 = dfcolumn.quantile(0.75)\n",
        " IQR = Q3-Q1 #Interquartile range\n",
        "#In general, constant should be 1.\n",
        " lower  = Q1-1*IQR\n",
        " higher = Q3+1*IQR\n",
        "#Find number of outliers for specific column\n",
        " print('Before data preprocessing:')\n",
        " print('Skewness:',dfcolumn.skew())\n",
        " print(dfcolumn.describe())\n",
        " dfcolumn.loc[(dfcolumn> higher) | (dfcolumn< lower)]=dfcolumn.mean()\n",
        " print('After replacing outliers by mean:')\n",
        " print('Skewness:',dfcolumn.skew())\n",
        " print('Median:',dfcolumn.median())\n",
        " print('IQR value:',IQR)\n",
        " print('Lower,Higher:',lower,',',higher)\n",
        " return"
      ]
    },
    {
      "cell_type": "markdown",
      "metadata": {
        "id": "Mf0vAfWgW9Oi"
      },
      "source": [
        "# **How to handle Outliers?**\n",
        "\n",
        "\n",
        "1.   Set up a filter in your testing tool.\n",
        "2.   Remove or change outliers during post-test analysis.\n",
        "3.  **Change the value of outliers.**\n",
        "4.   Consider the underlying distribution\n",
        "5.   Consider the value of mild outliers.\n",
        "\n",
        "\n",
        "To remove outliers, we will change the value of outliers. Deleting observations is not logical because of amount of the outliers. We also don't know if these are natural outliers or artificials. <br>\n",
        "**Note1:** If the skewness is between -0.5 and 0.5, the data are fairly symmetrical. If the skewness is between -1 and – 0.5 or between 0.5 and 1, the data are moderately skewed. If the skewness is less than -1 or greater than 1, the data are highly skewed.<br>\n",
        "**Sub-result1:** Replacing the values of outliers with median was not effective(Tried).<br>\n",
        "**Sub-result2:** As a second method, we tried to remove outliers from our dataframe by IQR method. It was not efficient.<br>\n",
        "**Sub-result3:** Log transformation was also not effective for outliers.<br>\n",
        "**Sub-result4:** Z-score was also not effective for outliers.<br>\n",
        "**Result:** We found the outliers with the help of IOR method(numeric values) and changed the values of outliers by mean for each column.\n"
      ]
    },
    {
      "cell_type": "code",
      "execution_count": null,
      "metadata": {
        "colab": {
          "base_uri": "https://localhost:8080/"
        },
        "id": "4KS-hfeRVGM6",
        "outputId": "611e0b23-a729-4ed9-f021-e1b79ad797de"
      },
      "outputs": [
        {
          "name": "stdout",
          "output_type": "stream",
          "text": [
            "Before data preprocessing:\n",
            "Skewness: 1.4388862793258443\n",
            "count    4.884100e+04\n",
            "mean     1.896664e+05\n",
            "std      1.056039e+05\n",
            "min      1.228500e+04\n",
            "25%      1.175550e+05\n",
            "50%      1.781470e+05\n",
            "75%      2.376460e+05\n",
            "max      1.490400e+06\n",
            "Name: fnlwgt, dtype: float64\n",
            "After replacing outliers by mean:\n",
            "Skewness: 0.15564508961150672\n",
            "Median: 178147.0\n",
            "IQR value: 120091.0\n",
            "Lower,Higher: -2536.0 , 357737.0\n"
          ]
        },
        {
          "name": "stderr",
          "output_type": "stream",
          "text": [
            "/usr/local/lib/python3.7/dist-packages/pandas/core/indexing.py:670: SettingWithCopyWarning: \n",
            "A value is trying to be set on a copy of a slice from a DataFrame\n",
            "\n",
            "See the caveats in the documentation: https://pandas.pydata.org/pandas-docs/stable/user_guide/indexing.html#returning-a-view-versus-a-copy\n",
            "  iloc._setitem_with_indexer(indexer, value)\n"
          ]
        }
      ],
      "source": [
        "detection_outlier(main_data['fnlwgt'])"
      ]
    },
    {
      "cell_type": "code",
      "execution_count": null,
      "metadata": {
        "colab": {
          "base_uri": "https://localhost:8080/"
        },
        "id": "Fzkf_r4rZOCy",
        "outputId": "a491d86a-c8dc-4837-98c9-daeae87671ad"
      },
      "outputs": [
        {
          "name": "stdout",
          "output_type": "stream",
          "text": [
            "Before data preprocessing:\n",
            "Skewness: 11.894554083731773\n",
            "count    48841.000000\n",
            "mean      1079.045208\n",
            "std       7452.093700\n",
            "min          0.000000\n",
            "25%          0.000000\n",
            "50%          0.000000\n",
            "75%          0.000000\n",
            "max      99999.000000\n",
            "Name: capital-gain, dtype: float64\n",
            "After replacing outliers by mean:\n",
            "Skewness: 3.032809452291708\n",
            "Median: 0.0\n",
            "IQR value: 0.0\n",
            "Lower,Higher: 0.0 , 0.0\n"
          ]
        },
        {
          "name": "stderr",
          "output_type": "stream",
          "text": [
            "/usr/local/lib/python3.7/dist-packages/pandas/core/indexing.py:670: SettingWithCopyWarning: \n",
            "A value is trying to be set on a copy of a slice from a DataFrame\n",
            "\n",
            "See the caveats in the documentation: https://pandas.pydata.org/pandas-docs/stable/user_guide/indexing.html#returning-a-view-versus-a-copy\n",
            "  iloc._setitem_with_indexer(indexer, value)\n"
          ]
        }
      ],
      "source": [
        "detection_outlier(main_data['capital-gain'])"
      ]
    },
    {
      "cell_type": "code",
      "execution_count": null,
      "metadata": {
        "colab": {
          "base_uri": "https://localhost:8080/"
        },
        "id": "tVSUPaqIZN66",
        "outputId": "96aba992-630d-4378-b306-6c576cd7ae5e"
      },
      "outputs": [
        {
          "name": "stdout",
          "output_type": "stream",
          "text": [
            "Before data preprocessing:\n",
            "Skewness: 4.569755567864217\n",
            "count    48841.000000\n",
            "mean        87.504105\n",
            "std        403.008483\n",
            "min          0.000000\n",
            "25%          0.000000\n",
            "50%          0.000000\n",
            "75%          0.000000\n",
            "max       4356.000000\n",
            "Name: capital loss, dtype: float64\n",
            "After replacing outliers by mean:\n",
            "Skewness: 4.2956796240515205\n",
            "Median: 0.0\n",
            "IQR value: 0.0\n",
            "Lower,Higher: 0.0 , 0.0\n"
          ]
        },
        {
          "name": "stderr",
          "output_type": "stream",
          "text": [
            "/usr/local/lib/python3.7/dist-packages/pandas/core/indexing.py:670: SettingWithCopyWarning: \n",
            "A value is trying to be set on a copy of a slice from a DataFrame\n",
            "\n",
            "See the caveats in the documentation: https://pandas.pydata.org/pandas-docs/stable/user_guide/indexing.html#returning-a-view-versus-a-copy\n",
            "  iloc._setitem_with_indexer(indexer, value)\n"
          ]
        }
      ],
      "source": [
        "detection_outlier(main_data['capital loss'])"
      ]
    },
    {
      "cell_type": "code",
      "execution_count": null,
      "metadata": {
        "colab": {
          "base_uri": "https://localhost:8080/"
        },
        "id": "RagrdVa9ZNwZ",
        "outputId": "8f91715c-9c1c-457a-ce7a-842ce354bfaa"
      },
      "outputs": [
        {
          "name": "stdout",
          "output_type": "stream",
          "text": [
            "Before data preprocessing:\n",
            "Skewness: 0.2387451287751267\n",
            "count    48841.000000\n",
            "mean        40.422391\n",
            "std         12.391571\n",
            "min          1.000000\n",
            "25%         40.000000\n",
            "50%         40.000000\n",
            "75%         45.000000\n",
            "max         99.000000\n",
            "Name: hours-per-week, dtype: float64\n",
            "After replacing outliers by mean:\n",
            "Skewness: 1.470243153320307\n",
            "Median: 40.0\n",
            "IQR value: 5.0\n",
            "Lower,Higher: 35.0 , 50.0\n"
          ]
        },
        {
          "name": "stderr",
          "output_type": "stream",
          "text": [
            "/usr/local/lib/python3.7/dist-packages/pandas/core/indexing.py:670: SettingWithCopyWarning: \n",
            "A value is trying to be set on a copy of a slice from a DataFrame\n",
            "\n",
            "See the caveats in the documentation: https://pandas.pydata.org/pandas-docs/stable/user_guide/indexing.html#returning-a-view-versus-a-copy\n",
            "  iloc._setitem_with_indexer(indexer, value)\n"
          ]
        }
      ],
      "source": [
        "detection_outlier(main_data['hours-per-week'])"
      ]
    },
    {
      "cell_type": "code",
      "execution_count": null,
      "metadata": {
        "colab": {
          "base_uri": "https://localhost:8080/"
        },
        "id": "vNuFLtmLZTG5",
        "outputId": "4fc5383c-81e7-4eb1-f38f-b574ce086cb0"
      },
      "outputs": [
        {
          "name": "stdout",
          "output_type": "stream",
          "text": [
            "Before data preprocessing:\n",
            "Skewness: -0.3164944195509983\n",
            "count    48841.000000\n",
            "mean        10.078029\n",
            "std          2.570965\n",
            "min          1.000000\n",
            "25%          9.000000\n",
            "50%         10.000000\n",
            "75%         12.000000\n",
            "max         16.000000\n",
            "Name: education-num, dtype: float64\n",
            "After replacing outliers by mean:\n",
            "Skewness: 0.3819504898778172\n",
            "Median: 10.0\n",
            "IQR value: 3.0\n",
            "Lower,Higher: 6.0 , 15.0\n"
          ]
        },
        {
          "name": "stderr",
          "output_type": "stream",
          "text": [
            "/usr/local/lib/python3.7/dist-packages/pandas/core/indexing.py:670: SettingWithCopyWarning: \n",
            "A value is trying to be set on a copy of a slice from a DataFrame\n",
            "\n",
            "See the caveats in the documentation: https://pandas.pydata.org/pandas-docs/stable/user_guide/indexing.html#returning-a-view-versus-a-copy\n",
            "  iloc._setitem_with_indexer(indexer, value)\n"
          ]
        }
      ],
      "source": [
        "detection_outlier(main_data['education-num'])"
      ]
    },
    {
      "cell_type": "code",
      "execution_count": null,
      "metadata": {
        "colab": {
          "base_uri": "https://localhost:8080/",
          "height": 615
        },
        "id": "omyw3lgHZctG",
        "outputId": "c167a0ee-21e0-42c9-900c-5b59594f91fc"
      },
      "outputs": [
        {
          "name": "stdout",
          "output_type": "stream",
          "text": [
            "Duplicate Rows :\n"
          ]
        },
        {
          "data": {
            "text/html": [
              "\n",
              "  <div id=\"df-6699464c-0a60-4298-85af-f303f0a69e75\">\n",
              "    <div class=\"colab-df-container\">\n",
              "      <div>\n",
              "<style scoped>\n",
              "    .dataframe tbody tr th:only-of-type {\n",
              "        vertical-align: middle;\n",
              "    }\n",
              "\n",
              "    .dataframe tbody tr th {\n",
              "        vertical-align: top;\n",
              "    }\n",
              "\n",
              "    .dataframe thead th {\n",
              "        text-align: right;\n",
              "    }\n",
              "</style>\n",
              "<table border=\"1\" class=\"dataframe\">\n",
              "  <thead>\n",
              "    <tr style=\"text-align: right;\">\n",
              "      <th></th>\n",
              "      <th>age</th>\n",
              "      <th>workclass</th>\n",
              "      <th>fnlwgt</th>\n",
              "      <th>education</th>\n",
              "      <th>education-num</th>\n",
              "      <th>marital-status</th>\n",
              "      <th>occupation</th>\n",
              "      <th>relationship</th>\n",
              "      <th>race</th>\n",
              "      <th>sex</th>\n",
              "      <th>capital-gain</th>\n",
              "      <th>capital loss</th>\n",
              "      <th>hours-per-week</th>\n",
              "      <th>native-country</th>\n",
              "    </tr>\n",
              "  </thead>\n",
              "  <tbody>\n",
              "    <tr>\n",
              "      <th>865</th>\n",
              "      <td>24</td>\n",
              "      <td>Private</td>\n",
              "      <td>194630.000000</td>\n",
              "      <td>Bachelors</td>\n",
              "      <td>13.0</td>\n",
              "      <td>Never-married</td>\n",
              "      <td>Prof-specialty</td>\n",
              "      <td>Not-in-family</td>\n",
              "      <td>White</td>\n",
              "      <td>Male</td>\n",
              "      <td>0.0</td>\n",
              "      <td>0.0</td>\n",
              "      <td>35.000000</td>\n",
              "      <td>United-States</td>\n",
              "    </tr>\n",
              "    <tr>\n",
              "      <th>3234</th>\n",
              "      <td>18</td>\n",
              "      <td>Private</td>\n",
              "      <td>161245.000000</td>\n",
              "      <td>11th</td>\n",
              "      <td>7.0</td>\n",
              "      <td>Never-married</td>\n",
              "      <td>Other-service</td>\n",
              "      <td>Own-child</td>\n",
              "      <td>White</td>\n",
              "      <td>Male</td>\n",
              "      <td>0.0</td>\n",
              "      <td>0.0</td>\n",
              "      <td>40.422391</td>\n",
              "      <td>United-States</td>\n",
              "    </tr>\n",
              "    <tr>\n",
              "      <th>6051</th>\n",
              "      <td>21</td>\n",
              "      <td>Private</td>\n",
              "      <td>189666.430786</td>\n",
              "      <td>Some-college</td>\n",
              "      <td>10.0</td>\n",
              "      <td>Never-married</td>\n",
              "      <td>Prof-specialty</td>\n",
              "      <td>Own-child</td>\n",
              "      <td>White</td>\n",
              "      <td>Female</td>\n",
              "      <td>0.0</td>\n",
              "      <td>0.0</td>\n",
              "      <td>40.000000</td>\n",
              "      <td>United-States</td>\n",
              "    </tr>\n",
              "    <tr>\n",
              "      <th>9487</th>\n",
              "      <td>23</td>\n",
              "      <td>Private</td>\n",
              "      <td>189666.430786</td>\n",
              "      <td>Bachelors</td>\n",
              "      <td>13.0</td>\n",
              "      <td>Never-married</td>\n",
              "      <td>Exec-managerial</td>\n",
              "      <td>Not-in-family</td>\n",
              "      <td>White</td>\n",
              "      <td>Male</td>\n",
              "      <td>0.0</td>\n",
              "      <td>0.0</td>\n",
              "      <td>40.422391</td>\n",
              "      <td>United-States</td>\n",
              "    </tr>\n",
              "    <tr>\n",
              "      <th>9820</th>\n",
              "      <td>20</td>\n",
              "      <td>Private</td>\n",
              "      <td>189666.430786</td>\n",
              "      <td>Some-college</td>\n",
              "      <td>10.0</td>\n",
              "      <td>Never-married</td>\n",
              "      <td>Other-service</td>\n",
              "      <td>Own-child</td>\n",
              "      <td>White</td>\n",
              "      <td>Female</td>\n",
              "      <td>0.0</td>\n",
              "      <td>0.0</td>\n",
              "      <td>40.422391</td>\n",
              "      <td>United-States</td>\n",
              "    </tr>\n",
              "    <tr>\n",
              "      <th>10232</th>\n",
              "      <td>39</td>\n",
              "      <td>Private</td>\n",
              "      <td>189666.430786</td>\n",
              "      <td>HS-grad</td>\n",
              "      <td>9.0</td>\n",
              "      <td>Married-civ-spouse</td>\n",
              "      <td>Craft-repair</td>\n",
              "      <td>Husband</td>\n",
              "      <td>White</td>\n",
              "      <td>Male</td>\n",
              "      <td>0.0</td>\n",
              "      <td>0.0</td>\n",
              "      <td>40.000000</td>\n",
              "      <td>United-States</td>\n",
              "    </tr>\n",
              "    <tr>\n",
              "      <th>10625</th>\n",
              "      <td>22</td>\n",
              "      <td>Private</td>\n",
              "      <td>189666.430786</td>\n",
              "      <td>Some-college</td>\n",
              "      <td>10.0</td>\n",
              "      <td>Never-married</td>\n",
              "      <td>Craft-repair</td>\n",
              "      <td>Own-child</td>\n",
              "      <td>White</td>\n",
              "      <td>Male</td>\n",
              "      <td>0.0</td>\n",
              "      <td>0.0</td>\n",
              "      <td>40.000000</td>\n",
              "      <td>United-States</td>\n",
              "    </tr>\n",
              "    <tr>\n",
              "      <th>11190</th>\n",
              "      <td>37</td>\n",
              "      <td>Private</td>\n",
              "      <td>52870.000000</td>\n",
              "      <td>Bachelors</td>\n",
              "      <td>13.0</td>\n",
              "      <td>Married-civ-spouse</td>\n",
              "      <td>Exec-managerial</td>\n",
              "      <td>Husband</td>\n",
              "      <td>White</td>\n",
              "      <td>Male</td>\n",
              "      <td>0.0</td>\n",
              "      <td>0.0</td>\n",
              "      <td>40.000000</td>\n",
              "      <td>United-States</td>\n",
              "    </tr>\n",
              "    <tr>\n",
              "      <th>11213</th>\n",
              "      <td>29</td>\n",
              "      <td>Private</td>\n",
              "      <td>36440.000000</td>\n",
              "      <td>Bachelors</td>\n",
              "      <td>13.0</td>\n",
              "      <td>Never-married</td>\n",
              "      <td>Adm-clerical</td>\n",
              "      <td>Not-in-family</td>\n",
              "      <td>White</td>\n",
              "      <td>Female</td>\n",
              "      <td>0.0</td>\n",
              "      <td>0.0</td>\n",
              "      <td>40.000000</td>\n",
              "      <td>United-States</td>\n",
              "    </tr>\n",
              "    <tr>\n",
              "      <th>12176</th>\n",
              "      <td>18</td>\n",
              "      <td>Private</td>\n",
              "      <td>189666.430786</td>\n",
              "      <td>Some-college</td>\n",
              "      <td>10.0</td>\n",
              "      <td>Never-married</td>\n",
              "      <td>Adm-clerical</td>\n",
              "      <td>Not-in-family</td>\n",
              "      <td>White</td>\n",
              "      <td>Female</td>\n",
              "      <td>0.0</td>\n",
              "      <td>0.0</td>\n",
              "      <td>40.000000</td>\n",
              "      <td>United-States</td>\n",
              "    </tr>\n",
              "  </tbody>\n",
              "</table>\n",
              "</div>\n",
              "      <button class=\"colab-df-convert\" onclick=\"convertToInteractive('df-6699464c-0a60-4298-85af-f303f0a69e75')\"\n",
              "              title=\"Convert this dataframe to an interactive table.\"\n",
              "              style=\"display:none;\">\n",
              "        \n",
              "  <svg xmlns=\"http://www.w3.org/2000/svg\" height=\"24px\"viewBox=\"0 0 24 24\"\n",
              "       width=\"24px\">\n",
              "    <path d=\"M0 0h24v24H0V0z\" fill=\"none\"/>\n",
              "    <path d=\"M18.56 5.44l.94 2.06.94-2.06 2.06-.94-2.06-.94-.94-2.06-.94 2.06-2.06.94zm-11 1L8.5 8.5l.94-2.06 2.06-.94-2.06-.94L8.5 2.5l-.94 2.06-2.06.94zm10 10l.94 2.06.94-2.06 2.06-.94-2.06-.94-.94-2.06-.94 2.06-2.06.94z\"/><path d=\"M17.41 7.96l-1.37-1.37c-.4-.4-.92-.59-1.43-.59-.52 0-1.04.2-1.43.59L10.3 9.45l-7.72 7.72c-.78.78-.78 2.05 0 2.83L4 21.41c.39.39.9.59 1.41.59.51 0 1.02-.2 1.41-.59l7.78-7.78 2.81-2.81c.8-.78.8-2.07 0-2.86zM5.41 20L4 18.59l7.72-7.72 1.47 1.35L5.41 20z\"/>\n",
              "  </svg>\n",
              "      </button>\n",
              "      \n",
              "  <style>\n",
              "    .colab-df-container {\n",
              "      display:flex;\n",
              "      flex-wrap:wrap;\n",
              "      gap: 12px;\n",
              "    }\n",
              "\n",
              "    .colab-df-convert {\n",
              "      background-color: #E8F0FE;\n",
              "      border: none;\n",
              "      border-radius: 50%;\n",
              "      cursor: pointer;\n",
              "      display: none;\n",
              "      fill: #1967D2;\n",
              "      height: 32px;\n",
              "      padding: 0 0 0 0;\n",
              "      width: 32px;\n",
              "    }\n",
              "\n",
              "    .colab-df-convert:hover {\n",
              "      background-color: #E2EBFA;\n",
              "      box-shadow: 0px 1px 2px rgba(60, 64, 67, 0.3), 0px 1px 3px 1px rgba(60, 64, 67, 0.15);\n",
              "      fill: #174EA6;\n",
              "    }\n",
              "\n",
              "    [theme=dark] .colab-df-convert {\n",
              "      background-color: #3B4455;\n",
              "      fill: #D2E3FC;\n",
              "    }\n",
              "\n",
              "    [theme=dark] .colab-df-convert:hover {\n",
              "      background-color: #434B5C;\n",
              "      box-shadow: 0px 1px 3px 1px rgba(0, 0, 0, 0.15);\n",
              "      filter: drop-shadow(0px 1px 2px rgba(0, 0, 0, 0.3));\n",
              "      fill: #FFFFFF;\n",
              "    }\n",
              "  </style>\n",
              "\n",
              "      <script>\n",
              "        const buttonEl =\n",
              "          document.querySelector('#df-6699464c-0a60-4298-85af-f303f0a69e75 button.colab-df-convert');\n",
              "        buttonEl.style.display =\n",
              "          google.colab.kernel.accessAllowed ? 'block' : 'none';\n",
              "\n",
              "        async function convertToInteractive(key) {\n",
              "          const element = document.querySelector('#df-6699464c-0a60-4298-85af-f303f0a69e75');\n",
              "          const dataTable =\n",
              "            await google.colab.kernel.invokeFunction('convertToInteractive',\n",
              "                                                     [key], {});\n",
              "          if (!dataTable) return;\n",
              "\n",
              "          const docLinkHtml = 'Like what you see? Visit the ' +\n",
              "            '<a target=\"_blank\" href=https://colab.research.google.com/notebooks/data_table.ipynb>data table notebook</a>'\n",
              "            + ' to learn more about interactive tables.';\n",
              "          element.innerHTML = '';\n",
              "          dataTable['output_type'] = 'display_data';\n",
              "          await google.colab.output.renderOutput(dataTable, element);\n",
              "          const docLink = document.createElement('div');\n",
              "          docLink.innerHTML = docLinkHtml;\n",
              "          element.appendChild(docLink);\n",
              "        }\n",
              "      </script>\n",
              "    </div>\n",
              "  </div>\n",
              "  "
            ],
            "text/plain": [
              "      age workclass         fnlwgt      education  education-num  \\\n",
              "865    24   Private  194630.000000      Bachelors           13.0   \n",
              "3234   18   Private  161245.000000           11th            7.0   \n",
              "6051   21   Private  189666.430786   Some-college           10.0   \n",
              "9487   23   Private  189666.430786      Bachelors           13.0   \n",
              "9820   20   Private  189666.430786   Some-college           10.0   \n",
              "10232  39   Private  189666.430786        HS-grad            9.0   \n",
              "10625  22   Private  189666.430786   Some-college           10.0   \n",
              "11190  37   Private   52870.000000      Bachelors           13.0   \n",
              "11213  29   Private   36440.000000      Bachelors           13.0   \n",
              "12176  18   Private  189666.430786   Some-college           10.0   \n",
              "\n",
              "            marital-status        occupation    relationship    race      sex  \\\n",
              "865          Never-married    Prof-specialty   Not-in-family   White     Male   \n",
              "3234         Never-married     Other-service       Own-child   White     Male   \n",
              "6051         Never-married    Prof-specialty       Own-child   White   Female   \n",
              "9487         Never-married   Exec-managerial   Not-in-family   White     Male   \n",
              "9820         Never-married     Other-service       Own-child   White   Female   \n",
              "10232   Married-civ-spouse      Craft-repair         Husband   White     Male   \n",
              "10625        Never-married      Craft-repair       Own-child   White     Male   \n",
              "11190   Married-civ-spouse   Exec-managerial         Husband   White     Male   \n",
              "11213        Never-married      Adm-clerical   Not-in-family   White   Female   \n",
              "12176        Never-married      Adm-clerical   Not-in-family   White   Female   \n",
              "\n",
              "       capital-gain  capital loss  hours-per-week  native-country  \n",
              "865             0.0           0.0       35.000000   United-States  \n",
              "3234            0.0           0.0       40.422391   United-States  \n",
              "6051            0.0           0.0       40.000000   United-States  \n",
              "9487            0.0           0.0       40.422391   United-States  \n",
              "9820            0.0           0.0       40.422391   United-States  \n",
              "10232           0.0           0.0       40.000000   United-States  \n",
              "10625           0.0           0.0       40.000000   United-States  \n",
              "11190           0.0           0.0       40.000000   United-States  \n",
              "11213           0.0           0.0       40.000000   United-States  \n",
              "12176           0.0           0.0       40.000000   United-States  "
            ]
          },
          "execution_count": 60,
          "metadata": {},
          "output_type": "execute_result"
        }
      ],
      "source": [
        "#Find duplicates in dataframe\n",
        "duplicate = main_data[main_data.duplicated()]\n",
        "pd.set_option(\"display.max_rows\", None)\n",
        "print(\"Duplicate Rows :\")\n",
        "duplicate.head(10)"
      ]
    },
    {
      "cell_type": "code",
      "execution_count": null,
      "metadata": {
        "colab": {
          "background_save": true
        },
        "id": "VJLBpcBLc52D"
      },
      "outputs": [],
      "source": [
        "#Drop dublicates\n",
        "main_data.drop_duplicates()\n",
        "#print(main_data.head(10))"
      ]
    },
    {
      "cell_type": "code",
      "execution_count": null,
      "metadata": {
        "colab": {
          "background_save": true
        },
        "id": "y56fT3mmSUzf",
        "outputId": "b7eaa0a2-ab47-400d-d91f-1e4d77737142"
      },
      "outputs": [
        {
          "data": {
            "text/plain": [
              "array([[<matplotlib.axes._subplots.AxesSubplot object at 0x7f213346d950>,\n",
              "        <matplotlib.axes._subplots.AxesSubplot object at 0x7f2133423a90>],\n",
              "       [<matplotlib.axes._subplots.AxesSubplot object at 0x7f212c1f2210>,\n",
              "        <matplotlib.axes._subplots.AxesSubplot object at 0x7f2129b0f810>],\n",
              "       [<matplotlib.axes._subplots.AxesSubplot object at 0x7f212a467e10>,\n",
              "        <matplotlib.axes._subplots.AxesSubplot object at 0x7f212c24f450>]],\n",
              "      dtype=object)"
            ]
          },
          "execution_count": null,
          "metadata": {},
          "output_type": "execute_result"
        },
        {
          "data": {
            "image/png": "[encoded data removed]",
            "text/plain": [
              "<Figure size 1080x720 with 6 Axes>"
            ]
          },
          "metadata": {},
          "output_type": "display_data"
        }
      ],
      "source": [
        "#boxplot = main_data.boxplot(column=['fnlwgt'],figsize=(15, 10),boxprops=dict(color='red'))\n",
        "#boxplot = main_data.boxplot(column=['capital-gain'],figsize=(15, 10),boxprops=dict(color='blue'))\n",
        "#boxplot = main_data.boxplot(column=['capital loss'],figsize=(15, 10),boxprops=dict(color='red'))\n",
        "#boxplot = main_data.boxplot(column=['education-num'],figsize=(15, 10),boxprops=dict(color='red'))\n",
        "#boxplot = main_data.boxplot(column=['hours-per-week'],figsize=(15, 10),boxprops=dict(color='green'))\n",
        "main_data.hist(bins=30, figsize=(15, 10))"
      ]
    },
    {
      "cell_type": "markdown",
      "metadata": {
        "id": "VHCNPgLQ7_05"
      },
      "source": [
        "# ● Bivariate analysis / Checking for correlations <br>\n",
        "**Note**: Bivariate analysis is one of the simplest forms of quantitative (statistical) analysis. It involves the analysis of two variables (often denoted as X, Y), for the purpose of determining the empirical relationship between them. <br>\n",
        "*(https://en.wikipedia.org/wiki/Bivariate_analysis)* <br>\n",
        "\n",
        "Correlation varies between -1 and +1.\n",
        "\n",
        "*   -1: perfect negative linear correlation\n",
        "*   +1:perfect positive linear correlation\n",
        "*   No correlation\n",
        "\n",
        "Correlation can be derived using following formula:\n",
        "\n",
        "\n",
        "*   **Correlation = Covariance(X,Y) / SQRT( Var(X)* Var(Y))**\n",
        "\n",
        "\n",
        "\n"
      ]
    },
    {
      "cell_type": "markdown",
      "metadata": {
        "id": "1wI0DXKn09OP"
      },
      "source": [
        "Features with high correlation are more linearly dependent and hence have almost the same effect on the dependent variable. So, when two features have high correlation, we can drop one of the two features."
      ]
    },
    {
      "cell_type": "code",
      "execution_count": null,
      "metadata": {
        "colab": {
          "background_save": true
        },
        "id": "c7heLrXN0I96",
        "outputId": "4ee688b6-0cde-4fec-c434-5d5d6480d62e"
      },
      "outputs": [
        {
          "name": "stderr",
          "output_type": "stream",
          "text": [
            "/usr/local/lib/python3.7/dist-packages/ipykernel_launcher.py:3: SettingWithCopyWarning: \n",
            "A value is trying to be set on a copy of a slice from a DataFrame.\n",
            "Try using .loc[row_indexer,col_indexer] = value instead\n",
            "\n",
            "See the caveats in the documentation: https://pandas.pydata.org/pandas-docs/stable/user_guide/indexing.html#returning-a-view-versus-a-copy\n",
            "  This is separate from the ipykernel package so we can avoid doing imports until\n"
          ]
        }
      ],
      "source": [
        "categorical_main_data=main_data[['workclass','education','marital-status','occupation','relationship','race','sex','native-country']]\n",
        "numerical_main_data=main_data[['fnlwgt','capital-gain','capital loss','hours-per-week']]\n",
        "numerical_main_data['age']=pd.to_numeric(main_data['age'])"
      ]
    },
    {
      "cell_type": "code",
      "execution_count": null,
      "metadata": {
        "colab": {
          "background_save": true
        },
        "id": "snfpugsXHpdA",
        "outputId": "33c70e5d-88ec-484c-966d-f53006c14d91"
      },
      "outputs": [
        {
          "data": {
            "image/png": "[encoded data removed]",
            "text/plain": [
              "<Figure size 1368x1080 with 2 Axes>"
            ]
          },
          "metadata": {},
          "output_type": "display_data"
        }
      ],
      "source": [
        "#Correlation matrix with colorful indicators\n",
        "f = plt.figure(figsize=(19, 15))\n",
        "plt.matshow(numerical_main_data.corr(), fignum=f.number)\n",
        "plt.xticks(range(numerical_main_data.select_dtypes(['number']).shape[1]), numerical_main_data.select_dtypes(['number']).columns, fontsize=14, rotation=45)\n",
        "plt.yticks(range(numerical_main_data.select_dtypes(['number']).shape[1]), numerical_main_data.select_dtypes(['number']).columns, fontsize=14)\n",
        "cb = plt.colorbar()\n",
        "cb.ax.tick_params(labelsize=14)\n",
        "plt.title('Correlation Matrix', fontsize=16);"
      ]
    },
    {
      "cell_type": "code",
      "execution_count": null,
      "metadata": {
        "colab": {
          "background_save": true
        },
        "id": "fB0f43CYIhFJ",
        "outputId": "1c157364-38a3-4f6c-bcd8-ee4b56caac2a"
      },
      "outputs": [
        {
          "data": {
            "text/html": [
              "<style  type=\"text/css\" >\n",
              "#T_d0f3730c_60cc_11ec_bb7a_0242ac1c0002row0_col0,#T_d0f3730c_60cc_11ec_bb7a_0242ac1c0002row1_col1,#T_d0f3730c_60cc_11ec_bb7a_0242ac1c0002row2_col2,#T_d0f3730c_60cc_11ec_bb7a_0242ac1c0002row3_col3,#T_d0f3730c_60cc_11ec_bb7a_0242ac1c0002row4_col4{\n",
              "            background-color:  #b40426;\n",
              "            color:  #f1f1f1;\n",
              "        }#T_d0f3730c_60cc_11ec_bb7a_0242ac1c0002row0_col1{\n",
              "            background-color:  #4b64d5;\n",
              "            color:  #f1f1f1;\n",
              "        }#T_d0f3730c_60cc_11ec_bb7a_0242ac1c0002row0_col2{\n",
              "            background-color:  #4f69d9;\n",
              "            color:  #000000;\n",
              "        }#T_d0f3730c_60cc_11ec_bb7a_0242ac1c0002row0_col3,#T_d0f3730c_60cc_11ec_bb7a_0242ac1c0002row0_col4,#T_d0f3730c_60cc_11ec_bb7a_0242ac1c0002row1_col2,#T_d0f3730c_60cc_11ec_bb7a_0242ac1c0002row2_col1,#T_d0f3730c_60cc_11ec_bb7a_0242ac1c0002row4_col0{\n",
              "            background-color:  #3b4cc0;\n",
              "            color:  #f1f1f1;\n",
              "        }#T_d0f3730c_60cc_11ec_bb7a_0242ac1c0002row1_col0,#T_d0f3730c_60cc_11ec_bb7a_0242ac1c0002row3_col0{\n",
              "            background-color:  #4a63d3;\n",
              "            color:  #f1f1f1;\n",
              "        }#T_d0f3730c_60cc_11ec_bb7a_0242ac1c0002row1_col3{\n",
              "            background-color:  #4e68d8;\n",
              "            color:  #000000;\n",
              "        }#T_d0f3730c_60cc_11ec_bb7a_0242ac1c0002row1_col4{\n",
              "            background-color:  #7093f3;\n",
              "            color:  #000000;\n",
              "        }#T_d0f3730c_60cc_11ec_bb7a_0242ac1c0002row2_col0{\n",
              "            background-color:  #4c66d6;\n",
              "            color:  #000000;\n",
              "        }#T_d0f3730c_60cc_11ec_bb7a_0242ac1c0002row2_col3{\n",
              "            background-color:  #455cce;\n",
              "            color:  #f1f1f1;\n",
              "        }#T_d0f3730c_60cc_11ec_bb7a_0242ac1c0002row2_col4{\n",
              "            background-color:  #5a78e4;\n",
              "            color:  #000000;\n",
              "        }#T_d0f3730c_60cc_11ec_bb7a_0242ac1c0002row3_col1{\n",
              "            background-color:  #5f7fe8;\n",
              "            color:  #000000;\n",
              "        }#T_d0f3730c_60cc_11ec_bb7a_0242ac1c0002row3_col2{\n",
              "            background-color:  #5673e0;\n",
              "            color:  #000000;\n",
              "        }#T_d0f3730c_60cc_11ec_bb7a_0242ac1c0002row3_col4{\n",
              "            background-color:  #5977e3;\n",
              "            color:  #000000;\n",
              "        }#T_d0f3730c_60cc_11ec_bb7a_0242ac1c0002row4_col1{\n",
              "            background-color:  #7295f4;\n",
              "            color:  #000000;\n",
              "        }#T_d0f3730c_60cc_11ec_bb7a_0242ac1c0002row4_col2{\n",
              "            background-color:  #5d7ce6;\n",
              "            color:  #000000;\n",
              "        }#T_d0f3730c_60cc_11ec_bb7a_0242ac1c0002row4_col3{\n",
              "            background-color:  #4961d2;\n",
              "            color:  #f1f1f1;\n",
              "        }</style><table id=\"T_d0f3730c_60cc_11ec_bb7a_0242ac1c0002\" class=\"dataframe\"><thead>    <tr>        <th class=\"blank level0\" ></th>        <th class=\"col_heading level0 col0\" >fnlwgt</th>        <th class=\"col_heading level0 col1\" >capital-gain</th>        <th class=\"col_heading level0 col2\" >capital loss</th>        <th class=\"col_heading level0 col3\" >hours-per-week</th>        <th class=\"col_heading level0 col4\" >age</th>    </tr></thead><tbody>\n",
              "                <tr>\n",
              "                        <th id=\"T_d0f3730c_60cc_11ec_bb7a_0242ac1c0002level0_row0\" class=\"row_heading level0 row0\" >fnlwgt</th>\n",
              "                        <td id=\"T_d0f3730c_60cc_11ec_bb7a_0242ac1c0002row0_col0\" class=\"data row0 col0\" >1.000000</td>\n",
              "                        <td id=\"T_d0f3730c_60cc_11ec_bb7a_0242ac1c0002row0_col1\" class=\"data row0 col1\" >-0.004473</td>\n",
              "                        <td id=\"T_d0f3730c_60cc_11ec_bb7a_0242ac1c0002row0_col2\" class=\"data row0 col2\" >0.004821</td>\n",
              "                        <td id=\"T_d0f3730c_60cc_11ec_bb7a_0242ac1c0002row0_col3\" class=\"data row0 col3\" >-0.003365</td>\n",
              "                        <td id=\"T_d0f3730c_60cc_11ec_bb7a_0242ac1c0002row0_col4\" class=\"data row0 col4\" >-0.059846</td>\n",
              "            </tr>\n",
              "            <tr>\n",
              "                        <th id=\"T_d0f3730c_60cc_11ec_bb7a_0242ac1c0002level0_row1\" class=\"row_heading level0 row1\" >capital-gain</th>\n",
              "                        <td id=\"T_d0f3730c_60cc_11ec_bb7a_0242ac1c0002row1_col0\" class=\"data row1 col0\" >-0.004473</td>\n",
              "                        <td id=\"T_d0f3730c_60cc_11ec_bb7a_0242ac1c0002row1_col1\" class=\"data row1 col1\" >1.000000</td>\n",
              "                        <td id=\"T_d0f3730c_60cc_11ec_bb7a_0242ac1c0002row1_col2\" class=\"data row1 col2\" >-0.066428</td>\n",
              "                        <td id=\"T_d0f3730c_60cc_11ec_bb7a_0242ac1c0002row1_col3\" class=\"data row1 col3\" >0.060826</td>\n",
              "                        <td id=\"T_d0f3730c_60cc_11ec_bb7a_0242ac1c0002row1_col4\" class=\"data row1 col4\" >0.119828</td>\n",
              "            </tr>\n",
              "            <tr>\n",
              "                        <th id=\"T_d0f3730c_60cc_11ec_bb7a_0242ac1c0002level0_row2\" class=\"row_heading level0 row2\" >capital loss</th>\n",
              "                        <td id=\"T_d0f3730c_60cc_11ec_bb7a_0242ac1c0002row2_col0\" class=\"data row2 col0\" >0.004821</td>\n",
              "                        <td id=\"T_d0f3730c_60cc_11ec_bb7a_0242ac1c0002row2_col1\" class=\"data row2 col1\" >-0.066428</td>\n",
              "                        <td id=\"T_d0f3730c_60cc_11ec_bb7a_0242ac1c0002row2_col2\" class=\"data row2 col2\" >1.000000</td>\n",
              "                        <td id=\"T_d0f3730c_60cc_11ec_bb7a_0242ac1c0002row2_col3\" class=\"data row2 col3\" >0.033277</td>\n",
              "                        <td id=\"T_d0f3730c_60cc_11ec_bb7a_0242ac1c0002row2_col4\" class=\"data row2 col4\" >0.050893</td>\n",
              "            </tr>\n",
              "            <tr>\n",
              "                        <th id=\"T_d0f3730c_60cc_11ec_bb7a_0242ac1c0002level0_row3\" class=\"row_heading level0 row3\" >hours-per-week</th>\n",
              "                        <td id=\"T_d0f3730c_60cc_11ec_bb7a_0242ac1c0002row3_col0\" class=\"data row3 col0\" >-0.003365</td>\n",
              "                        <td id=\"T_d0f3730c_60cc_11ec_bb7a_0242ac1c0002row3_col1\" class=\"data row3 col1\" >0.060826</td>\n",
              "                        <td id=\"T_d0f3730c_60cc_11ec_bb7a_0242ac1c0002row3_col2\" class=\"data row3 col2\" >0.033277</td>\n",
              "                        <td id=\"T_d0f3730c_60cc_11ec_bb7a_0242ac1c0002row3_col3\" class=\"data row3 col3\" >1.000000</td>\n",
              "                        <td id=\"T_d0f3730c_60cc_11ec_bb7a_0242ac1c0002row3_col4\" class=\"data row3 col4\" >0.043933</td>\n",
              "            </tr>\n",
              "            <tr>\n",
              "                        <th id=\"T_d0f3730c_60cc_11ec_bb7a_0242ac1c0002level0_row4\" class=\"row_heading level0 row4\" >age</th>\n",
              "                        <td id=\"T_d0f3730c_60cc_11ec_bb7a_0242ac1c0002row4_col0\" class=\"data row4 col0\" >-0.059846</td>\n",
              "                        <td id=\"T_d0f3730c_60cc_11ec_bb7a_0242ac1c0002row4_col1\" class=\"data row4 col1\" >0.119828</td>\n",
              "                        <td id=\"T_d0f3730c_60cc_11ec_bb7a_0242ac1c0002row4_col2\" class=\"data row4 col2\" >0.050893</td>\n",
              "                        <td id=\"T_d0f3730c_60cc_11ec_bb7a_0242ac1c0002row4_col3\" class=\"data row4 col3\" >0.043933</td>\n",
              "                        <td id=\"T_d0f3730c_60cc_11ec_bb7a_0242ac1c0002row4_col4\" class=\"data row4 col4\" >1.000000</td>\n",
              "            </tr>\n",
              "    </tbody></table>"
            ],
            "text/plain": [
              "<pandas.io.formats.style.Styler at 0x7f212c17a4d0>"
            ]
          },
          "execution_count": null,
          "metadata": {},
          "output_type": "execute_result"
        }
      ],
      "source": [
        "#Correlation matrix with colorful indicators and corr. numbers\n",
        "corr = numerical_main_data.corr()\n",
        "corr.style.background_gradient(cmap='coolwarm')"
      ]
    },
    {
      "cell_type": "code",
      "execution_count": null,
      "metadata": {
        "colab": {
          "background_save": true
        },
        "id": "LCov2vz1VxyM"
      },
      "outputs": [],
      "source": [
        "#print(main_data.head(10))"
      ]
    },
    {
      "cell_type": "code",
      "execution_count": null,
      "metadata": {
        "id": "DI-10oQAqmmg"
      },
      "outputs": [],
      "source": [
        "from scipy.stats import chi2_contingency\n",
        "\n",
        "contigency= pd.crosstab(categorical_main_data['workclass'], categorical_main_data['occupation'])\n",
        "contigency_pct = pd.crosstab(categorical_main_data['workclass'], categorical_main_data['occupation'], normalize='index')\n",
        "\n",
        "plt.figure(figsize=(12,8))\n",
        "sns.heatmap(contigency, annot=True, cmap=\"YlGnBu\")\n",
        "\n",
        "c, p, dof, expected = chi2_contingency(contigency)\n",
        "print('Chi2: \\n',c)\n",
        "print('The p-value of the test:\\n',p)"
      ]
    },
    {
      "cell_type": "markdown",
      "source": [
        "# FAMD - DBSCAN\n",
        "### DBSCAN\n",
        "\n",
        "Why does it suit our dataset?\n",
        "    \n",
        "Choosing the clustering methods\n",
        "1.\t(Partitioning Clustering)K-means, K-medoids: As K-means are used above, it would be effective to use the one with different type of clustering.  \n",
        "2.\t(Hierarchical Clustering) Agglomerative, DIANA: Inefficient for large datasets.\n",
        "3.\t(Density Clustering) DBSCAN:\n",
        "     -\tPros: resistant to noise and handle clusters of different shapes and sizes.\n",
        "     -\tCons: However, it fails to identify clusters of varying densities. Also, it has the problem in high-dimensional data due to the curse of dimensionality.\n",
        "     But our dataset does not have high-dimensionality since the number of observation is bigger than the number of features."
      ],
      "metadata": {
        "id": "Ne9rOo4s-aQ9"
      }
    },
    {
      "cell_type": "markdown",
      "source": [
        "FAMD library:\n",
        "\n",
        "https://www.tomasbeuzen.com/post/clustering-mixed-data/\n",
        "\n",
        "FAMD Explanation - Documenting\n",
        "\n",
        "https://towardsdatascience.com/factor-analysis-of-mixed-data-5ad5ce98663c\n"
      ],
      "metadata": {
        "id": "9jm3EGVN-0cl"
      }
    },
    {
      "cell_type": "code",
      "source": [
        "# Install Package - Prince\n",
        "\n",
        "my_path = '/content/drive/MyDrive/additional_package'\n",
        "\n",
        "!pip install --target=$my_path Prince\n",
        "\n",
        "\n",
        "# Use Package\n",
        "\n",
        "import sys\n",
        "sys.path.append('/content/drive/MyDrive/additional_package')"
      ],
      "metadata": {
        "id": "b3Vuy0Zq6IfO",
        "colab": {
          "base_uri": "https://localhost:8080/",
          "height": 1000
        },
        "outputId": "fd1b9c15-6d21-4c15-d676-44f4925c9abe"
      },
      "execution_count": null,
      "outputs": [
        {
          "output_type": "stream",
          "name": "stdout",
          "text": [
            "Collecting Prince\n",
            "  Downloading prince-0.7.1-py3-none-any.whl (21 kB)\n",
            "Collecting matplotlib>=3.0.2\n",
            "  Downloading matplotlib-3.5.1-cp37-cp37m-manylinux_2_5_x86_64.manylinux1_x86_64.whl (11.2 MB)\n",
            "\u001b[K     |████████████████████████████████| 11.2 MB 6.6 MB/s \n",
            "\u001b[?25hCollecting numpy>=1.17.1\n",
            "  Downloading numpy-1.21.5-cp37-cp37m-manylinux_2_12_x86_64.manylinux2010_x86_64.whl (15.7 MB)\n",
            "\u001b[K     |████████████████████████████████| 15.7 MB 54.5 MB/s \n",
            "\u001b[?25hCollecting scikit-learn>=0.22.1\n",
            "  Downloading scikit_learn-1.0.2-cp37-cp37m-manylinux_2_17_x86_64.manylinux2014_x86_64.whl (24.8 MB)\n",
            "\u001b[K     |████████████████████████████████| 24.8 MB 1.4 MB/s \n",
            "\u001b[?25hCollecting pandas>=1.0.3\n",
            "  Downloading pandas-1.3.5-cp37-cp37m-manylinux_2_17_x86_64.manylinux2014_x86_64.whl (11.3 MB)\n",
            "\u001b[K     |████████████████████████████████| 11.3 MB 63.0 MB/s \n",
            "\u001b[?25hCollecting scipy>=1.3.0\n",
            "  Downloading scipy-1.7.3-cp37-cp37m-manylinux_2_12_x86_64.manylinux2010_x86_64.whl (38.1 MB)\n",
            "\u001b[K     |████████████████████████████████| 38.1 MB 1.2 MB/s \n",
            "\u001b[?25hCollecting fonttools>=4.22.0\n",
            "  Downloading fonttools-4.28.5-py3-none-any.whl (890 kB)\n",
            "\u001b[K     |████████████████████████████████| 890 kB 79.8 MB/s \n",
            "\u001b[?25hCollecting pyparsing>=2.2.1\n",
            "  Downloading pyparsing-3.0.6-py3-none-any.whl (97 kB)\n",
            "\u001b[K     |████████████████████████████████| 97 kB 10.0 MB/s \n",
            "\u001b[?25hCollecting cycler>=0.10\n",
            "  Downloading cycler-0.11.0-py3-none-any.whl (6.4 kB)\n",
            "Collecting pillow>=6.2.0\n",
            "  Downloading Pillow-9.0.0-cp37-cp37m-manylinux_2_17_x86_64.manylinux2014_x86_64.whl (4.3 MB)\n",
            "\u001b[K     |████████████████████████████████| 4.3 MB 62.9 MB/s \n",
            "\u001b[?25hCollecting kiwisolver>=1.0.1\n",
            "  Downloading kiwisolver-1.3.2-cp37-cp37m-manylinux_2_5_x86_64.manylinux1_x86_64.whl (1.1 MB)\n",
            "\u001b[K     |████████████████████████████████| 1.1 MB 69.6 MB/s \n",
            "\u001b[?25hCollecting python-dateutil>=2.7\n",
            "  Downloading python_dateutil-2.8.2-py2.py3-none-any.whl (247 kB)\n",
            "\u001b[K     |████████████████████████████████| 247 kB 77.5 MB/s \n",
            "\u001b[?25hCollecting packaging>=20.0\n",
            "  Downloading packaging-21.3-py3-none-any.whl (40 kB)\n",
            "\u001b[K     |████████████████████████████████| 40 kB 7.4 MB/s \n",
            "\u001b[?25hCollecting pytz>=2017.3\n",
            "  Downloading pytz-2021.3-py2.py3-none-any.whl (503 kB)\n",
            "\u001b[K     |████████████████████████████████| 503 kB 67.3 MB/s \n",
            "\u001b[?25hCollecting six>=1.5\n",
            "  Downloading six-1.16.0-py2.py3-none-any.whl (11 kB)\n",
            "Collecting threadpoolctl>=2.0.0\n",
            "  Downloading threadpoolctl-3.0.0-py3-none-any.whl (14 kB)\n",
            "Collecting joblib>=0.11\n",
            "  Downloading joblib-1.1.0-py2.py3-none-any.whl (306 kB)\n",
            "\u001b[K     |████████████████████████████████| 306 kB 72.7 MB/s \n",
            "\u001b[?25hInstalling collected packages: six, pyparsing, numpy, threadpoolctl, scipy, pytz, python-dateutil, pillow, packaging, kiwisolver, joblib, fonttools, cycler, scikit-learn, pandas, matplotlib, Prince\n",
            "\u001b[31mERROR: pip's dependency resolver does not currently take into account all the packages that are installed. This behaviour is the source of the following dependency conflicts.\n",
            "yellowbrick 1.3.post1 requires numpy<1.20,>=1.16.0, but you have numpy 1.21.5 which is incompatible.\n",
            "google-colab 1.0.0 requires pandas~=1.1.0; python_version >= \"3.0\", but you have pandas 1.3.5 which is incompatible.\n",
            "google-colab 1.0.0 requires six~=1.15.0, but you have six 1.16.0 which is incompatible.\n",
            "datascience 0.10.6 requires folium==0.2.1, but you have folium 0.8.3 which is incompatible.\n",
            "albumentations 0.1.12 requires imgaug<0.2.7,>=0.2.5, but you have imgaug 0.2.9 which is incompatible.\u001b[0m\n",
            "Successfully installed Prince-0.7.1 cycler-0.11.0 fonttools-4.28.5 joblib-1.1.0 kiwisolver-1.3.2 matplotlib-3.5.1 numpy-1.21.5 packaging-21.3 pandas-1.3.5 pillow-9.0.0 pyparsing-3.0.6 python-dateutil-2.8.2 pytz-2021.3 scikit-learn-1.0.2 scipy-1.7.3 six-1.16.0 threadpoolctl-3.0.0\n"
          ]
        },
        {
          "output_type": "display_data",
          "data": {
            "application/vnd.colab-display-data+json": {
              "pip_warning": {
                "packages": [
                  "cycler",
                  "dateutil",
                  "kiwisolver",
                  "pyparsing"
                ]
              }
            }
          },
          "metadata": {}
        }
      ]
    },
    {
      "cell_type": "code",
      "source": [
        "import numpy as np\n",
        "import pandas as pd\n",
        "from prince import FAMD\n",
        "from sklearn.cluster import DBSCAN\n",
        "from sklearn.cluster import KMeans\n",
        "from sklearn.neighbors import NearestNeighbors\n",
        "from sklearn.preprocessing import StandardScaler\n",
        "from sklearn import metrics\n",
        "import matplotlib.pyplot as plt\n",
        "get_ipython().run_line_magic('matplotlib', 'inline')"
      ],
      "metadata": {
        "id": "cLpMjiBN_PsH"
      },
      "execution_count": null,
      "outputs": []
    },
    {
      "cell_type": "code",
      "source": [
        "# Previous codes.\n",
        "from sklearn.model_selection import train_test_split # Import train_test_split function\n",
        "from sklearn import metrics #Import scikit-learn metrics module for accuracy calculation\n",
        "from sklearn.preprocessing import LabelEncoder\n",
        "\n",
        "df_train = pd.read_csv('adult.data', header=None)\n",
        "df_test = pd.read_csv('adult.test', error_bad_lines=False)\n",
        "pd.set_option(\"display.max_columns\", None)\n",
        "my_file = open(\"adult.names\", \"r\")\n",
        "content = my_file.read()\n",
        "my_file_old = open(\"old.adult.names\", \"r\")\n",
        "content_old = my_file_old.read()\n",
        "names=[ 'age','workclass','fnlwgt','education','education-num','marital-status','occupation','relationship','race','sex','capital-gain','capital loss','hours-per-week','native-country','result']\n",
        "df2_train = pd.read_csv('adult.data', names = names)\n",
        "\n",
        "names=[ 'age','workclass','fnlwgt','education','education-num','marital-status','occupation','relationship','race','sex','capital-gain','capital loss','hours-per-week','native-country','result']\n",
        "df2_test = pd.read_csv('adult.test', names = names)\n",
        "\n",
        "main_data = pd.concat([df2_test.assign(ind=\"df2_test\"), df2_train.assign(ind=\"df2_train\")])\n",
        "main_data.drop(index=main_data.index[0],axis=0,inplace=True)\n",
        "main_data['workclass'].loc[main_data['workclass'].str.contains('\\?')]=' Private'\n",
        "main_data['occupation'].loc[main_data['occupation'].str.contains('\\?')]=' Prof-specialty'\n",
        "main_data['native-country'].loc[main_data['native-country'].str.contains('\\?')]=' United-States'\n",
        "\n",
        "duplicate = main_data[main_data.duplicated()]\n",
        "pd.set_option(\"display.max_rows\", None)\n",
        "main_data.drop_duplicates()\n",
        "\n",
        "test, train = main_data[main_data[\"ind\"].eq(\"df2_test\")], main_data[main_data[\"ind\"].eq(\"df2_train\")]\n",
        "X = train.loc[:, ['age', 'fnlwgt', 'capital-gain', 'capital loss', 'hours-per-week', 'education', 'workclass', 'marital-status', 'race', 'sex', 'native-country']]\n",
        "y= train.iloc[:, 14]\n",
        "y = np.array([0 if l == \" <=50K\" else 1 for l in y])\n",
        "X_train, X_test, y_train, y_test = train_test_split(X, y, test_size=0.20)"
      ],
      "metadata": {
        "id": "9-BpaYOT_iLz",
        "colab": {
          "base_uri": "https://localhost:8080/"
        },
        "outputId": "5f745a96-df1a-4ce2-8000-e9679e036e4d"
      },
      "execution_count": null,
      "outputs": [
        {
          "output_type": "stream",
          "name": "stderr",
          "text": [
            "/usr/local/lib/python3.7/dist-packages/pandas/core/indexing.py:670: SettingWithCopyWarning: \n",
            "A value is trying to be set on a copy of a slice from a DataFrame\n",
            "\n",
            "See the caveats in the documentation: https://pandas.pydata.org/pandas-docs/stable/user_guide/indexing.html#returning-a-view-versus-a-copy\n",
            "  iloc._setitem_with_indexer(indexer, value)\n"
          ]
        }
      ]
    },
    {
      "cell_type": "markdown",
      "source": [
        "### FAMD Parameter tuning\n",
        "\n",
        "* n_components: the number of components\n",
        "> To calculate the number of principal components used for FAMD, we fit the model with different parameters and observe the explained inertia by the number of components on the graph. Here we found that it should be very high value for 90% of variance to be explained.\n",
        "\n",
        "* n_iter: the number of iterations used for computing SVD\n",
        "> We did not change the default n_iter since we already have high n_components and increasing the number of iterations would worsen the time complexity.\n",
        "\n",
        "\n",
        "\n"
      ],
      "metadata": {
        "id": "t4goOde9_lYk"
      }
    },
    {
      "cell_type": "code",
      "execution_count": null,
      "metadata": {
        "scrolled": true,
        "colab": {
          "base_uri": "https://localhost:8080/",
          "height": 404
        },
        "id": "2b716791",
        "outputId": "1d1cd4c2-47a6-4f76-cf3f-2aff9c656ef5"
      },
      "outputs": [
        {
          "output_type": "display_data",
          "data": {
            "image/png": "[encoded data removed]",
            "text/plain": [
              "<Figure size 432x432 with 1 Axes>"
            ]
          },
          "metadata": {
            "needs_background": "light"
          }
        }
      ],
      "source": [
        "# Factor Analysis for Mixed Data type\n",
        "\n",
        "# Fit - Learn from the dataset\n",
        "# The reason behind the high n_components is explained in the next cell run results.\n",
        "famd = FAMD(n_components = 130, random_state = 101).fit(X_train)\n",
        "\n",
        "# Transform - Convert the X_train data with n_components of table.\n",
        "famdX = famd.transform(X_train)\n",
        "\n",
        "# Visualization of the projected variables on the two major principal components graph\n",
        "ax = famd.plot_row_coordinates(\n",
        "     X_train,\n",
        "     ax=None,\n",
        "     figsize=(6, 6),\n",
        "     x_component=0,\n",
        "     y_component=1,\n",
        "     labels=None,\n",
        "     color_labels=['Clusters: {}'.format(t) for t in y_train],\n",
        "     ellipse_outline=False,\n",
        "     ellipse_fill=True,\n",
        "     show_points=True\n",
        " )"
      ]
    },
    {
      "cell_type": "code",
      "source": [
        "# Choosing the number of components.\n",
        "# We can see that at least 130 components are needed to reach 0.9 of the total distribution\n",
        "\n",
        "plt.plot(np.cumsum(famd.explained_inertia_))"
      ],
      "metadata": {
        "colab": {
          "base_uri": "https://localhost:8080/",
          "height": 282
        },
        "id": "BphG0HnrrjMW",
        "outputId": "59f7a6e9-c3e1-49ac-864b-7882da9e2ec2"
      },
      "execution_count": null,
      "outputs": [
        {
          "output_type": "execute_result",
          "data": {
            "text/plain": [
              "[<matplotlib.lines.Line2D at 0x7fc7a5f15e10>]"
            ]
          },
          "metadata": {},
          "execution_count": 5
        },
        {
          "output_type": "display_data",
          "data": {
            "image/png": "[encoded data removed]",
            "text/plain": [
              "<Figure size 432x288 with 1 Axes>"
            ]
          },
          "metadata": {
            "needs_background": "light"
          }
        }
      ]
    },
    {
      "cell_type": "markdown",
      "source": [
        "**3.2 Clustering:**\n",
        "**Kmeans Clustering :**\n",
        "The k-means clustering method is an unsupervised ML technique used to identify clusters of data objects for a dataset.\n",
        "\n",
        ">**Parameter Tuning**\n",
        "The hyper-parameters for k-means clustering as given by Sklearn are:\n",
        "n_clusters, init,n_init, max_iter, tol, verbose, random_state, copy_x, algorithm\n",
        "\n",
        "\n",
        "*   n_clusters - 3 The optimal number of clusters to be formed\n",
        "*   init - k-means++ selects initial cluster centres for kmeans clustering to speed up convergence\n",
        "*   max_iter - The number of times the algorithm will run for different centroid seeds(default=10)\n",
        "*   tol - Maximum iterations in a single run(default = 300)\n",
        "*   verbose - default=0\n",
        "*   random_state - Centroid initialization for random numbers (Here it is decalred as none)\n",
        "*   copy_x - Typically used inorder to centre the data (Here it is true)\n",
        "*   algorithm - Default=auto (for backward compatability)\n",
        "\n",
        "> **Evaluation measures**\n",
        "Here, we have used two measure to evaluate the model performance:\n",
        "\n",
        "*   Intrinsic measures - Silhouette Score, Calinski Harabasz Score\n",
        "*   Extrinsic measures - Homogeneity Score, V measure Score\n",
        "\n",
        "\n",
        "\n",
        "\n"
      ],
      "metadata": {
        "id": "iEcGvJsuM-xJ"
      }
    },
    {
      "cell_type": "code",
      "source": [
        "# Kmeans Clustering\n",
        "\n",
        "## Parameter setting 0\n",
        "db0 = KMeans(n_clusters=3, init='k-means++', n_init=10, max_iter=300, tol=0.0001,verbose=0, random_state=None, copy_x=True, algorithm='auto')\n",
        "db0.fit(famdX)\n",
        "y_pred_0 = db0.fit_predict(famdX)\n",
        "\n",
        "## Parameter setting 1\n",
        "db1 = KMeans(n_clusters=5, init='k-means++', n_init=10, max_iter=300, tol=0.0001,verbose=0, random_state=None, copy_x=True, algorithm='auto')\n",
        "db1.fit(famdX)\n",
        "y_pred_1 = db1.fit_predict(famdX)\n",
        "\n",
        "# Kmeans Visualization\n",
        "plt.figure(figsize=(10,6))\n",
        "plt.scatter(famdX.iloc[:,0], famdX.iloc[:,1],c=y_pred_0, cmap='Paired')\n",
        "plt.title(\"Clusters determined by Kmeans\")\n",
        "db0.labels_[db0.labels_ == -1].size"
      ],
      "metadata": {
        "colab": {
          "base_uri": "https://localhost:8080/",
          "height": 407
        },
        "id": "eIWKYGUWqZWa",
        "outputId": "5447aecd-9155-49a5-ea73-da3a1ca9cdbc"
      },
      "execution_count": null,
      "outputs": [
        {
          "output_type": "execute_result",
          "data": {
            "text/plain": [
              "0"
            ]
          },
          "metadata": {},
          "execution_count": 19
        },
        {
          "output_type": "display_data",
          "data": {
            "image/png": "[encoded data removed]",
            "text/plain": [
              "<Figure size 720x432 with 1 Axes>"
            ]
          },
          "metadata": {
            "needs_background": "light"
          }
        }
      ]
    },
    {
      "cell_type": "code",
      "source": [
        "# Calculating the intrinsic measures\n",
        "\n",
        "print('Intrinsic measures')\n",
        "labels = y_pred_0\n",
        "Silhouette_Score=metrics.silhouette_score(famdX, labels, metric = 'euclidean')\n",
        "print('Silhouette Score:',Silhouette_Score)\n",
        "\n",
        "# Calinski_harabasz_score\n",
        "\n",
        "CH_score = metrics.calinski_harabasz_score(famdX, labels)\n",
        "print('Calinski Harabasz Score:',CH_score)\n",
        "print('-----------------------------------------------')\n",
        "\n",
        "#Calculating the extrinsic measures\n",
        "print('Extrinsic measures')\n",
        "H_Score=metrics.homogeneity_score(y_train, labels)\n",
        "print('homogeneity_score:',H_Score)\n",
        "\n",
        "v_measure_score=metrics.v_measure_score(y_train, labels)\n",
        "print('v_measure_score:',v_measure_score)\n"
      ],
      "metadata": {
        "colab": {
          "base_uri": "https://localhost:8080/"
        },
        "id": "ixkT0OJwuTxc",
        "outputId": "48510ff4-3078-41d6-ab2b-e1828c7169fe"
      },
      "execution_count": null,
      "outputs": [
        {
          "output_type": "stream",
          "name": "stdout",
          "text": [
            "Intrinsic measures\n",
            "Silhouette Score: 0.033033842387030325\n",
            "Calinski Harabasz Score: 518.2063318951402\n",
            "-----------------------------------------------\n",
            "Extrinsic measures\n",
            "homogeneity_score: 0.12071297068287776\n",
            "v_measure_score: 0.09516286207604767\n"
          ]
        }
      ]
    },
    {
      "cell_type": "code",
      "source": [
        "# unique cluster values\n",
        "cluster_0 = set(y_pred_0)\n",
        "cluster_1 = set(y_pred_1)\n",
        "\n",
        "def statParityDif(dataset, protect_att, class_att, c):\n",
        "\n",
        "    #Conditional on 'sex'\n",
        "    malerows = dataset.loc[dataset[protect_att] == \" Male\"]\n",
        "    malerows_pos = malerows.loc[dataset[class_att] == c]\n",
        "    y_pred_l = len(malerows_pos)\n",
        "\n",
        "    femalerows = dataset.loc[dataset[protect_att] == \" Female\"]\n",
        "    femalerows_pos = femalerows.loc[dataset[class_att] == c]\n",
        "    y_pred_r = len(femalerows_pos)\n",
        "\n",
        "    lhs = y_pred_l/len(dataset)\n",
        "    rhs = y_pred_r/len(dataset)\n",
        "\n",
        "    return (lhs-rhs)\n",
        "\n",
        "# Add column of the result of Kmeans clustering with different parameters 0, 1\n",
        "fair_data = X_train.copy()\n",
        "fair_data.insert(len(fair_data.columns), \"kmeans_y_0\", y_pred_0)\n",
        "fair_data.insert(len(fair_data.columns), \"kmeans_y_1\", y_pred_1)\n",
        "\n",
        "# Fairness-Awareness measures results of Kmeans clustering\n",
        "\n",
        "# Statistical Parity Difference with the parameter_0\n",
        "spd_0 = {}\n",
        "for c in cluster_0:\n",
        "  temp = statParityDif(fair_data, 'sex', 'kmeans_y_0', c)\n",
        "  spd_0[c] = temp\n",
        "\n",
        "# Statistical Parity Difference with the parameter_1\n",
        "spd_1 = {}\n",
        "for c in cluster_1:\n",
        "  temp = statParityDif(fair_data, 'sex', 'kmeans_y_1', c)\n",
        "  spd_1[c] = temp\n",
        "\n",
        "# Comparison between SPD of parameter 0 and parameter 1\n",
        "print(\"SPD of Kmeans with param_0\\n\", spd_0)\n",
        "print(\"\\n\")\n",
        "print(\"SPD of Kmeans with param_1\\n\", spd_1)\n",
        "print('\\n')"
      ],
      "metadata": {
        "colab": {
          "base_uri": "https://localhost:8080/"
        },
        "id": "NR1rV-OKu_tM",
        "outputId": "4a4c8168-c0a6-4f10-d456-f84ca55f17aa"
      },
      "execution_count": null,
      "outputs": [
        {
          "output_type": "stream",
          "name": "stdout",
          "text": [
            "SPD of Kmeans with param_0\n",
            " {0: -0.03178746928746928, 1: 0.3458998771498772, 2: 0.02787162162162162}\n",
            "\n",
            "\n",
            "SPD of Kmeans with param_1\n",
            " {0: 0.34528562653562656, 1: 0.024186117936117937, 2: 0.0036087223587223586, 3: -0.03144195331695332, 4: 0.0003455159705159705}\n",
            "\n",
            "\n"
          ]
        }
      ]
    },
    {
      "cell_type": "code",
      "source": [
        "# Dataframe - SPD of KMeans with param_0\n",
        "temp_00 =pd.DataFrame(spd_0, cluster_0).transpose()\n",
        "temp_00.columns = ['spd_00', 'spd_001', 'spd_002']\n",
        "kmeans_param_0 = temp_00.drop(['spd_001', 'spd_002'],axis = 1)\n",
        "kmeans_param_0"
      ],
      "metadata": {
        "colab": {
          "base_uri": "https://localhost:8080/",
          "height": 142
        },
        "id": "vF_cqEJpYXP2",
        "outputId": "3842b4ac-3551-4fd9-e5b9-acdd37a8ceb0"
      },
      "execution_count": null,
      "outputs": [
        {
          "output_type": "execute_result",
          "data": {
            "text/html": [
              "\n",
              "  <div id=\"df-18ae3c63-fa05-42d4-953a-c20e3e25150b\">\n",
              "    <div class=\"colab-df-container\">\n",
              "      <div>\n",
              "<style scoped>\n",
              "    .dataframe tbody tr th:only-of-type {\n",
              "        vertical-align: middle;\n",
              "    }\n",
              "\n",
              "    .dataframe tbody tr th {\n",
              "        vertical-align: top;\n",
              "    }\n",
              "\n",
              "    .dataframe thead th {\n",
              "        text-align: right;\n",
              "    }\n",
              "</style>\n",
              "<table border=\"1\" class=\"dataframe\">\n",
              "  <thead>\n",
              "    <tr style=\"text-align: right;\">\n",
              "      <th></th>\n",
              "      <th>spd_00</th>\n",
              "    </tr>\n",
              "  </thead>\n",
              "  <tbody>\n",
              "    <tr>\n",
              "      <th>0</th>\n",
              "      <td>-0.031787</td>\n",
              "    </tr>\n",
              "    <tr>\n",
              "      <th>1</th>\n",
              "      <td>0.345900</td>\n",
              "    </tr>\n",
              "    <tr>\n",
              "      <th>2</th>\n",
              "      <td>0.027872</td>\n",
              "    </tr>\n",
              "  </tbody>\n",
              "</table>\n",
              "</div>\n",
              "      <button class=\"colab-df-convert\" onclick=\"convertToInteractive('df-18ae3c63-fa05-42d4-953a-c20e3e25150b')\"\n",
              "              title=\"Convert this dataframe to an interactive table.\"\n",
              "              style=\"display:none;\">\n",
              "        \n",
              "  <svg xmlns=\"http://www.w3.org/2000/svg\" height=\"24px\"viewBox=\"0 0 24 24\"\n",
              "       width=\"24px\">\n",
              "    <path d=\"M0 0h24v24H0V0z\" fill=\"none\"/>\n",
              "    <path d=\"M18.56 5.44l.94 2.06.94-2.06 2.06-.94-2.06-.94-.94-2.06-.94 2.06-2.06.94zm-11 1L8.5 8.5l.94-2.06 2.06-.94-2.06-.94L8.5 2.5l-.94 2.06-2.06.94zm10 10l.94 2.06.94-2.06 2.06-.94-2.06-.94-.94-2.06-.94 2.06-2.06.94z\"/><path d=\"M17.41 7.96l-1.37-1.37c-.4-.4-.92-.59-1.43-.59-.52 0-1.04.2-1.43.59L10.3 9.45l-7.72 7.72c-.78.78-.78 2.05 0 2.83L4 21.41c.39.39.9.59 1.41.59.51 0 1.02-.2 1.41-.59l7.78-7.78 2.81-2.81c.8-.78.8-2.07 0-2.86zM5.41 20L4 18.59l7.72-7.72 1.47 1.35L5.41 20z\"/>\n",
              "  </svg>\n",
              "      </button>\n",
              "      \n",
              "  <style>\n",
              "    .colab-df-container {\n",
              "      display:flex;\n",
              "      flex-wrap:wrap;\n",
              "      gap: 12px;\n",
              "    }\n",
              "\n",
              "    .colab-df-convert {\n",
              "      background-color: #E8F0FE;\n",
              "      border: none;\n",
              "      border-radius: 50%;\n",
              "      cursor: pointer;\n",
              "      display: none;\n",
              "      fill: #1967D2;\n",
              "      height: 32px;\n",
              "      padding: 0 0 0 0;\n",
              "      width: 32px;\n",
              "    }\n",
              "\n",
              "    .colab-df-convert:hover {\n",
              "      background-color: #E2EBFA;\n",
              "      box-shadow: 0px 1px 2px rgba(60, 64, 67, 0.3), 0px 1px 3px 1px rgba(60, 64, 67, 0.15);\n",
              "      fill: #174EA6;\n",
              "    }\n",
              "\n",
              "    [theme=dark] .colab-df-convert {\n",
              "      background-color: #3B4455;\n",
              "      fill: #D2E3FC;\n",
              "    }\n",
              "\n",
              "    [theme=dark] .colab-df-convert:hover {\n",
              "      background-color: #434B5C;\n",
              "      box-shadow: 0px 1px 3px 1px rgba(0, 0, 0, 0.15);\n",
              "      filter: drop-shadow(0px 1px 2px rgba(0, 0, 0, 0.3));\n",
              "      fill: #FFFFFF;\n",
              "    }\n",
              "  </style>\n",
              "\n",
              "      <script>\n",
              "        const buttonEl =\n",
              "          document.querySelector('#df-18ae3c63-fa05-42d4-953a-c20e3e25150b button.colab-df-convert');\n",
              "        buttonEl.style.display =\n",
              "          google.colab.kernel.accessAllowed ? 'block' : 'none';\n",
              "\n",
              "        async function convertToInteractive(key) {\n",
              "          const element = document.querySelector('#df-18ae3c63-fa05-42d4-953a-c20e3e25150b');\n",
              "          const dataTable =\n",
              "            await google.colab.kernel.invokeFunction('convertToInteractive',\n",
              "                                                     [key], {});\n",
              "          if (!dataTable) return;\n",
              "\n",
              "          const docLinkHtml = 'Like what you see? Visit the ' +\n",
              "            '<a target=\"_blank\" href=https://colab.research.google.com/notebooks/data_table.ipynb>data table notebook</a>'\n",
              "            + ' to learn more about interactive tables.';\n",
              "          element.innerHTML = '';\n",
              "          dataTable['output_type'] = 'display_data';\n",
              "          await google.colab.output.renderOutput(dataTable, element);\n",
              "          const docLink = document.createElement('div');\n",
              "          docLink.innerHTML = docLinkHtml;\n",
              "          element.appendChild(docLink);\n",
              "        }\n",
              "      </script>\n",
              "    </div>\n",
              "  </div>\n",
              "  "
            ],
            "text/plain": [
              "     spd_00\n",
              "0 -0.031787\n",
              "1  0.345900\n",
              "2  0.027872"
            ]
          },
          "metadata": {},
          "execution_count": 22
        }
      ]
    },
    {
      "cell_type": "code",
      "source": [
        "# Dataframe - SPD of KMeans with param_1\n",
        "temp_01 =pd.DataFrame(spd_1, cluster_1).transpose()\n",
        "temp_01.columns = ['spd_011', 'spd_012', 'spd_013', 'spd_014', 'spd_015']\n",
        "kmeans_param_1 = temp_01.drop(['spd_012', 'spd_013', 'spd_014', 'spd_015'],axis = 1)\n",
        "kmeans_param_1"
      ],
      "metadata": {
        "colab": {
          "base_uri": "https://localhost:8080/",
          "height": 204
        },
        "id": "ugpLex_LSqTF",
        "outputId": "660e024c-3b58-4a78-f098-b8c351071ee7"
      },
      "execution_count": null,
      "outputs": [
        {
          "output_type": "execute_result",
          "data": {
            "text/html": [
              "\n",
              "  <div id=\"df-dd6ff66e-04a9-47ec-8467-c3130649137d\">\n",
              "    <div class=\"colab-df-container\">\n",
              "      <div>\n",
              "<style scoped>\n",
              "    .dataframe tbody tr th:only-of-type {\n",
              "        vertical-align: middle;\n",
              "    }\n",
              "\n",
              "    .dataframe tbody tr th {\n",
              "        vertical-align: top;\n",
              "    }\n",
              "\n",
              "    .dataframe thead th {\n",
              "        text-align: right;\n",
              "    }\n",
              "</style>\n",
              "<table border=\"1\" class=\"dataframe\">\n",
              "  <thead>\n",
              "    <tr style=\"text-align: right;\">\n",
              "      <th></th>\n",
              "      <th>spd_011</th>\n",
              "    </tr>\n",
              "  </thead>\n",
              "  <tbody>\n",
              "    <tr>\n",
              "      <th>0</th>\n",
              "      <td>0.345286</td>\n",
              "    </tr>\n",
              "    <tr>\n",
              "      <th>1</th>\n",
              "      <td>0.024186</td>\n",
              "    </tr>\n",
              "    <tr>\n",
              "      <th>2</th>\n",
              "      <td>0.003609</td>\n",
              "    </tr>\n",
              "    <tr>\n",
              "      <th>3</th>\n",
              "      <td>-0.031442</td>\n",
              "    </tr>\n",
              "    <tr>\n",
              "      <th>4</th>\n",
              "      <td>0.000346</td>\n",
              "    </tr>\n",
              "  </tbody>\n",
              "</table>\n",
              "</div>\n",
              "      <button class=\"colab-df-convert\" onclick=\"convertToInteractive('df-dd6ff66e-04a9-47ec-8467-c3130649137d')\"\n",
              "              title=\"Convert this dataframe to an interactive table.\"\n",
              "              style=\"display:none;\">\n",
              "        \n",
              "  <svg xmlns=\"http://www.w3.org/2000/svg\" height=\"24px\"viewBox=\"0 0 24 24\"\n",
              "       width=\"24px\">\n",
              "    <path d=\"M0 0h24v24H0V0z\" fill=\"none\"/>\n",
              "    <path d=\"M18.56 5.44l.94 2.06.94-2.06 2.06-.94-2.06-.94-.94-2.06-.94 2.06-2.06.94zm-11 1L8.5 8.5l.94-2.06 2.06-.94-2.06-.94L8.5 2.5l-.94 2.06-2.06.94zm10 10l.94 2.06.94-2.06 2.06-.94-2.06-.94-.94-2.06-.94 2.06-2.06.94z\"/><path d=\"M17.41 7.96l-1.37-1.37c-.4-.4-.92-.59-1.43-.59-.52 0-1.04.2-1.43.59L10.3 9.45l-7.72 7.72c-.78.78-.78 2.05 0 2.83L4 21.41c.39.39.9.59 1.41.59.51 0 1.02-.2 1.41-.59l7.78-7.78 2.81-2.81c.8-.78.8-2.07 0-2.86zM5.41 20L4 18.59l7.72-7.72 1.47 1.35L5.41 20z\"/>\n",
              "  </svg>\n",
              "      </button>\n",
              "      \n",
              "  <style>\n",
              "    .colab-df-container {\n",
              "      display:flex;\n",
              "      flex-wrap:wrap;\n",
              "      gap: 12px;\n",
              "    }\n",
              "\n",
              "    .colab-df-convert {\n",
              "      background-color: #E8F0FE;\n",
              "      border: none;\n",
              "      border-radius: 50%;\n",
              "      cursor: pointer;\n",
              "      display: none;\n",
              "      fill: #1967D2;\n",
              "      height: 32px;\n",
              "      padding: 0 0 0 0;\n",
              "      width: 32px;\n",
              "    }\n",
              "\n",
              "    .colab-df-convert:hover {\n",
              "      background-color: #E2EBFA;\n",
              "      box-shadow: 0px 1px 2px rgba(60, 64, 67, 0.3), 0px 1px 3px 1px rgba(60, 64, 67, 0.15);\n",
              "      fill: #174EA6;\n",
              "    }\n",
              "\n",
              "    [theme=dark] .colab-df-convert {\n",
              "      background-color: #3B4455;\n",
              "      fill: #D2E3FC;\n",
              "    }\n",
              "\n",
              "    [theme=dark] .colab-df-convert:hover {\n",
              "      background-color: #434B5C;\n",
              "      box-shadow: 0px 1px 3px 1px rgba(0, 0, 0, 0.15);\n",
              "      filter: drop-shadow(0px 1px 2px rgba(0, 0, 0, 0.3));\n",
              "      fill: #FFFFFF;\n",
              "    }\n",
              "  </style>\n",
              "\n",
              "      <script>\n",
              "        const buttonEl =\n",
              "          document.querySelector('#df-dd6ff66e-04a9-47ec-8467-c3130649137d button.colab-df-convert');\n",
              "        buttonEl.style.display =\n",
              "          google.colab.kernel.accessAllowed ? 'block' : 'none';\n",
              "\n",
              "        async function convertToInteractive(key) {\n",
              "          const element = document.querySelector('#df-dd6ff66e-04a9-47ec-8467-c3130649137d');\n",
              "          const dataTable =\n",
              "            await google.colab.kernel.invokeFunction('convertToInteractive',\n",
              "                                                     [key], {});\n",
              "          if (!dataTable) return;\n",
              "\n",
              "          const docLinkHtml = 'Like what you see? Visit the ' +\n",
              "            '<a target=\"_blank\" href=https://colab.research.google.com/notebooks/data_table.ipynb>data table notebook</a>'\n",
              "            + ' to learn more about interactive tables.';\n",
              "          element.innerHTML = '';\n",
              "          dataTable['output_type'] = 'display_data';\n",
              "          await google.colab.output.renderOutput(dataTable, element);\n",
              "          const docLink = document.createElement('div');\n",
              "          docLink.innerHTML = docLinkHtml;\n",
              "          element.appendChild(docLink);\n",
              "        }\n",
              "      </script>\n",
              "    </div>\n",
              "  </div>\n",
              "  "
            ],
            "text/plain": [
              "    spd_011\n",
              "0  0.345286\n",
              "1  0.024186\n",
              "2  0.003609\n",
              "3 -0.031442\n",
              "4  0.000346"
            ]
          },
          "metadata": {},
          "execution_count": 23
        }
      ]
    },
    {
      "cell_type": "markdown",
      "metadata": {
        "id": "e253gjXNF_UH"
      },
      "source": [
        "## DBSCAN Clustering"
      ]
    },
    {
      "cell_type": "markdown",
      "metadata": {
        "id": "iMXGV6URF_UP"
      },
      "source": [
        "### DBSCAN Parameter tuning\n",
        "\n",
        "This step follows the procedure of the page below.\n",
        "\n",
        "https://medium.com/@tarammullin/dbscan-parameter-estimation-ff8330e3a3bd"
      ]
    },
    {
      "cell_type": "code",
      "execution_count": null,
      "metadata": {
        "colab": {
          "base_uri": "https://localhost:8080/",
          "height": 268
        },
        "outputId": "1fa5a995-f285-4986-824e-1d1e9c15095a",
        "id": "9SrgvO8oF_UQ"
      },
      "outputs": [
        {
          "output_type": "execute_result",
          "data": {
            "text/html": [
              "\n",
              "  <div id=\"df-b07ba2bf-d2b8-41cb-bccc-4cadb990070e\">\n",
              "    <div class=\"colab-df-container\">\n",
              "      <div>\n",
              "<style scoped>\n",
              "    .dataframe tbody tr th:only-of-type {\n",
              "        vertical-align: middle;\n",
              "    }\n",
              "\n",
              "    .dataframe tbody tr th {\n",
              "        vertical-align: top;\n",
              "    }\n",
              "\n",
              "    .dataframe thead th {\n",
              "        text-align: right;\n",
              "    }\n",
              "</style>\n",
              "<table border=\"1\" class=\"dataframe\">\n",
              "  <thead>\n",
              "    <tr style=\"text-align: right;\">\n",
              "      <th></th>\n",
              "      <th>0</th>\n",
              "      <th>1</th>\n",
              "      <th>2</th>\n",
              "      <th>3</th>\n",
              "      <th>4</th>\n",
              "      <th>5</th>\n",
              "      <th>6</th>\n",
              "      <th>7</th>\n",
              "      <th>8</th>\n",
              "      <th>9</th>\n",
              "      <th>10</th>\n",
              "      <th>11</th>\n",
              "      <th>12</th>\n",
              "      <th>13</th>\n",
              "      <th>14</th>\n",
              "      <th>15</th>\n",
              "      <th>16</th>\n",
              "      <th>17</th>\n",
              "      <th>18</th>\n",
              "      <th>19</th>\n",
              "      <th>20</th>\n",
              "      <th>21</th>\n",
              "      <th>22</th>\n",
              "      <th>23</th>\n",
              "      <th>24</th>\n",
              "      <th>25</th>\n",
              "      <th>26</th>\n",
              "      <th>27</th>\n",
              "      <th>28</th>\n",
              "      <th>29</th>\n",
              "      <th>30</th>\n",
              "      <th>31</th>\n",
              "      <th>32</th>\n",
              "      <th>33</th>\n",
              "      <th>34</th>\n",
              "      <th>35</th>\n",
              "      <th>36</th>\n",
              "      <th>37</th>\n",
              "      <th>38</th>\n",
              "      <th>39</th>\n",
              "      <th>40</th>\n",
              "      <th>41</th>\n",
              "      <th>42</th>\n",
              "      <th>43</th>\n",
              "      <th>44</th>\n",
              "      <th>45</th>\n",
              "      <th>46</th>\n",
              "      <th>47</th>\n",
              "      <th>48</th>\n",
              "      <th>49</th>\n",
              "      <th>50</th>\n",
              "      <th>51</th>\n",
              "      <th>52</th>\n",
              "      <th>53</th>\n",
              "      <th>54</th>\n",
              "      <th>55</th>\n",
              "      <th>56</th>\n",
              "      <th>57</th>\n",
              "      <th>58</th>\n",
              "      <th>59</th>\n",
              "      <th>60</th>\n",
              "      <th>61</th>\n",
              "      <th>62</th>\n",
              "      <th>63</th>\n",
              "      <th>64</th>\n",
              "      <th>65</th>\n",
              "      <th>66</th>\n",
              "      <th>67</th>\n",
              "      <th>68</th>\n",
              "      <th>69</th>\n",
              "      <th>70</th>\n",
              "      <th>71</th>\n",
              "      <th>72</th>\n",
              "      <th>73</th>\n",
              "      <th>74</th>\n",
              "      <th>75</th>\n",
              "      <th>76</th>\n",
              "      <th>77</th>\n",
              "      <th>78</th>\n",
              "      <th>79</th>\n",
              "      <th>80</th>\n",
              "      <th>81</th>\n",
              "      <th>82</th>\n",
              "      <th>83</th>\n",
              "      <th>84</th>\n",
              "      <th>85</th>\n",
              "      <th>86</th>\n",
              "      <th>87</th>\n",
              "      <th>88</th>\n",
              "      <th>89</th>\n",
              "      <th>90</th>\n",
              "      <th>91</th>\n",
              "      <th>92</th>\n",
              "      <th>93</th>\n",
              "      <th>94</th>\n",
              "      <th>95</th>\n",
              "      <th>96</th>\n",
              "      <th>97</th>\n",
              "      <th>98</th>\n",
              "      <th>99</th>\n",
              "      <th>100</th>\n",
              "      <th>101</th>\n",
              "      <th>102</th>\n",
              "      <th>103</th>\n",
              "      <th>104</th>\n",
              "      <th>105</th>\n",
              "      <th>106</th>\n",
              "      <th>107</th>\n",
              "      <th>108</th>\n",
              "      <th>109</th>\n",
              "      <th>110</th>\n",
              "      <th>111</th>\n",
              "      <th>112</th>\n",
              "      <th>113</th>\n",
              "      <th>114</th>\n",
              "      <th>115</th>\n",
              "      <th>116</th>\n",
              "      <th>117</th>\n",
              "      <th>118</th>\n",
              "      <th>119</th>\n",
              "      <th>120</th>\n",
              "      <th>121</th>\n",
              "      <th>122</th>\n",
              "      <th>123</th>\n",
              "      <th>124</th>\n",
              "      <th>125</th>\n",
              "      <th>126</th>\n",
              "      <th>127</th>\n",
              "      <th>128</th>\n",
              "      <th>129</th>\n",
              "    </tr>\n",
              "  </thead>\n",
              "  <tbody>\n",
              "    <tr>\n",
              "      <th>12014</th>\n",
              "      <td>-0.005374</td>\n",
              "      <td>-0.284991</td>\n",
              "      <td>-0.566489</td>\n",
              "      <td>-0.195866</td>\n",
              "      <td>-0.175797</td>\n",
              "      <td>-0.477252</td>\n",
              "      <td>1.416837</td>\n",
              "      <td>-0.110221</td>\n",
              "      <td>-0.019013</td>\n",
              "      <td>-1.421233</td>\n",
              "      <td>-0.321239</td>\n",
              "      <td>-0.598126</td>\n",
              "      <td>0.667384</td>\n",
              "      <td>-0.019124</td>\n",
              "      <td>-0.037652</td>\n",
              "      <td>0.073698</td>\n",
              "      <td>0.559911</td>\n",
              "      <td>-0.052701</td>\n",
              "      <td>-0.103209</td>\n",
              "      <td>0.020133</td>\n",
              "      <td>-0.150411</td>\n",
              "      <td>0.249556</td>\n",
              "      <td>-0.512159</td>\n",
              "      <td>-0.397099</td>\n",
              "      <td>-0.118627</td>\n",
              "      <td>-0.409257</td>\n",
              "      <td>0.097497</td>\n",
              "      <td>-0.478337</td>\n",
              "      <td>0.411648</td>\n",
              "      <td>0.690874</td>\n",
              "      <td>0.219320</td>\n",
              "      <td>-0.448854</td>\n",
              "      <td>0.576117</td>\n",
              "      <td>-0.668695</td>\n",
              "      <td>-0.655535</td>\n",
              "      <td>0.843580</td>\n",
              "      <td>-0.699541</td>\n",
              "      <td>0.079343</td>\n",
              "      <td>-0.087102</td>\n",
              "      <td>0.181501</td>\n",
              "      <td>0.143269</td>\n",
              "      <td>0.551658</td>\n",
              "      <td>0.096429</td>\n",
              "      <td>-0.155064</td>\n",
              "      <td>-0.566198</td>\n",
              "      <td>0.066585</td>\n",
              "      <td>-0.056573</td>\n",
              "      <td>-0.107029</td>\n",
              "      <td>0.109610</td>\n",
              "      <td>-0.310642</td>\n",
              "      <td>-0.119530</td>\n",
              "      <td>0.201034</td>\n",
              "      <td>0.255139</td>\n",
              "      <td>0.059417</td>\n",
              "      <td>-0.044697</td>\n",
              "      <td>-0.359540</td>\n",
              "      <td>-0.496039</td>\n",
              "      <td>-0.217162</td>\n",
              "      <td>-0.322164</td>\n",
              "      <td>-0.294574</td>\n",
              "      <td>0.291971</td>\n",
              "      <td>0.157606</td>\n",
              "      <td>-0.010294</td>\n",
              "      <td>-0.915086</td>\n",
              "      <td>0.096050</td>\n",
              "      <td>0.415457</td>\n",
              "      <td>0.114824</td>\n",
              "      <td>-0.254362</td>\n",
              "      <td>0.150025</td>\n",
              "      <td>0.081202</td>\n",
              "      <td>-0.263020</td>\n",
              "      <td>-0.150351</td>\n",
              "      <td>-0.353963</td>\n",
              "      <td>-0.232651</td>\n",
              "      <td>-0.432229</td>\n",
              "      <td>0.088620</td>\n",
              "      <td>0.230513</td>\n",
              "      <td>-0.154989</td>\n",
              "      <td>-0.082575</td>\n",
              "      <td>-0.176890</td>\n",
              "      <td>0.166446</td>\n",
              "      <td>-0.342707</td>\n",
              "      <td>0.033721</td>\n",
              "      <td>-0.496570</td>\n",
              "      <td>-0.036026</td>\n",
              "      <td>-0.455435</td>\n",
              "      <td>-0.171238</td>\n",
              "      <td>-0.396182</td>\n",
              "      <td>0.093226</td>\n",
              "      <td>-0.100411</td>\n",
              "      <td>0.388452</td>\n",
              "      <td>0.064316</td>\n",
              "      <td>0.149710</td>\n",
              "      <td>-0.001632</td>\n",
              "      <td>0.375059</td>\n",
              "      <td>-0.031334</td>\n",
              "      <td>-0.188147</td>\n",
              "      <td>0.137991</td>\n",
              "      <td>0.140032</td>\n",
              "      <td>-0.093568</td>\n",
              "      <td>-0.409637</td>\n",
              "      <td>-0.299174</td>\n",
              "      <td>-0.176154</td>\n",
              "      <td>-0.185378</td>\n",
              "      <td>0.050103</td>\n",
              "      <td>0.227935</td>\n",
              "      <td>-0.135947</td>\n",
              "      <td>0.036043</td>\n",
              "      <td>-0.462800</td>\n",
              "      <td>0.253599</td>\n",
              "      <td>-0.171020</td>\n",
              "      <td>0.098897</td>\n",
              "      <td>-0.425375</td>\n",
              "      <td>-0.102176</td>\n",
              "      <td>0.271853</td>\n",
              "      <td>-0.023497</td>\n",
              "      <td>-0.390442</td>\n",
              "      <td>-0.107883</td>\n",
              "      <td>0.531397</td>\n",
              "      <td>-0.433705</td>\n",
              "      <td>-0.260492</td>\n",
              "      <td>0.193411</td>\n",
              "      <td>0.725254</td>\n",
              "      <td>0.131533</td>\n",
              "      <td>0.374754</td>\n",
              "      <td>0.276992</td>\n",
              "      <td>0.521035</td>\n",
              "      <td>0.180682</td>\n",
              "      <td>0.412361</td>\n",
              "      <td>0.055237</td>\n",
              "    </tr>\n",
              "    <tr>\n",
              "      <th>12240</th>\n",
              "      <td>-0.348848</td>\n",
              "      <td>0.428405</td>\n",
              "      <td>0.660820</td>\n",
              "      <td>-0.160870</td>\n",
              "      <td>0.077191</td>\n",
              "      <td>-0.319196</td>\n",
              "      <td>0.595933</td>\n",
              "      <td>-0.581631</td>\n",
              "      <td>0.516899</td>\n",
              "      <td>-0.368846</td>\n",
              "      <td>1.386909</td>\n",
              "      <td>0.286178</td>\n",
              "      <td>0.130993</td>\n",
              "      <td>-0.057881</td>\n",
              "      <td>0.906742</td>\n",
              "      <td>0.259927</td>\n",
              "      <td>-0.263107</td>\n",
              "      <td>0.215628</td>\n",
              "      <td>-0.114780</td>\n",
              "      <td>-0.682801</td>\n",
              "      <td>0.510841</td>\n",
              "      <td>-0.065119</td>\n",
              "      <td>-0.299627</td>\n",
              "      <td>0.509025</td>\n",
              "      <td>-0.228516</td>\n",
              "      <td>0.498725</td>\n",
              "      <td>-0.455968</td>\n",
              "      <td>-0.208082</td>\n",
              "      <td>-0.375320</td>\n",
              "      <td>-0.125198</td>\n",
              "      <td>0.300214</td>\n",
              "      <td>-0.450283</td>\n",
              "      <td>0.396234</td>\n",
              "      <td>0.682287</td>\n",
              "      <td>-0.308192</td>\n",
              "      <td>-0.156472</td>\n",
              "      <td>0.236317</td>\n",
              "      <td>0.444953</td>\n",
              "      <td>-0.097686</td>\n",
              "      <td>0.225405</td>\n",
              "      <td>0.666643</td>\n",
              "      <td>-0.364586</td>\n",
              "      <td>-0.221052</td>\n",
              "      <td>0.121584</td>\n",
              "      <td>0.335126</td>\n",
              "      <td>0.351673</td>\n",
              "      <td>-0.121505</td>\n",
              "      <td>0.749063</td>\n",
              "      <td>-0.296604</td>\n",
              "      <td>-0.038591</td>\n",
              "      <td>0.292875</td>\n",
              "      <td>0.126048</td>\n",
              "      <td>-0.063028</td>\n",
              "      <td>0.469360</td>\n",
              "      <td>0.339492</td>\n",
              "      <td>-0.104358</td>\n",
              "      <td>0.246930</td>\n",
              "      <td>0.179563</td>\n",
              "      <td>-0.398817</td>\n",
              "      <td>-0.573028</td>\n",
              "      <td>0.002297</td>\n",
              "      <td>-0.780400</td>\n",
              "      <td>-0.223580</td>\n",
              "      <td>0.147967</td>\n",
              "      <td>0.167577</td>\n",
              "      <td>0.176817</td>\n",
              "      <td>0.001543</td>\n",
              "      <td>0.636775</td>\n",
              "      <td>-0.017149</td>\n",
              "      <td>-0.972695</td>\n",
              "      <td>-0.490757</td>\n",
              "      <td>0.126714</td>\n",
              "      <td>0.402615</td>\n",
              "      <td>1.168196</td>\n",
              "      <td>-0.271862</td>\n",
              "      <td>-0.191950</td>\n",
              "      <td>-0.168225</td>\n",
              "      <td>0.087741</td>\n",
              "      <td>0.169891</td>\n",
              "      <td>0.251735</td>\n",
              "      <td>0.177139</td>\n",
              "      <td>0.089746</td>\n",
              "      <td>-0.388003</td>\n",
              "      <td>0.532985</td>\n",
              "      <td>0.587552</td>\n",
              "      <td>0.043786</td>\n",
              "      <td>-0.343959</td>\n",
              "      <td>-0.513573</td>\n",
              "      <td>0.152421</td>\n",
              "      <td>0.198763</td>\n",
              "      <td>-0.487442</td>\n",
              "      <td>-0.719708</td>\n",
              "      <td>0.028266</td>\n",
              "      <td>-0.444935</td>\n",
              "      <td>-0.079104</td>\n",
              "      <td>-0.262765</td>\n",
              "      <td>-0.028080</td>\n",
              "      <td>-0.558388</td>\n",
              "      <td>0.183380</td>\n",
              "      <td>-0.163250</td>\n",
              "      <td>-0.652095</td>\n",
              "      <td>0.102275</td>\n",
              "      <td>0.190004</td>\n",
              "      <td>0.153365</td>\n",
              "      <td>0.085511</td>\n",
              "      <td>-0.384263</td>\n",
              "      <td>0.323465</td>\n",
              "      <td>0.147201</td>\n",
              "      <td>-0.128890</td>\n",
              "      <td>-0.144407</td>\n",
              "      <td>0.428300</td>\n",
              "      <td>0.158583</td>\n",
              "      <td>-0.251724</td>\n",
              "      <td>-0.007579</td>\n",
              "      <td>0.093504</td>\n",
              "      <td>0.390412</td>\n",
              "      <td>0.005401</td>\n",
              "      <td>0.642076</td>\n",
              "      <td>-0.230114</td>\n",
              "      <td>-0.330592</td>\n",
              "      <td>0.087631</td>\n",
              "      <td>-0.001216</td>\n",
              "      <td>-0.365798</td>\n",
              "      <td>0.324649</td>\n",
              "      <td>-0.156021</td>\n",
              "      <td>0.305406</td>\n",
              "      <td>-0.037631</td>\n",
              "      <td>-0.517680</td>\n",
              "      <td>0.038896</td>\n",
              "      <td>-0.182378</td>\n",
              "    </tr>\n",
              "    <tr>\n",
              "      <th>17777</th>\n",
              "      <td>-0.009691</td>\n",
              "      <td>0.283642</td>\n",
              "      <td>0.448500</td>\n",
              "      <td>-0.570122</td>\n",
              "      <td>0.333724</td>\n",
              "      <td>-0.897514</td>\n",
              "      <td>-0.239648</td>\n",
              "      <td>-0.063379</td>\n",
              "      <td>0.554990</td>\n",
              "      <td>0.934393</td>\n",
              "      <td>0.800314</td>\n",
              "      <td>0.399849</td>\n",
              "      <td>0.587354</td>\n",
              "      <td>-0.127303</td>\n",
              "      <td>0.689851</td>\n",
              "      <td>-0.012552</td>\n",
              "      <td>0.285989</td>\n",
              "      <td>-0.032000</td>\n",
              "      <td>-0.137470</td>\n",
              "      <td>0.157279</td>\n",
              "      <td>0.254349</td>\n",
              "      <td>0.002957</td>\n",
              "      <td>0.023841</td>\n",
              "      <td>-0.200336</td>\n",
              "      <td>-0.336828</td>\n",
              "      <td>0.004488</td>\n",
              "      <td>-0.090400</td>\n",
              "      <td>0.035857</td>\n",
              "      <td>-0.298432</td>\n",
              "      <td>-0.026477</td>\n",
              "      <td>0.510794</td>\n",
              "      <td>-0.368961</td>\n",
              "      <td>-0.009834</td>\n",
              "      <td>0.266360</td>\n",
              "      <td>-0.124318</td>\n",
              "      <td>-0.175065</td>\n",
              "      <td>-0.262197</td>\n",
              "      <td>0.412320</td>\n",
              "      <td>0.518833</td>\n",
              "      <td>0.034261</td>\n",
              "      <td>0.561172</td>\n",
              "      <td>-0.685508</td>\n",
              "      <td>-0.589230</td>\n",
              "      <td>0.321768</td>\n",
              "      <td>-0.165317</td>\n",
              "      <td>0.158438</td>\n",
              "      <td>-0.638063</td>\n",
              "      <td>-0.336978</td>\n",
              "      <td>0.003299</td>\n",
              "      <td>0.115401</td>\n",
              "      <td>-0.615310</td>\n",
              "      <td>-0.386822</td>\n",
              "      <td>-0.071428</td>\n",
              "      <td>-0.607885</td>\n",
              "      <td>-0.078446</td>\n",
              "      <td>-0.147770</td>\n",
              "      <td>-0.062989</td>\n",
              "      <td>0.023759</td>\n",
              "      <td>-0.131495</td>\n",
              "      <td>0.066166</td>\n",
              "      <td>-0.346391</td>\n",
              "      <td>-0.452152</td>\n",
              "      <td>0.416409</td>\n",
              "      <td>-0.910796</td>\n",
              "      <td>0.106180</td>\n",
              "      <td>-0.393017</td>\n",
              "      <td>-0.053161</td>\n",
              "      <td>-0.487385</td>\n",
              "      <td>-0.567693</td>\n",
              "      <td>0.114430</td>\n",
              "      <td>0.854857</td>\n",
              "      <td>-0.009646</td>\n",
              "      <td>0.109490</td>\n",
              "      <td>0.094667</td>\n",
              "      <td>0.095252</td>\n",
              "      <td>0.038443</td>\n",
              "      <td>0.052487</td>\n",
              "      <td>-0.357140</td>\n",
              "      <td>0.099612</td>\n",
              "      <td>0.039392</td>\n",
              "      <td>-0.313497</td>\n",
              "      <td>0.066803</td>\n",
              "      <td>0.000050</td>\n",
              "      <td>0.254856</td>\n",
              "      <td>0.130464</td>\n",
              "      <td>0.289825</td>\n",
              "      <td>-0.143551</td>\n",
              "      <td>-0.167056</td>\n",
              "      <td>-0.054560</td>\n",
              "      <td>0.066393</td>\n",
              "      <td>0.047068</td>\n",
              "      <td>-0.041019</td>\n",
              "      <td>-0.001916</td>\n",
              "      <td>-0.350772</td>\n",
              "      <td>-0.005847</td>\n",
              "      <td>0.144856</td>\n",
              "      <td>0.164357</td>\n",
              "      <td>-0.249466</td>\n",
              "      <td>-0.015284</td>\n",
              "      <td>0.302384</td>\n",
              "      <td>-0.010539</td>\n",
              "      <td>0.393553</td>\n",
              "      <td>-0.277193</td>\n",
              "      <td>-0.040442</td>\n",
              "      <td>0.197841</td>\n",
              "      <td>0.417211</td>\n",
              "      <td>-0.210909</td>\n",
              "      <td>-0.208080</td>\n",
              "      <td>-0.328412</td>\n",
              "      <td>0.263245</td>\n",
              "      <td>0.033771</td>\n",
              "      <td>-0.255664</td>\n",
              "      <td>-0.076503</td>\n",
              "      <td>0.501034</td>\n",
              "      <td>-0.006305</td>\n",
              "      <td>0.191322</td>\n",
              "      <td>0.427578</td>\n",
              "      <td>0.113548</td>\n",
              "      <td>0.084980</td>\n",
              "      <td>0.351666</td>\n",
              "      <td>0.091236</td>\n",
              "      <td>0.066420</td>\n",
              "      <td>0.385669</td>\n",
              "      <td>0.322169</td>\n",
              "      <td>-0.097157</td>\n",
              "      <td>-0.259105</td>\n",
              "      <td>-0.244214</td>\n",
              "      <td>0.127532</td>\n",
              "      <td>0.161858</td>\n",
              "      <td>0.311154</td>\n",
              "    </tr>\n",
              "    <tr>\n",
              "      <th>12102</th>\n",
              "      <td>-0.367143</td>\n",
              "      <td>-0.035443</td>\n",
              "      <td>-0.141337</td>\n",
              "      <td>-0.241876</td>\n",
              "      <td>-0.148454</td>\n",
              "      <td>-0.672879</td>\n",
              "      <td>0.737105</td>\n",
              "      <td>0.360689</td>\n",
              "      <td>0.239853</td>\n",
              "      <td>0.800062</td>\n",
              "      <td>-0.010898</td>\n",
              "      <td>-0.710096</td>\n",
              "      <td>-0.010183</td>\n",
              "      <td>-0.240187</td>\n",
              "      <td>0.513951</td>\n",
              "      <td>0.232740</td>\n",
              "      <td>-0.570460</td>\n",
              "      <td>0.148187</td>\n",
              "      <td>0.172197</td>\n",
              "      <td>0.135268</td>\n",
              "      <td>-0.361518</td>\n",
              "      <td>0.285487</td>\n",
              "      <td>-0.692068</td>\n",
              "      <td>-0.609170</td>\n",
              "      <td>0.500075</td>\n",
              "      <td>-0.674853</td>\n",
              "      <td>-0.728445</td>\n",
              "      <td>-0.027556</td>\n",
              "      <td>0.187808</td>\n",
              "      <td>0.669256</td>\n",
              "      <td>-0.200728</td>\n",
              "      <td>-0.289761</td>\n",
              "      <td>0.060700</td>\n",
              "      <td>0.365986</td>\n",
              "      <td>0.239795</td>\n",
              "      <td>-0.516553</td>\n",
              "      <td>0.239737</td>\n",
              "      <td>-0.056094</td>\n",
              "      <td>-0.340279</td>\n",
              "      <td>0.076014</td>\n",
              "      <td>0.027984</td>\n",
              "      <td>-0.415105</td>\n",
              "      <td>0.289901</td>\n",
              "      <td>-0.422694</td>\n",
              "      <td>0.106298</td>\n",
              "      <td>-0.626021</td>\n",
              "      <td>0.511353</td>\n",
              "      <td>-0.688376</td>\n",
              "      <td>0.074514</td>\n",
              "      <td>0.206385</td>\n",
              "      <td>-0.079134</td>\n",
              "      <td>0.715633</td>\n",
              "      <td>-0.177484</td>\n",
              "      <td>0.837784</td>\n",
              "      <td>-0.083390</td>\n",
              "      <td>-0.206889</td>\n",
              "      <td>-0.257171</td>\n",
              "      <td>-0.551990</td>\n",
              "      <td>0.455926</td>\n",
              "      <td>0.132721</td>\n",
              "      <td>-0.126731</td>\n",
              "      <td>-0.945036</td>\n",
              "      <td>0.284715</td>\n",
              "      <td>0.131924</td>\n",
              "      <td>-0.341787</td>\n",
              "      <td>0.121223</td>\n",
              "      <td>-0.062339</td>\n",
              "      <td>0.257612</td>\n",
              "      <td>-0.180605</td>\n",
              "      <td>-0.038439</td>\n",
              "      <td>-0.111854</td>\n",
              "      <td>-0.044658</td>\n",
              "      <td>0.701907</td>\n",
              "      <td>-0.402362</td>\n",
              "      <td>0.023533</td>\n",
              "      <td>0.036489</td>\n",
              "      <td>-0.016462</td>\n",
              "      <td>0.509439</td>\n",
              "      <td>-0.276694</td>\n",
              "      <td>0.260863</td>\n",
              "      <td>-0.027723</td>\n",
              "      <td>-0.099201</td>\n",
              "      <td>-0.205823</td>\n",
              "      <td>-0.013530</td>\n",
              "      <td>-0.126348</td>\n",
              "      <td>-0.130914</td>\n",
              "      <td>-0.380086</td>\n",
              "      <td>0.528792</td>\n",
              "      <td>0.780692</td>\n",
              "      <td>-0.215897</td>\n",
              "      <td>-0.248158</td>\n",
              "      <td>0.156347</td>\n",
              "      <td>0.492767</td>\n",
              "      <td>-0.715288</td>\n",
              "      <td>0.001807</td>\n",
              "      <td>-0.121199</td>\n",
              "      <td>0.121997</td>\n",
              "      <td>-0.103236</td>\n",
              "      <td>-0.549199</td>\n",
              "      <td>0.060440</td>\n",
              "      <td>0.618210</td>\n",
              "      <td>-0.052706</td>\n",
              "      <td>0.102045</td>\n",
              "      <td>-0.132674</td>\n",
              "      <td>0.385846</td>\n",
              "      <td>0.209887</td>\n",
              "      <td>-0.437721</td>\n",
              "      <td>-0.020675</td>\n",
              "      <td>0.522950</td>\n",
              "      <td>-0.008256</td>\n",
              "      <td>-0.296192</td>\n",
              "      <td>0.053453</td>\n",
              "      <td>0.362979</td>\n",
              "      <td>-0.083248</td>\n",
              "      <td>0.239563</td>\n",
              "      <td>-0.026249</td>\n",
              "      <td>0.309445</td>\n",
              "      <td>0.034690</td>\n",
              "      <td>-0.175106</td>\n",
              "      <td>-0.061742</td>\n",
              "      <td>0.925429</td>\n",
              "      <td>-0.033480</td>\n",
              "      <td>0.499233</td>\n",
              "      <td>0.112712</td>\n",
              "      <td>0.376131</td>\n",
              "      <td>0.144839</td>\n",
              "      <td>0.022893</td>\n",
              "      <td>-0.159158</td>\n",
              "      <td>0.174954</td>\n",
              "      <td>-0.146953</td>\n",
              "    </tr>\n",
              "    <tr>\n",
              "      <th>13708</th>\n",
              "      <td>2.428419</td>\n",
              "      <td>-0.299689</td>\n",
              "      <td>-0.311880</td>\n",
              "      <td>-1.486313</td>\n",
              "      <td>-0.273650</td>\n",
              "      <td>0.098849</td>\n",
              "      <td>-0.134534</td>\n",
              "      <td>-0.001765</td>\n",
              "      <td>-0.183063</td>\n",
              "      <td>-0.174223</td>\n",
              "      <td>0.147489</td>\n",
              "      <td>1.235470</td>\n",
              "      <td>-1.069224</td>\n",
              "      <td>-0.104424</td>\n",
              "      <td>-0.442140</td>\n",
              "      <td>1.147305</td>\n",
              "      <td>0.186731</td>\n",
              "      <td>0.369031</td>\n",
              "      <td>-0.134962</td>\n",
              "      <td>-0.102458</td>\n",
              "      <td>-0.135416</td>\n",
              "      <td>-0.089060</td>\n",
              "      <td>0.032212</td>\n",
              "      <td>0.044142</td>\n",
              "      <td>-0.086291</td>\n",
              "      <td>0.106422</td>\n",
              "      <td>0.152225</td>\n",
              "      <td>-0.032373</td>\n",
              "      <td>-0.000214</td>\n",
              "      <td>-0.459205</td>\n",
              "      <td>-0.220650</td>\n",
              "      <td>0.399884</td>\n",
              "      <td>0.101277</td>\n",
              "      <td>-0.241957</td>\n",
              "      <td>0.183855</td>\n",
              "      <td>-0.176758</td>\n",
              "      <td>0.056791</td>\n",
              "      <td>-0.186038</td>\n",
              "      <td>0.622910</td>\n",
              "      <td>0.008174</td>\n",
              "      <td>0.260894</td>\n",
              "      <td>-0.564425</td>\n",
              "      <td>0.956634</td>\n",
              "      <td>-0.433247</td>\n",
              "      <td>-0.079808</td>\n",
              "      <td>-0.318305</td>\n",
              "      <td>0.181876</td>\n",
              "      <td>-0.191146</td>\n",
              "      <td>-0.167379</td>\n",
              "      <td>0.159223</td>\n",
              "      <td>-0.559288</td>\n",
              "      <td>0.513518</td>\n",
              "      <td>0.089114</td>\n",
              "      <td>-0.280956</td>\n",
              "      <td>-0.141907</td>\n",
              "      <td>-0.982514</td>\n",
              "      <td>-0.106394</td>\n",
              "      <td>0.099961</td>\n",
              "      <td>0.038237</td>\n",
              "      <td>-0.669964</td>\n",
              "      <td>-0.161757</td>\n",
              "      <td>-0.256297</td>\n",
              "      <td>-0.547810</td>\n",
              "      <td>-0.411192</td>\n",
              "      <td>0.161179</td>\n",
              "      <td>0.247236</td>\n",
              "      <td>-0.099183</td>\n",
              "      <td>-0.514788</td>\n",
              "      <td>-0.297753</td>\n",
              "      <td>0.527516</td>\n",
              "      <td>0.543506</td>\n",
              "      <td>0.716396</td>\n",
              "      <td>-1.572910</td>\n",
              "      <td>0.036668</td>\n",
              "      <td>0.146939</td>\n",
              "      <td>-0.639247</td>\n",
              "      <td>-0.158619</td>\n",
              "      <td>-0.004713</td>\n",
              "      <td>0.127243</td>\n",
              "      <td>-0.396037</td>\n",
              "      <td>-0.226817</td>\n",
              "      <td>-0.481344</td>\n",
              "      <td>0.353311</td>\n",
              "      <td>0.542435</td>\n",
              "      <td>-0.106357</td>\n",
              "      <td>-0.928627</td>\n",
              "      <td>1.041446</td>\n",
              "      <td>-0.103830</td>\n",
              "      <td>0.600946</td>\n",
              "      <td>-0.186064</td>\n",
              "      <td>0.065451</td>\n",
              "      <td>0.711618</td>\n",
              "      <td>-0.005466</td>\n",
              "      <td>-0.081508</td>\n",
              "      <td>0.158548</td>\n",
              "      <td>-0.387674</td>\n",
              "      <td>0.460653</td>\n",
              "      <td>-0.325267</td>\n",
              "      <td>0.188169</td>\n",
              "      <td>0.376944</td>\n",
              "      <td>0.162741</td>\n",
              "      <td>0.181468</td>\n",
              "      <td>1.119423</td>\n",
              "      <td>-0.149089</td>\n",
              "      <td>0.511037</td>\n",
              "      <td>-0.346092</td>\n",
              "      <td>0.554112</td>\n",
              "      <td>-0.329841</td>\n",
              "      <td>0.756145</td>\n",
              "      <td>-0.454101</td>\n",
              "      <td>0.154216</td>\n",
              "      <td>-0.716242</td>\n",
              "      <td>0.125473</td>\n",
              "      <td>-1.014380</td>\n",
              "      <td>0.220636</td>\n",
              "      <td>0.102596</td>\n",
              "      <td>1.038162</td>\n",
              "      <td>0.067123</td>\n",
              "      <td>0.053482</td>\n",
              "      <td>-0.437334</td>\n",
              "      <td>0.434426</td>\n",
              "      <td>0.265488</td>\n",
              "      <td>-0.758518</td>\n",
              "      <td>-0.074073</td>\n",
              "      <td>0.252520</td>\n",
              "      <td>0.086543</td>\n",
              "      <td>0.420467</td>\n",
              "      <td>0.697224</td>\n",
              "      <td>0.040703</td>\n",
              "      <td>0.047403</td>\n",
              "    </tr>\n",
              "  </tbody>\n",
              "</table>\n",
              "</div>\n",
              "      <button class=\"colab-df-convert\" onclick=\"convertToInteractive('df-b07ba2bf-d2b8-41cb-bccc-4cadb990070e')\"\n",
              "              title=\"Convert this dataframe to an interactive table.\"\n",
              "              style=\"display:none;\">\n",
              "        \n",
              "  <svg xmlns=\"http://www.w3.org/2000/svg\" height=\"24px\"viewBox=\"0 0 24 24\"\n",
              "       width=\"24px\">\n",
              "    <path d=\"M0 0h24v24H0V0z\" fill=\"none\"/>\n",
              "    <path d=\"M18.56 5.44l.94 2.06.94-2.06 2.06-.94-2.06-.94-.94-2.06-.94 2.06-2.06.94zm-11 1L8.5 8.5l.94-2.06 2.06-.94-2.06-.94L8.5 2.5l-.94 2.06-2.06.94zm10 10l.94 2.06.94-2.06 2.06-.94-2.06-.94-.94-2.06-.94 2.06-2.06.94z\"/><path d=\"M17.41 7.96l-1.37-1.37c-.4-.4-.92-.59-1.43-.59-.52 0-1.04.2-1.43.59L10.3 9.45l-7.72 7.72c-.78.78-.78 2.05 0 2.83L4 21.41c.39.39.9.59 1.41.59.51 0 1.02-.2 1.41-.59l7.78-7.78 2.81-2.81c.8-.78.8-2.07 0-2.86zM5.41 20L4 18.59l7.72-7.72 1.47 1.35L5.41 20z\"/>\n",
              "  </svg>\n",
              "      </button>\n",
              "      \n",
              "  <style>\n",
              "    .colab-df-container {\n",
              "      display:flex;\n",
              "      flex-wrap:wrap;\n",
              "      gap: 12px;\n",
              "    }\n",
              "\n",
              "    .colab-df-convert {\n",
              "      background-color: #E8F0FE;\n",
              "      border: none;\n",
              "      border-radius: 50%;\n",
              "      cursor: pointer;\n",
              "      display: none;\n",
              "      fill: #1967D2;\n",
              "      height: 32px;\n",
              "      padding: 0 0 0 0;\n",
              "      width: 32px;\n",
              "    }\n",
              "\n",
              "    .colab-df-convert:hover {\n",
              "      background-color: #E2EBFA;\n",
              "      box-shadow: 0px 1px 2px rgba(60, 64, 67, 0.3), 0px 1px 3px 1px rgba(60, 64, 67, 0.15);\n",
              "      fill: #174EA6;\n",
              "    }\n",
              "\n",
              "    [theme=dark] .colab-df-convert {\n",
              "      background-color: #3B4455;\n",
              "      fill: #D2E3FC;\n",
              "    }\n",
              "\n",
              "    [theme=dark] .colab-df-convert:hover {\n",
              "      background-color: #434B5C;\n",
              "      box-shadow: 0px 1px 3px 1px rgba(0, 0, 0, 0.15);\n",
              "      filter: drop-shadow(0px 1px 2px rgba(0, 0, 0, 0.3));\n",
              "      fill: #FFFFFF;\n",
              "    }\n",
              "  </style>\n",
              "\n",
              "      <script>\n",
              "        const buttonEl =\n",
              "          document.querySelector('#df-b07ba2bf-d2b8-41cb-bccc-4cadb990070e button.colab-df-convert');\n",
              "        buttonEl.style.display =\n",
              "          google.colab.kernel.accessAllowed ? 'block' : 'none';\n",
              "\n",
              "        async function convertToInteractive(key) {\n",
              "          const element = document.querySelector('#df-b07ba2bf-d2b8-41cb-bccc-4cadb990070e');\n",
              "          const dataTable =\n",
              "            await google.colab.kernel.invokeFunction('convertToInteractive',\n",
              "                                                     [key], {});\n",
              "          if (!dataTable) return;\n",
              "\n",
              "          const docLinkHtml = 'Like what you see? Visit the ' +\n",
              "            '<a target=\"_blank\" href=https://colab.research.google.com/notebooks/data_table.ipynb>data table notebook</a>'\n",
              "            + ' to learn more about interactive tables.';\n",
              "          element.innerHTML = '';\n",
              "          dataTable['output_type'] = 'display_data';\n",
              "          await google.colab.output.renderOutput(dataTable, element);\n",
              "          const docLink = document.createElement('div');\n",
              "          docLink.innerHTML = docLinkHtml;\n",
              "          element.appendChild(docLink);\n",
              "        }\n",
              "      </script>\n",
              "    </div>\n",
              "  </div>\n",
              "  "
            ],
            "text/plain": [
              "            0         1         2         3         4         5         6    \\\n",
              "12014 -0.005374 -0.284991 -0.566489 -0.195866 -0.175797 -0.477252  1.416837   \n",
              "12240 -0.348848  0.428405  0.660820 -0.160870  0.077191 -0.319196  0.595933   \n",
              "17777 -0.009691  0.283642  0.448500 -0.570122  0.333724 -0.897514 -0.239648   \n",
              "12102 -0.367143 -0.035443 -0.141337 -0.241876 -0.148454 -0.672879  0.737105   \n",
              "13708  2.428419 -0.299689 -0.311880 -1.486313 -0.273650  0.098849 -0.134534   \n",
              "\n",
              "            7         8         9         10        11        12        13   \\\n",
              "12014 -0.110221 -0.019013 -1.421233 -0.321239 -0.598126  0.667384 -0.019124   \n",
              "12240 -0.581631  0.516899 -0.368846  1.386909  0.286178  0.130993 -0.057881   \n",
              "17777 -0.063379  0.554990  0.934393  0.800314  0.399849  0.587354 -0.127303   \n",
              "12102  0.360689  0.239853  0.800062 -0.010898 -0.710096 -0.010183 -0.240187   \n",
              "13708 -0.001765 -0.183063 -0.174223  0.147489  1.235470 -1.069224 -0.104424   \n",
              "\n",
              "            14        15        16        17        18        19        20   \\\n",
              "12014 -0.037652  0.073698  0.559911 -0.052701 -0.103209  0.020133 -0.150411   \n",
              "12240  0.906742  0.259927 -0.263107  0.215628 -0.114780 -0.682801  0.510841   \n",
              "17777  0.689851 -0.012552  0.285989 -0.032000 -0.137470  0.157279  0.254349   \n",
              "12102  0.513951  0.232740 -0.570460  0.148187  0.172197  0.135268 -0.361518   \n",
              "13708 -0.442140  1.147305  0.186731  0.369031 -0.134962 -0.102458 -0.135416   \n",
              "\n",
              "            21        22        23        24        25        26        27   \\\n",
              "12014  0.249556 -0.512159 -0.397099 -0.118627 -0.409257  0.097497 -0.478337   \n",
              "12240 -0.065119 -0.299627  0.509025 -0.228516  0.498725 -0.455968 -0.208082   \n",
              "17777  0.002957  0.023841 -0.200336 -0.336828  0.004488 -0.090400  0.035857   \n",
              "12102  0.285487 -0.692068 -0.609170  0.500075 -0.674853 -0.728445 -0.027556   \n",
              "13708 -0.089060  0.032212  0.044142 -0.086291  0.106422  0.152225 -0.032373   \n",
              "\n",
              "            28        29        30        31        32        33        34   \\\n",
              "12014  0.411648  0.690874  0.219320 -0.448854  0.576117 -0.668695 -0.655535   \n",
              "12240 -0.375320 -0.125198  0.300214 -0.450283  0.396234  0.682287 -0.308192   \n",
              "17777 -0.298432 -0.026477  0.510794 -0.368961 -0.009834  0.266360 -0.124318   \n",
              "12102  0.187808  0.669256 -0.200728 -0.289761  0.060700  0.365986  0.239795   \n",
              "13708 -0.000214 -0.459205 -0.220650  0.399884  0.101277 -0.241957  0.183855   \n",
              "\n",
              "            35        36        37        38        39        40        41   \\\n",
              "12014  0.843580 -0.699541  0.079343 -0.087102  0.181501  0.143269  0.551658   \n",
              "12240 -0.156472  0.236317  0.444953 -0.097686  0.225405  0.666643 -0.364586   \n",
              "17777 -0.175065 -0.262197  0.412320  0.518833  0.034261  0.561172 -0.685508   \n",
              "12102 -0.516553  0.239737 -0.056094 -0.340279  0.076014  0.027984 -0.415105   \n",
              "13708 -0.176758  0.056791 -0.186038  0.622910  0.008174  0.260894 -0.564425   \n",
              "\n",
              "            42        43        44        45        46        47        48   \\\n",
              "12014  0.096429 -0.155064 -0.566198  0.066585 -0.056573 -0.107029  0.109610   \n",
              "12240 -0.221052  0.121584  0.335126  0.351673 -0.121505  0.749063 -0.296604   \n",
              "17777 -0.589230  0.321768 -0.165317  0.158438 -0.638063 -0.336978  0.003299   \n",
              "12102  0.289901 -0.422694  0.106298 -0.626021  0.511353 -0.688376  0.074514   \n",
              "13708  0.956634 -0.433247 -0.079808 -0.318305  0.181876 -0.191146 -0.167379   \n",
              "\n",
              "            49        50        51        52        53        54        55   \\\n",
              "12014 -0.310642 -0.119530  0.201034  0.255139  0.059417 -0.044697 -0.359540   \n",
              "12240 -0.038591  0.292875  0.126048 -0.063028  0.469360  0.339492 -0.104358   \n",
              "17777  0.115401 -0.615310 -0.386822 -0.071428 -0.607885 -0.078446 -0.147770   \n",
              "12102  0.206385 -0.079134  0.715633 -0.177484  0.837784 -0.083390 -0.206889   \n",
              "13708  0.159223 -0.559288  0.513518  0.089114 -0.280956 -0.141907 -0.982514   \n",
              "\n",
              "            56        57        58        59        60        61        62   \\\n",
              "12014 -0.496039 -0.217162 -0.322164 -0.294574  0.291971  0.157606 -0.010294   \n",
              "12240  0.246930  0.179563 -0.398817 -0.573028  0.002297 -0.780400 -0.223580   \n",
              "17777 -0.062989  0.023759 -0.131495  0.066166 -0.346391 -0.452152  0.416409   \n",
              "12102 -0.257171 -0.551990  0.455926  0.132721 -0.126731 -0.945036  0.284715   \n",
              "13708 -0.106394  0.099961  0.038237 -0.669964 -0.161757 -0.256297 -0.547810   \n",
              "\n",
              "            63        64        65        66        67        68        69   \\\n",
              "12014 -0.915086  0.096050  0.415457  0.114824 -0.254362  0.150025  0.081202   \n",
              "12240  0.147967  0.167577  0.176817  0.001543  0.636775 -0.017149 -0.972695   \n",
              "17777 -0.910796  0.106180 -0.393017 -0.053161 -0.487385 -0.567693  0.114430   \n",
              "12102  0.131924 -0.341787  0.121223 -0.062339  0.257612 -0.180605 -0.038439   \n",
              "13708 -0.411192  0.161179  0.247236 -0.099183 -0.514788 -0.297753  0.527516   \n",
              "\n",
              "            70        71        72        73        74        75        76   \\\n",
              "12014 -0.263020 -0.150351 -0.353963 -0.232651 -0.432229  0.088620  0.230513   \n",
              "12240 -0.490757  0.126714  0.402615  1.168196 -0.271862 -0.191950 -0.168225   \n",
              "17777  0.854857 -0.009646  0.109490  0.094667  0.095252  0.038443  0.052487   \n",
              "12102 -0.111854 -0.044658  0.701907 -0.402362  0.023533  0.036489 -0.016462   \n",
              "13708  0.543506  0.716396 -1.572910  0.036668  0.146939 -0.639247 -0.158619   \n",
              "\n",
              "            77        78        79        80        81        82        83   \\\n",
              "12014 -0.154989 -0.082575 -0.176890  0.166446 -0.342707  0.033721 -0.496570   \n",
              "12240  0.087741  0.169891  0.251735  0.177139  0.089746 -0.388003  0.532985   \n",
              "17777 -0.357140  0.099612  0.039392 -0.313497  0.066803  0.000050  0.254856   \n",
              "12102  0.509439 -0.276694  0.260863 -0.027723 -0.099201 -0.205823 -0.013530   \n",
              "13708 -0.004713  0.127243 -0.396037 -0.226817 -0.481344  0.353311  0.542435   \n",
              "\n",
              "            84        85        86        87        88        89        90   \\\n",
              "12014 -0.036026 -0.455435 -0.171238 -0.396182  0.093226 -0.100411  0.388452   \n",
              "12240  0.587552  0.043786 -0.343959 -0.513573  0.152421  0.198763 -0.487442   \n",
              "17777  0.130464  0.289825 -0.143551 -0.167056 -0.054560  0.066393  0.047068   \n",
              "12102 -0.126348 -0.130914 -0.380086  0.528792  0.780692 -0.215897 -0.248158   \n",
              "13708 -0.106357 -0.928627  1.041446 -0.103830  0.600946 -0.186064  0.065451   \n",
              "\n",
              "            91        92        93        94        95        96        97   \\\n",
              "12014  0.064316  0.149710 -0.001632  0.375059 -0.031334 -0.188147  0.137991   \n",
              "12240 -0.719708  0.028266 -0.444935 -0.079104 -0.262765 -0.028080 -0.558388   \n",
              "17777 -0.041019 -0.001916 -0.350772 -0.005847  0.144856  0.164357 -0.249466   \n",
              "12102  0.156347  0.492767 -0.715288  0.001807 -0.121199  0.121997 -0.103236   \n",
              "13708  0.711618 -0.005466 -0.081508  0.158548 -0.387674  0.460653 -0.325267   \n",
              "\n",
              "            98        99        100       101       102       103       104  \\\n",
              "12014  0.140032 -0.093568 -0.409637 -0.299174 -0.176154 -0.185378  0.050103   \n",
              "12240  0.183380 -0.163250 -0.652095  0.102275  0.190004  0.153365  0.085511   \n",
              "17777 -0.015284  0.302384 -0.010539  0.393553 -0.277193 -0.040442  0.197841   \n",
              "12102 -0.549199  0.060440  0.618210 -0.052706  0.102045 -0.132674  0.385846   \n",
              "13708  0.188169  0.376944  0.162741  0.181468  1.119423 -0.149089  0.511037   \n",
              "\n",
              "            105       106       107       108       109       110       111  \\\n",
              "12014  0.227935 -0.135947  0.036043 -0.462800  0.253599 -0.171020  0.098897   \n",
              "12240 -0.384263  0.323465  0.147201 -0.128890 -0.144407  0.428300  0.158583   \n",
              "17777  0.417211 -0.210909 -0.208080 -0.328412  0.263245  0.033771 -0.255664   \n",
              "12102  0.209887 -0.437721 -0.020675  0.522950 -0.008256 -0.296192  0.053453   \n",
              "13708 -0.346092  0.554112 -0.329841  0.756145 -0.454101  0.154216 -0.716242   \n",
              "\n",
              "            112       113       114       115       116       117       118  \\\n",
              "12014 -0.425375 -0.102176  0.271853 -0.023497 -0.390442 -0.107883  0.531397   \n",
              "12240 -0.251724 -0.007579  0.093504  0.390412  0.005401  0.642076 -0.230114   \n",
              "17777 -0.076503  0.501034 -0.006305  0.191322  0.427578  0.113548  0.084980   \n",
              "12102  0.362979 -0.083248  0.239563 -0.026249  0.309445  0.034690 -0.175106   \n",
              "13708  0.125473 -1.014380  0.220636  0.102596  1.038162  0.067123  0.053482   \n",
              "\n",
              "            119       120       121       122       123       124       125  \\\n",
              "12014 -0.433705 -0.260492  0.193411  0.725254  0.131533  0.374754  0.276992   \n",
              "12240 -0.330592  0.087631 -0.001216 -0.365798  0.324649 -0.156021  0.305406   \n",
              "17777  0.351666  0.091236  0.066420  0.385669  0.322169 -0.097157 -0.259105   \n",
              "12102 -0.061742  0.925429 -0.033480  0.499233  0.112712  0.376131  0.144839   \n",
              "13708 -0.437334  0.434426  0.265488 -0.758518 -0.074073  0.252520  0.086543   \n",
              "\n",
              "            126       127       128       129  \n",
              "12014  0.521035  0.180682  0.412361  0.055237  \n",
              "12240 -0.037631 -0.517680  0.038896 -0.182378  \n",
              "17777 -0.244214  0.127532  0.161858  0.311154  \n",
              "12102  0.022893 -0.159158  0.174954 -0.146953  \n",
              "13708  0.420467  0.697224  0.040703  0.047403  "
            ]
          },
          "metadata": {},
          "execution_count": 24
        }
      ],
      "source": [
        "# Check the dataset of components which will be used for clustering.\n",
        "famdX.head()"
      ]
    },
    {
      "cell_type": "markdown",
      "source": [
        "Parameters: min_samples, eps\n",
        "* min_samples: minimum number of instances\n",
        "\n",
        "> This is the minimum number of instances to form a cluster. Following the common method for tuning this parameter, it should be equal or greater than the number of dimensionality. First of all, we gave min_samples = 2 * n_components.\n",
        "\n",
        "\n",
        "* eps: the fewest number of points required to form a cluster\n",
        "\n",
        "\n",
        "> This is determined by running the K-nearest neighbours algorithm. First of all calculate the average distances between each point and its K-nearest neighbours, where K will be the min_samples that we defined above.\n",
        "\n",
        "\n"
      ],
      "metadata": {
        "id": "EjZQVLgnwV1O"
      }
    },
    {
      "cell_type": "code",
      "source": [
        "# After deciding the min_samples to equivalent or greater than n_components, give this value to n_neighbors parameter.\n",
        "neighbors = NearestNeighbors(n_neighbors= 130)\n",
        "neighbors_fit = neighbors.fit(famdX)\n",
        "distances, indices = neighbors_fit.kneighbors(famdX)"
      ],
      "metadata": {
        "id": "hj6UnXp1v8Km"
      },
      "execution_count": null,
      "outputs": []
    },
    {
      "cell_type": "code",
      "source": [
        "# Visualize the points by distance sorted by the K-th neighbours.\n",
        "distances = np.sort(distances, axis=0)\n",
        "distances = distances[:,1]\n",
        "plt.plot(distances)"
      ],
      "metadata": {
        "colab": {
          "base_uri": "https://localhost:8080/",
          "height": 282
        },
        "id": "nwR8euULwUZk",
        "outputId": "3fc223cb-c1f6-4ac4-fafa-ea8178bec6c9"
      },
      "execution_count": null,
      "outputs": [
        {
          "output_type": "execute_result",
          "data": {
            "text/plain": [
              "[<matplotlib.lines.Line2D at 0x7fc7a5db1890>]"
            ]
          },
          "metadata": {},
          "execution_count": 26
        },
        {
          "output_type": "display_data",
          "data": {
            "image/png": "[encoded data removed]",
            "text/plain": [
              "<Figure size 432x288 with 1 Axes>"
            ]
          },
          "metadata": {
            "needs_background": "light"
          }
        }
      ]
    },
    {
      "cell_type": "markdown",
      "source": [
        "Parameters set_0\n",
        "* min_samples: 130\n",
        "* eps:6.8"
      ],
      "metadata": {
        "id": "WlpXDOi04ZK5"
      }
    },
    {
      "cell_type": "code",
      "execution_count": null,
      "metadata": {
        "id": "2dt9TaZyF_UT"
      },
      "outputs": [],
      "source": [
        "# DBSCAN Clustering based on the parameters set above\n",
        "db = DBSCAN(eps= 6.8, min_samples=130)\n",
        "y_pred_0 = db.fit_predict(famdX)"
      ]
    },
    {
      "cell_type": "code",
      "source": [
        "len(y_pred_0)"
      ],
      "metadata": {
        "colab": {
          "base_uri": "https://localhost:8080/"
        },
        "outputId": "dee15f7a-0cec-49bc-cf1f-a6fdfd18d0c0",
        "id": "qPIvbdbsF_UT"
      },
      "execution_count": null,
      "outputs": [
        {
          "output_type": "execute_result",
          "data": {
            "text/plain": [
              "26048"
            ]
          },
          "metadata": {},
          "execution_count": 44
        }
      ]
    },
    {
      "cell_type": "code",
      "execution_count": null,
      "metadata": {
        "colab": {
          "base_uri": "https://localhost:8080/"
        },
        "outputId": "b3c38853-824c-4e50-aeba-fe9fa23e86cb",
        "id": "ODlgKIG4F_UT"
      },
      "outputs": [
        {
          "output_type": "stream",
          "name": "stdout",
          "text": [
            "{0, 1, -1}\n"
          ]
        }
      ],
      "source": [
        "# Check the labels of cluster\n",
        "print(set(y_pred_0))"
      ]
    },
    {
      "cell_type": "markdown",
      "metadata": {
        "id": "n2WC02MdF_UU"
      },
      "source": [
        "### DBSCAN Result Visualization"
      ]
    },
    {
      "cell_type": "code",
      "execution_count": null,
      "metadata": {
        "colab": {
          "base_uri": "https://localhost:8080/",
          "height": 407
        },
        "outputId": "248c435e-24e0-4bbf-fe8f-f853ee6361aa",
        "id": "1Cx3OEEHF_UU"
      },
      "outputs": [
        {
          "output_type": "execute_result",
          "data": {
            "text/plain": [
              "2642"
            ]
          },
          "metadata": {},
          "execution_count": 46
        },
        {
          "output_type": "display_data",
          "data": {
            "image/png": "[encoded data removed]",
            "text/plain": [
              "<Figure size 720x432 with 1 Axes>"
            ]
          },
          "metadata": {
            "needs_background": "light"
          }
        }
      ],
      "source": [
        "plt.figure(figsize=(10,6))\n",
        "plt.scatter(famdX.iloc[:,0], famdX.iloc[:,1],c=y_pred_0, cmap='Paired')\n",
        "plt.title(\"Clusters determined by DBSCAN\")\n",
        "db.labels_[db.labels_ == -1].size"
      ]
    },
    {
      "cell_type": "markdown",
      "metadata": {
        "id": "Ds4i6t4RF_UU"
      },
      "source": [
        "### Evaluation of the clustering method"
      ]
    },
    {
      "cell_type": "markdown",
      "metadata": {
        "id": "qfGVUfHfF_UU"
      },
      "source": [
        "Deicision of cluserting evaluation measures\n",
        "\n",
        "* DBSCAN has their own way of measuring the performance of clustering, which is called DBCV. It is a better evaluation measure with the ability to handle the noise and non-globular shaped clusters. However, DBCV can only be accessed by code implementation from github and running it on our code did not end.\n",
        "\n",
        "Therefore we used the same evaluation measures with the one for K-means clustering. However, it is likely to be biased to have higher values.\n"
      ]
    },
    {
      "cell_type": "code",
      "execution_count": null,
      "metadata": {
        "colab": {
          "base_uri": "https://localhost:8080/"
        },
        "outputId": "abe8e332-b37e-4354-acce-f0e0241eb6d0",
        "id": "KSIJ4O6HF_UU"
      },
      "outputs": [
        {
          "output_type": "stream",
          "name": "stdout",
          "text": [
            "Intrinsic measures\n",
            "Silhouette Score: 0.2019493802324271\n",
            "Calinski Harabasz Score: 183.24277459524927\n",
            "-----------------------------------------------\n",
            "Extrinsic measures\n",
            "homogeneity_score: 2.299297083879762e-05\n",
            "v_measure_score: 2.7832754085483524e-05\n"
          ]
        }
      ],
      "source": [
        "# Calculating the intrinsic measures\n",
        "\n",
        "print('Intrinsic measures')\n",
        "labels = y_pred_0\n",
        "Silhouette_Score=metrics.silhouette_score(famdX, labels, metric = 'euclidean')\n",
        "print('Silhouette Score:',Silhouette_Score)\n",
        "\n",
        "# Calinski_harabasz_score\n",
        "\n",
        "CH_score = metrics.calinski_harabasz_score(famdX, labels)\n",
        "print('Calinski Harabasz Score:',CH_score)\n",
        "print('-----------------------------------------------')\n",
        "\n",
        "#Calculating the extrinsic measures\n",
        "print('Extrinsic measures')\n",
        "H_Score=metrics.homogeneity_score(y_train, labels)\n",
        "print('homogeneity_score:',H_Score)\n",
        "\n",
        "v_measure_score=metrics.v_measure_score(y_train, labels)\n",
        "print('v_measure_score:',v_measure_score)"
      ]
    },
    {
      "cell_type": "markdown",
      "source": [
        "For the next task - Protected Attribute, we made another prediction result with different parameters"
      ],
      "metadata": {
        "id": "rWNlEpExBFCA"
      }
    },
    {
      "cell_type": "code",
      "source": [
        "# DBSCAN clustering with different parameter\n",
        "db_1 = DBSCAN(eps= 6.5, min_samples=140)\n",
        "y_pred_1 = db_1.fit_predict(famdX)"
      ],
      "metadata": {
        "id": "5u0B0rRSAgbx"
      },
      "execution_count": null,
      "outputs": []
    },
    {
      "cell_type": "code",
      "source": [
        "print(set(y_pred_1))"
      ],
      "metadata": {
        "colab": {
          "base_uri": "https://localhost:8080/"
        },
        "id": "T-dgJ562Anb3",
        "outputId": "9ca7c029-ba49-4bb8-da69-1f8cc39250cf"
      },
      "execution_count": null,
      "outputs": [
        {
          "output_type": "stream",
          "name": "stdout",
          "text": [
            "{0, 1, 2, -1}\n"
          ]
        }
      ]
    },
    {
      "cell_type": "code",
      "source": [
        "plt.figure(figsize=(10,6))\n",
        "plt.scatter(famdX.iloc[:,0], famdX.iloc[:,1],c=y_pred_1, cmap='Paired')\n",
        "plt.title(\"Clusters determined by DBSCAN\")\n",
        "db.labels_[db.labels_ == -1].size"
      ],
      "metadata": {
        "colab": {
          "base_uri": "https://localhost:8080/",
          "height": 407
        },
        "id": "rG5tZ5vGA-Rz",
        "outputId": "1e0881fa-c90a-4258-c52e-2670e06220bb"
      },
      "execution_count": null,
      "outputs": [
        {
          "output_type": "execute_result",
          "data": {
            "text/plain": [
              "2642"
            ]
          },
          "metadata": {},
          "execution_count": 51
        },
        {
          "output_type": "display_data",
          "data": {
            "image/png": "[encoded data removed]",
            "text/plain": [
              "<Figure size 720x432 with 1 Axes>"
            ]
          },
          "metadata": {
            "needs_background": "light"
          }
        }
      ]
    },
    {
      "cell_type": "markdown",
      "source": [
        "# Protected Attributes"
      ],
      "metadata": {
        "id": "pXJfQjNfKZoW"
      }
    },
    {
      "cell_type": "markdown",
      "source": [
        "Fairness in clustering is different from the one for classification as it focuses on the distribution of instances in a cluster which is supposed to be balanced even if they are divided by the protected attribute.\n",
        "\n",
        "Therefore, we are going to see the distribution of instances in one cluster divided by protected attribute. The instances with the same cluster label are supposed to be fairly numbered when counting with and without protected attribute.\n",
        "\n",
        "* Dataset: fair_data\n",
        "* Protected attribute = ‘sex’ {‘ Female’, ‘ Male’}\n",
        "* Cluster labels = y_hat\n",
        "\n",
        "  Here, name of y_hat changes depending on the cluster model and the parameter settings.\n"
      ],
      "metadata": {
        "id": "1iKL5GEGPHLs"
      }
    },
    {
      "cell_type": "markdown",
      "source": [
        "###  Fairness - Awareness measures: Statistical Parity Difference\n",
        "\n",
        "SPD = P(y_hat = + | S = not s) - P(y_hat = + | S = s)\n",
        "\n",
        "y_hat will be described as variables:\n",
        "\n",
        "y_pred_pos_l (left hand side), y_pred_pos_r (right hand side)\n",
        "\n"
      ],
      "metadata": {
        "id": "ZLGCfIYvuxgK"
      }
    },
    {
      "cell_type": "code",
      "source": [
        "def statParityDif(dataset, protect_att, class_att, c):\n",
        "\n",
        "    #Conditional on 'sex'\n",
        "    malerows = dataset.loc[dataset[protect_att] == \" Male\"]\n",
        "    malerows_pos = malerows.loc[dataset[class_att] == c]\n",
        "    y_pred_l = len(malerows_pos)\n",
        "\n",
        "    femalerows = dataset.loc[dataset[protect_att] == \" Female\"]\n",
        "    femalerows_pos = femalerows.loc[dataset[class_att] == c]\n",
        "    y_pred_r = len(femalerows_pos)\n",
        "\n",
        "    lhs = y_pred_l/len(dataset)\n",
        "    rhs = y_pred_r/len(dataset)\n",
        "\n",
        "    return (lhs-rhs)"
      ],
      "metadata": {
        "id": "Ysn9RpCbF_UW"
      },
      "execution_count": null,
      "outputs": []
    },
    {
      "cell_type": "markdown",
      "source": [
        "### Fair range\n",
        "To evaluate the fairness from each clustering model, we refer to the following paper for the fair range (https://arxiv.org/pdf/2110.13029.pdf).\n",
        "\n",
        "If the measures fall into the range between -0.1 to 0.1, we can say that the model does not contain a bias towards the protected attribute S in our dataset. In other words, if the measures are below -0.1 or above 0.1, we can say that the model is biased regarding the attribute S.\n",
        "\n",
        "### range: (-0.1, 0.1)\n"
      ],
      "metadata": {
        "id": "cFc31MRDST0z"
      }
    },
    {
      "cell_type": "code",
      "source": [
        "# Unique values of clusters by different parameter setting\n",
        "cluster_0 = set(y_pred_0)\n",
        "cluster_1 = set(y_pred_1)\n",
        "\n",
        "print(cluster_0)\n",
        "print(cluster_1)"
      ],
      "metadata": {
        "colab": {
          "base_uri": "https://localhost:8080/"
        },
        "outputId": "a546902c-0f8c-4095-87a1-145d29d72223",
        "id": "-hf7zW7lF_UW"
      },
      "execution_count": null,
      "outputs": [
        {
          "output_type": "stream",
          "name": "stdout",
          "text": [
            "{0, 1, -1}\n",
            "{0, 1, 2, -1}\n"
          ]
        }
      ]
    },
    {
      "cell_type": "code",
      "source": [
        "# Preprocessing for dataset\n",
        "X_train.head()"
      ],
      "metadata": {
        "colab": {
          "base_uri": "https://localhost:8080/",
          "height": 204
        },
        "outputId": "8f315585-71f2-4da5-dced-568befc688d5",
        "id": "z3o2OjIoF_UX"
      },
      "execution_count": null,
      "outputs": [
        {
          "output_type": "execute_result",
          "data": {
            "text/html": [
              "\n",
              "  <div id=\"df-cbf022a3-521b-49d3-a80c-0c7460378cf2\">\n",
              "    <div class=\"colab-df-container\">\n",
              "      <div>\n",
              "<style scoped>\n",
              "    .dataframe tbody tr th:only-of-type {\n",
              "        vertical-align: middle;\n",
              "    }\n",
              "\n",
              "    .dataframe tbody tr th {\n",
              "        vertical-align: top;\n",
              "    }\n",
              "\n",
              "    .dataframe thead th {\n",
              "        text-align: right;\n",
              "    }\n",
              "</style>\n",
              "<table border=\"1\" class=\"dataframe\">\n",
              "  <thead>\n",
              "    <tr style=\"text-align: right;\">\n",
              "      <th></th>\n",
              "      <th>age</th>\n",
              "      <th>fnlwgt</th>\n",
              "      <th>capital-gain</th>\n",
              "      <th>capital loss</th>\n",
              "      <th>hours-per-week</th>\n",
              "      <th>education</th>\n",
              "      <th>workclass</th>\n",
              "      <th>marital-status</th>\n",
              "      <th>race</th>\n",
              "      <th>sex</th>\n",
              "      <th>native-country</th>\n",
              "    </tr>\n",
              "  </thead>\n",
              "  <tbody>\n",
              "    <tr>\n",
              "      <th>12014</th>\n",
              "      <td>41</td>\n",
              "      <td>133692.0</td>\n",
              "      <td>0.0</td>\n",
              "      <td>0.0</td>\n",
              "      <td>40.0</td>\n",
              "      <td>Bachelors</td>\n",
              "      <td>Local-gov</td>\n",
              "      <td>Divorced</td>\n",
              "      <td>White</td>\n",
              "      <td>Female</td>\n",
              "      <td>United-States</td>\n",
              "    </tr>\n",
              "    <tr>\n",
              "      <th>12240</th>\n",
              "      <td>46</td>\n",
              "      <td>265554.0</td>\n",
              "      <td>0.0</td>\n",
              "      <td>0.0</td>\n",
              "      <td>40.0</td>\n",
              "      <td>HS-grad</td>\n",
              "      <td>State-gov</td>\n",
              "      <td>Never-married</td>\n",
              "      <td>Black</td>\n",
              "      <td>Male</td>\n",
              "      <td>United-States</td>\n",
              "    </tr>\n",
              "    <tr>\n",
              "      <th>17777</th>\n",
              "      <td>27</td>\n",
              "      <td>220748.0</td>\n",
              "      <td>0.0</td>\n",
              "      <td>0.0</td>\n",
              "      <td>48.0</td>\n",
              "      <td>HS-grad</td>\n",
              "      <td>Private</td>\n",
              "      <td>Never-married</td>\n",
              "      <td>Black</td>\n",
              "      <td>Male</td>\n",
              "      <td>United-States</td>\n",
              "    </tr>\n",
              "    <tr>\n",
              "      <th>12102</th>\n",
              "      <td>34</td>\n",
              "      <td>173524.0</td>\n",
              "      <td>0.0</td>\n",
              "      <td>0.0</td>\n",
              "      <td>40.0</td>\n",
              "      <td>HS-grad</td>\n",
              "      <td>Private</td>\n",
              "      <td>Separated</td>\n",
              "      <td>White</td>\n",
              "      <td>Female</td>\n",
              "      <td>United-States</td>\n",
              "    </tr>\n",
              "    <tr>\n",
              "      <th>13708</th>\n",
              "      <td>57</td>\n",
              "      <td>110417.0</td>\n",
              "      <td>0.0</td>\n",
              "      <td>0.0</td>\n",
              "      <td>75.0</td>\n",
              "      <td>Some-college</td>\n",
              "      <td>Self-emp-not-inc</td>\n",
              "      <td>Married-civ-spouse</td>\n",
              "      <td>White</td>\n",
              "      <td>Male</td>\n",
              "      <td>United-States</td>\n",
              "    </tr>\n",
              "  </tbody>\n",
              "</table>\n",
              "</div>\n",
              "      <button class=\"colab-df-convert\" onclick=\"convertToInteractive('df-cbf022a3-521b-49d3-a80c-0c7460378cf2')\"\n",
              "              title=\"Convert this dataframe to an interactive table.\"\n",
              "              style=\"display:none;\">\n",
              "        \n",
              "  <svg xmlns=\"http://www.w3.org/2000/svg\" height=\"24px\"viewBox=\"0 0 24 24\"\n",
              "       width=\"24px\">\n",
              "    <path d=\"M0 0h24v24H0V0z\" fill=\"none\"/>\n",
              "    <path d=\"M18.56 5.44l.94 2.06.94-2.06 2.06-.94-2.06-.94-.94-2.06-.94 2.06-2.06.94zm-11 1L8.5 8.5l.94-2.06 2.06-.94-2.06-.94L8.5 2.5l-.94 2.06-2.06.94zm10 10l.94 2.06.94-2.06 2.06-.94-2.06-.94-.94-2.06-.94 2.06-2.06.94z\"/><path d=\"M17.41 7.96l-1.37-1.37c-.4-.4-.92-.59-1.43-.59-.52 0-1.04.2-1.43.59L10.3 9.45l-7.72 7.72c-.78.78-.78 2.05 0 2.83L4 21.41c.39.39.9.59 1.41.59.51 0 1.02-.2 1.41-.59l7.78-7.78 2.81-2.81c.8-.78.8-2.07 0-2.86zM5.41 20L4 18.59l7.72-7.72 1.47 1.35L5.41 20z\"/>\n",
              "  </svg>\n",
              "      </button>\n",
              "      \n",
              "  <style>\n",
              "    .colab-df-container {\n",
              "      display:flex;\n",
              "      flex-wrap:wrap;\n",
              "      gap: 12px;\n",
              "    }\n",
              "\n",
              "    .colab-df-convert {\n",
              "      background-color: #E8F0FE;\n",
              "      border: none;\n",
              "      border-radius: 50%;\n",
              "      cursor: pointer;\n",
              "      display: none;\n",
              "      fill: #1967D2;\n",
              "      height: 32px;\n",
              "      padding: 0 0 0 0;\n",
              "      width: 32px;\n",
              "    }\n",
              "\n",
              "    .colab-df-convert:hover {\n",
              "      background-color: #E2EBFA;\n",
              "      box-shadow: 0px 1px 2px rgba(60, 64, 67, 0.3), 0px 1px 3px 1px rgba(60, 64, 67, 0.15);\n",
              "      fill: #174EA6;\n",
              "    }\n",
              "\n",
              "    [theme=dark] .colab-df-convert {\n",
              "      background-color: #3B4455;\n",
              "      fill: #D2E3FC;\n",
              "    }\n",
              "\n",
              "    [theme=dark] .colab-df-convert:hover {\n",
              "      background-color: #434B5C;\n",
              "      box-shadow: 0px 1px 3px 1px rgba(0, 0, 0, 0.15);\n",
              "      filter: drop-shadow(0px 1px 2px rgba(0, 0, 0, 0.3));\n",
              "      fill: #FFFFFF;\n",
              "    }\n",
              "  </style>\n",
              "\n",
              "      <script>\n",
              "        const buttonEl =\n",
              "          document.querySelector('#df-cbf022a3-521b-49d3-a80c-0c7460378cf2 button.colab-df-convert');\n",
              "        buttonEl.style.display =\n",
              "          google.colab.kernel.accessAllowed ? 'block' : 'none';\n",
              "\n",
              "        async function convertToInteractive(key) {\n",
              "          const element = document.querySelector('#df-cbf022a3-521b-49d3-a80c-0c7460378cf2');\n",
              "          const dataTable =\n",
              "            await google.colab.kernel.invokeFunction('convertToInteractive',\n",
              "                                                     [key], {});\n",
              "          if (!dataTable) return;\n",
              "\n",
              "          const docLinkHtml = 'Like what you see? Visit the ' +\n",
              "            '<a target=\"_blank\" href=https://colab.research.google.com/notebooks/data_table.ipynb>data table notebook</a>'\n",
              "            + ' to learn more about interactive tables.';\n",
              "          element.innerHTML = '';\n",
              "          dataTable['output_type'] = 'display_data';\n",
              "          await google.colab.output.renderOutput(dataTable, element);\n",
              "          const docLink = document.createElement('div');\n",
              "          docLink.innerHTML = docLinkHtml;\n",
              "          element.appendChild(docLink);\n",
              "        }\n",
              "      </script>\n",
              "    </div>\n",
              "  </div>\n",
              "  "
            ],
            "text/plain": [
              "      age    fnlwgt  capital-gain  capital loss  hours-per-week  \\\n",
              "12014  41  133692.0           0.0           0.0            40.0   \n",
              "12240  46  265554.0           0.0           0.0            40.0   \n",
              "17777  27  220748.0           0.0           0.0            48.0   \n",
              "12102  34  173524.0           0.0           0.0            40.0   \n",
              "13708  57  110417.0           0.0           0.0            75.0   \n",
              "\n",
              "           education          workclass       marital-status    race      sex  \\\n",
              "12014      Bachelors          Local-gov             Divorced   White   Female   \n",
              "12240        HS-grad          State-gov        Never-married   Black     Male   \n",
              "17777        HS-grad            Private        Never-married   Black     Male   \n",
              "12102        HS-grad            Private            Separated   White   Female   \n",
              "13708   Some-college   Self-emp-not-inc   Married-civ-spouse   White     Male   \n",
              "\n",
              "       native-country  \n",
              "12014   United-States  \n",
              "12240   United-States  \n",
              "17777   United-States  \n",
              "12102   United-States  \n",
              "13708   United-States  "
            ]
          },
          "metadata": {},
          "execution_count": 55
        }
      ]
    },
    {
      "cell_type": "code",
      "source": [
        "# Add column of the result of DBSCAN clustering with different parameters 0, 1\n",
        "fair_data = X_train.copy()\n",
        "fair_data.insert(len(fair_data.columns), \"dbscan_y_0\", y_pred_0)\n",
        "fair_data.insert(len(fair_data.columns), \"dbscan_y_1\", y_pred_1)"
      ],
      "metadata": {
        "id": "9kIgqMIFF_UX"
      },
      "execution_count": null,
      "outputs": []
    },
    {
      "cell_type": "code",
      "source": [
        "# Dataset to use measuring fairness-awareness\n",
        "fair_data.head()"
      ],
      "metadata": {
        "colab": {
          "base_uri": "https://localhost:8080/",
          "height": 282
        },
        "outputId": "810cdc81-deee-4bee-8ef8-fb7aeb696653",
        "id": "TMZCfoghF_UX"
      },
      "execution_count": null,
      "outputs": [
        {
          "output_type": "execute_result",
          "data": {
            "text/html": [
              "\n",
              "  <div id=\"df-3b31bc51-2102-4dba-9697-62314ebb234a\">\n",
              "    <div class=\"colab-df-container\">\n",
              "      <div>\n",
              "<style scoped>\n",
              "    .dataframe tbody tr th:only-of-type {\n",
              "        vertical-align: middle;\n",
              "    }\n",
              "\n",
              "    .dataframe tbody tr th {\n",
              "        vertical-align: top;\n",
              "    }\n",
              "\n",
              "    .dataframe thead th {\n",
              "        text-align: right;\n",
              "    }\n",
              "</style>\n",
              "<table border=\"1\" class=\"dataframe\">\n",
              "  <thead>\n",
              "    <tr style=\"text-align: right;\">\n",
              "      <th></th>\n",
              "      <th>age</th>\n",
              "      <th>fnlwgt</th>\n",
              "      <th>capital-gain</th>\n",
              "      <th>capital loss</th>\n",
              "      <th>hours-per-week</th>\n",
              "      <th>education</th>\n",
              "      <th>workclass</th>\n",
              "      <th>marital-status</th>\n",
              "      <th>race</th>\n",
              "      <th>sex</th>\n",
              "      <th>native-country</th>\n",
              "      <th>dbscan_y_0</th>\n",
              "      <th>dbscan_y_1</th>\n",
              "    </tr>\n",
              "  </thead>\n",
              "  <tbody>\n",
              "    <tr>\n",
              "      <th>12014</th>\n",
              "      <td>41</td>\n",
              "      <td>133692.0</td>\n",
              "      <td>0.0</td>\n",
              "      <td>0.0</td>\n",
              "      <td>40.0</td>\n",
              "      <td>Bachelors</td>\n",
              "      <td>Local-gov</td>\n",
              "      <td>Divorced</td>\n",
              "      <td>White</td>\n",
              "      <td>Female</td>\n",
              "      <td>United-States</td>\n",
              "      <td>0</td>\n",
              "      <td>0</td>\n",
              "    </tr>\n",
              "    <tr>\n",
              "      <th>12240</th>\n",
              "      <td>46</td>\n",
              "      <td>265554.0</td>\n",
              "      <td>0.0</td>\n",
              "      <td>0.0</td>\n",
              "      <td>40.0</td>\n",
              "      <td>HS-grad</td>\n",
              "      <td>State-gov</td>\n",
              "      <td>Never-married</td>\n",
              "      <td>Black</td>\n",
              "      <td>Male</td>\n",
              "      <td>United-States</td>\n",
              "      <td>0</td>\n",
              "      <td>0</td>\n",
              "    </tr>\n",
              "    <tr>\n",
              "      <th>17777</th>\n",
              "      <td>27</td>\n",
              "      <td>220748.0</td>\n",
              "      <td>0.0</td>\n",
              "      <td>0.0</td>\n",
              "      <td>48.0</td>\n",
              "      <td>HS-grad</td>\n",
              "      <td>Private</td>\n",
              "      <td>Never-married</td>\n",
              "      <td>Black</td>\n",
              "      <td>Male</td>\n",
              "      <td>United-States</td>\n",
              "      <td>0</td>\n",
              "      <td>0</td>\n",
              "    </tr>\n",
              "    <tr>\n",
              "      <th>12102</th>\n",
              "      <td>34</td>\n",
              "      <td>173524.0</td>\n",
              "      <td>0.0</td>\n",
              "      <td>0.0</td>\n",
              "      <td>40.0</td>\n",
              "      <td>HS-grad</td>\n",
              "      <td>Private</td>\n",
              "      <td>Separated</td>\n",
              "      <td>White</td>\n",
              "      <td>Female</td>\n",
              "      <td>United-States</td>\n",
              "      <td>0</td>\n",
              "      <td>0</td>\n",
              "    </tr>\n",
              "    <tr>\n",
              "      <th>13708</th>\n",
              "      <td>57</td>\n",
              "      <td>110417.0</td>\n",
              "      <td>0.0</td>\n",
              "      <td>0.0</td>\n",
              "      <td>75.0</td>\n",
              "      <td>Some-college</td>\n",
              "      <td>Self-emp-not-inc</td>\n",
              "      <td>Married-civ-spouse</td>\n",
              "      <td>White</td>\n",
              "      <td>Male</td>\n",
              "      <td>United-States</td>\n",
              "      <td>0</td>\n",
              "      <td>0</td>\n",
              "    </tr>\n",
              "  </tbody>\n",
              "</table>\n",
              "</div>\n",
              "      <button class=\"colab-df-convert\" onclick=\"convertToInteractive('df-3b31bc51-2102-4dba-9697-62314ebb234a')\"\n",
              "              title=\"Convert this dataframe to an interactive table.\"\n",
              "              style=\"display:none;\">\n",
              "        \n",
              "  <svg xmlns=\"http://www.w3.org/2000/svg\" height=\"24px\"viewBox=\"0 0 24 24\"\n",
              "       width=\"24px\">\n",
              "    <path d=\"M0 0h24v24H0V0z\" fill=\"none\"/>\n",
              "    <path d=\"M18.56 5.44l.94 2.06.94-2.06 2.06-.94-2.06-.94-.94-2.06-.94 2.06-2.06.94zm-11 1L8.5 8.5l.94-2.06 2.06-.94-2.06-.94L8.5 2.5l-.94 2.06-2.06.94zm10 10l.94 2.06.94-2.06 2.06-.94-2.06-.94-.94-2.06-.94 2.06-2.06.94z\"/><path d=\"M17.41 7.96l-1.37-1.37c-.4-.4-.92-.59-1.43-.59-.52 0-1.04.2-1.43.59L10.3 9.45l-7.72 7.72c-.78.78-.78 2.05 0 2.83L4 21.41c.39.39.9.59 1.41.59.51 0 1.02-.2 1.41-.59l7.78-7.78 2.81-2.81c.8-.78.8-2.07 0-2.86zM5.41 20L4 18.59l7.72-7.72 1.47 1.35L5.41 20z\"/>\n",
              "  </svg>\n",
              "      </button>\n",
              "      \n",
              "  <style>\n",
              "    .colab-df-container {\n",
              "      display:flex;\n",
              "      flex-wrap:wrap;\n",
              "      gap: 12px;\n",
              "    }\n",
              "\n",
              "    .colab-df-convert {\n",
              "      background-color: #E8F0FE;\n",
              "      border: none;\n",
              "      border-radius: 50%;\n",
              "      cursor: pointer;\n",
              "      display: none;\n",
              "      fill: #1967D2;\n",
              "      height: 32px;\n",
              "      padding: 0 0 0 0;\n",
              "      width: 32px;\n",
              "    }\n",
              "\n",
              "    .colab-df-convert:hover {\n",
              "      background-color: #E2EBFA;\n",
              "      box-shadow: 0px 1px 2px rgba(60, 64, 67, 0.3), 0px 1px 3px 1px rgba(60, 64, 67, 0.15);\n",
              "      fill: #174EA6;\n",
              "    }\n",
              "\n",
              "    [theme=dark] .colab-df-convert {\n",
              "      background-color: #3B4455;\n",
              "      fill: #D2E3FC;\n",
              "    }\n",
              "\n",
              "    [theme=dark] .colab-df-convert:hover {\n",
              "      background-color: #434B5C;\n",
              "      box-shadow: 0px 1px 3px 1px rgba(0, 0, 0, 0.15);\n",
              "      filter: drop-shadow(0px 1px 2px rgba(0, 0, 0, 0.3));\n",
              "      fill: #FFFFFF;\n",
              "    }\n",
              "  </style>\n",
              "\n",
              "      <script>\n",
              "        const buttonEl =\n",
              "          document.querySelector('#df-3b31bc51-2102-4dba-9697-62314ebb234a button.colab-df-convert');\n",
              "        buttonEl.style.display =\n",
              "          google.colab.kernel.accessAllowed ? 'block' : 'none';\n",
              "\n",
              "        async function convertToInteractive(key) {\n",
              "          const element = document.querySelector('#df-3b31bc51-2102-4dba-9697-62314ebb234a');\n",
              "          const dataTable =\n",
              "            await google.colab.kernel.invokeFunction('convertToInteractive',\n",
              "                                                     [key], {});\n",
              "          if (!dataTable) return;\n",
              "\n",
              "          const docLinkHtml = 'Like what you see? Visit the ' +\n",
              "            '<a target=\"_blank\" href=https://colab.research.google.com/notebooks/data_table.ipynb>data table notebook</a>'\n",
              "            + ' to learn more about interactive tables.';\n",
              "          element.innerHTML = '';\n",
              "          dataTable['output_type'] = 'display_data';\n",
              "          await google.colab.output.renderOutput(dataTable, element);\n",
              "          const docLink = document.createElement('div');\n",
              "          docLink.innerHTML = docLinkHtml;\n",
              "          element.appendChild(docLink);\n",
              "        }\n",
              "      </script>\n",
              "    </div>\n",
              "  </div>\n",
              "  "
            ],
            "text/plain": [
              "      age    fnlwgt  capital-gain  capital loss  hours-per-week  \\\n",
              "12014  41  133692.0           0.0           0.0            40.0   \n",
              "12240  46  265554.0           0.0           0.0            40.0   \n",
              "17777  27  220748.0           0.0           0.0            48.0   \n",
              "12102  34  173524.0           0.0           0.0            40.0   \n",
              "13708  57  110417.0           0.0           0.0            75.0   \n",
              "\n",
              "           education          workclass       marital-status    race      sex  \\\n",
              "12014      Bachelors          Local-gov             Divorced   White   Female   \n",
              "12240        HS-grad          State-gov        Never-married   Black     Male   \n",
              "17777        HS-grad            Private        Never-married   Black     Male   \n",
              "12102        HS-grad            Private            Separated   White   Female   \n",
              "13708   Some-college   Self-emp-not-inc   Married-civ-spouse   White     Male   \n",
              "\n",
              "       native-country  dbscan_y_0  dbscan_y_1  \n",
              "12014   United-States           0           0  \n",
              "12240   United-States           0           0  \n",
              "17777   United-States           0           0  \n",
              "12102   United-States           0           0  \n",
              "13708   United-States           0           0  "
            ]
          },
          "metadata": {},
          "execution_count": 57
        }
      ]
    },
    {
      "cell_type": "code",
      "source": [
        "# Fairness-Awareness measures results of DBSCAN clustering\n",
        "\n",
        "# Statistical Parity Difference with the parameter_0\n",
        "spd_0 = {}\n",
        "for c in cluster_0:\n",
        "  temp = statParityDif(fair_data, 'sex', 'dbscan_y_0', c)\n",
        "  spd_0[c] = temp\n",
        "\n",
        "# Statistical Parity Difference with the parameter_1\n",
        "spd_1 = {}\n",
        "for c in cluster_1:\n",
        "  temp = statParityDif(fair_data, 'sex', 'dbscan_y_1', c)\n",
        "  spd_1[c] = temp\n",
        "\n",
        "# Comparison between SPD of parameter 0 and parameter 1\n",
        "print(\"SPD of DBSCAN with param_0\\n\", spd_0)\n",
        "print(\"\\n\")\n",
        "print(\"SPD of DBSCAN with param_1\\n\", spd_1)\n",
        "\n"
      ],
      "metadata": {
        "colab": {
          "base_uri": "https://localhost:8080/"
        },
        "outputId": "8173b1f5-3d76-4185-9e51-c1d7d28dae39",
        "id": "7gDgugfdF_UX"
      },
      "execution_count": null,
      "outputs": [
        {
          "output_type": "stream",
          "name": "stdout",
          "text": [
            "SPD of DBSCAN with param_0\n",
            " {0: 0.3075476044226045, 1: 0.0017275798525798526, -1: 0.03270884520884521}\n",
            "\n",
            "\n",
            "SPD of DBSCAN with param_1\n",
            " {0: 0.30244164619164615, 1: 0.002879299754299754, 2: 0.0020347051597051596, -1: 0.034628378378378386}\n"
          ]
        }
      ]
    },
    {
      "cell_type": "code",
      "source": [
        "# Dataframe - SPD of DBSCAN with param_0\n",
        "temp_0 =pd.DataFrame(spd_0, cluster_0).transpose()\n",
        "temp_0.columns = ['spd_0', 'spd_1', 'spd_2']\n",
        "dbscan_param_0 = temp_0.drop(['spd_1', 'spd_2'],axis = 1)\n",
        "dbscan_param_0"
      ],
      "metadata": {
        "colab": {
          "base_uri": "https://localhost:8080/",
          "height": 142
        },
        "id": "x7awJ0kOT32G",
        "outputId": "40e677db-1a3c-41b3-af52-147d68c65230"
      },
      "execution_count": null,
      "outputs": [
        {
          "output_type": "execute_result",
          "data": {
            "text/html": [
              "\n",
              "  <div id=\"df-041b48f1-97d9-4bad-a990-b425103bbc3e\">\n",
              "    <div class=\"colab-df-container\">\n",
              "      <div>\n",
              "<style scoped>\n",
              "    .dataframe tbody tr th:only-of-type {\n",
              "        vertical-align: middle;\n",
              "    }\n",
              "\n",
              "    .dataframe tbody tr th {\n",
              "        vertical-align: top;\n",
              "    }\n",
              "\n",
              "    .dataframe thead th {\n",
              "        text-align: right;\n",
              "    }\n",
              "</style>\n",
              "<table border=\"1\" class=\"dataframe\">\n",
              "  <thead>\n",
              "    <tr style=\"text-align: right;\">\n",
              "      <th></th>\n",
              "      <th>spd_0</th>\n",
              "    </tr>\n",
              "  </thead>\n",
              "  <tbody>\n",
              "    <tr>\n",
              "      <th>0</th>\n",
              "      <td>0.303632</td>\n",
              "    </tr>\n",
              "    <tr>\n",
              "      <th>1</th>\n",
              "      <td>0.002035</td>\n",
              "    </tr>\n",
              "    <tr>\n",
              "      <th>-1</th>\n",
              "      <td>0.032402</td>\n",
              "    </tr>\n",
              "  </tbody>\n",
              "</table>\n",
              "</div>\n",
              "      <button class=\"colab-df-convert\" onclick=\"convertToInteractive('df-041b48f1-97d9-4bad-a990-b425103bbc3e')\"\n",
              "              title=\"Convert this dataframe to an interactive table.\"\n",
              "              style=\"display:none;\">\n",
              "        \n",
              "  <svg xmlns=\"http://www.w3.org/2000/svg\" height=\"24px\"viewBox=\"0 0 24 24\"\n",
              "       width=\"24px\">\n",
              "    <path d=\"M0 0h24v24H0V0z\" fill=\"none\"/>\n",
              "    <path d=\"M18.56 5.44l.94 2.06.94-2.06 2.06-.94-2.06-.94-.94-2.06-.94 2.06-2.06.94zm-11 1L8.5 8.5l.94-2.06 2.06-.94-2.06-.94L8.5 2.5l-.94 2.06-2.06.94zm10 10l.94 2.06.94-2.06 2.06-.94-2.06-.94-.94-2.06-.94 2.06-2.06.94z\"/><path d=\"M17.41 7.96l-1.37-1.37c-.4-.4-.92-.59-1.43-.59-.52 0-1.04.2-1.43.59L10.3 9.45l-7.72 7.72c-.78.78-.78 2.05 0 2.83L4 21.41c.39.39.9.59 1.41.59.51 0 1.02-.2 1.41-.59l7.78-7.78 2.81-2.81c.8-.78.8-2.07 0-2.86zM5.41 20L4 18.59l7.72-7.72 1.47 1.35L5.41 20z\"/>\n",
              "  </svg>\n",
              "      </button>\n",
              "      \n",
              "  <style>\n",
              "    .colab-df-container {\n",
              "      display:flex;\n",
              "      flex-wrap:wrap;\n",
              "      gap: 12px;\n",
              "    }\n",
              "\n",
              "    .colab-df-convert {\n",
              "      background-color: #E8F0FE;\n",
              "      border: none;\n",
              "      border-radius: 50%;\n",
              "      cursor: pointer;\n",
              "      display: none;\n",
              "      fill: #1967D2;\n",
              "      height: 32px;\n",
              "      padding: 0 0 0 0;\n",
              "      width: 32px;\n",
              "    }\n",
              "\n",
              "    .colab-df-convert:hover {\n",
              "      background-color: #E2EBFA;\n",
              "      box-shadow: 0px 1px 2px rgba(60, 64, 67, 0.3), 0px 1px 3px 1px rgba(60, 64, 67, 0.15);\n",
              "      fill: #174EA6;\n",
              "    }\n",
              "\n",
              "    [theme=dark] .colab-df-convert {\n",
              "      background-color: #3B4455;\n",
              "      fill: #D2E3FC;\n",
              "    }\n",
              "\n",
              "    [theme=dark] .colab-df-convert:hover {\n",
              "      background-color: #434B5C;\n",
              "      box-shadow: 0px 1px 3px 1px rgba(0, 0, 0, 0.15);\n",
              "      filter: drop-shadow(0px 1px 2px rgba(0, 0, 0, 0.3));\n",
              "      fill: #FFFFFF;\n",
              "    }\n",
              "  </style>\n",
              "\n",
              "      <script>\n",
              "        const buttonEl =\n",
              "          document.querySelector('#df-041b48f1-97d9-4bad-a990-b425103bbc3e button.colab-df-convert');\n",
              "        buttonEl.style.display =\n",
              "          google.colab.kernel.accessAllowed ? 'block' : 'none';\n",
              "\n",
              "        async function convertToInteractive(key) {\n",
              "          const element = document.querySelector('#df-041b48f1-97d9-4bad-a990-b425103bbc3e');\n",
              "          const dataTable =\n",
              "            await google.colab.kernel.invokeFunction('convertToInteractive',\n",
              "                                                     [key], {});\n",
              "          if (!dataTable) return;\n",
              "\n",
              "          const docLinkHtml = 'Like what you see? Visit the ' +\n",
              "            '<a target=\"_blank\" href=https://colab.research.google.com/notebooks/data_table.ipynb>data table notebook</a>'\n",
              "            + ' to learn more about interactive tables.';\n",
              "          element.innerHTML = '';\n",
              "          dataTable['output_type'] = 'display_data';\n",
              "          await google.colab.output.renderOutput(dataTable, element);\n",
              "          const docLink = document.createElement('div');\n",
              "          docLink.innerHTML = docLinkHtml;\n",
              "          element.appendChild(docLink);\n",
              "        }\n",
              "      </script>\n",
              "    </div>\n",
              "  </div>\n",
              "  "
            ],
            "text/plain": [
              "       spd_0\n",
              " 0  0.303632\n",
              " 1  0.002035\n",
              "-1  0.032402"
            ]
          },
          "metadata": {},
          "execution_count": 60
        }
      ]
    },
    {
      "cell_type": "code",
      "source": [
        "# Dataframe - SPD of DBSCAN with param_1\n",
        "temp_1 =pd.DataFrame(spd_1, cluster_1).transpose()\n",
        "temp_1.columns = ['spd_1', 'spd_11', 'spd_12','spd_13']\n",
        "dbscan_param_1 = temp_1.drop(['spd_11', 'spd_12', 'spd_13'],axis = 1)\n",
        "dbscan_param_1"
      ],
      "metadata": {
        "colab": {
          "base_uri": "https://localhost:8080/",
          "height": 173
        },
        "id": "x9Ci4NUaStfY",
        "outputId": "9fb77250-2d71-4181-9211-5fddf8adde09"
      },
      "execution_count": null,
      "outputs": [
        {
          "output_type": "execute_result",
          "data": {
            "text/html": [
              "\n",
              "  <div id=\"df-63608258-9f1d-4103-9e89-f2720b1702f6\">\n",
              "    <div class=\"colab-df-container\">\n",
              "      <div>\n",
              "<style scoped>\n",
              "    .dataframe tbody tr th:only-of-type {\n",
              "        vertical-align: middle;\n",
              "    }\n",
              "\n",
              "    .dataframe tbody tr th {\n",
              "        vertical-align: top;\n",
              "    }\n",
              "\n",
              "    .dataframe thead th {\n",
              "        text-align: right;\n",
              "    }\n",
              "</style>\n",
              "<table border=\"1\" class=\"dataframe\">\n",
              "  <thead>\n",
              "    <tr style=\"text-align: right;\">\n",
              "      <th></th>\n",
              "      <th>spd_1</th>\n",
              "    </tr>\n",
              "  </thead>\n",
              "  <tbody>\n",
              "    <tr>\n",
              "      <th>0</th>\n",
              "      <td>0.298180</td>\n",
              "    </tr>\n",
              "    <tr>\n",
              "      <th>1</th>\n",
              "      <td>0.002879</td>\n",
              "    </tr>\n",
              "    <tr>\n",
              "      <th>2</th>\n",
              "      <td>0.002111</td>\n",
              "    </tr>\n",
              "    <tr>\n",
              "      <th>-1</th>\n",
              "      <td>0.034897</td>\n",
              "    </tr>\n",
              "  </tbody>\n",
              "</table>\n",
              "</div>\n",
              "      <button class=\"colab-df-convert\" onclick=\"convertToInteractive('df-63608258-9f1d-4103-9e89-f2720b1702f6')\"\n",
              "              title=\"Convert this dataframe to an interactive table.\"\n",
              "              style=\"display:none;\">\n",
              "        \n",
              "  <svg xmlns=\"http://www.w3.org/2000/svg\" height=\"24px\"viewBox=\"0 0 24 24\"\n",
              "       width=\"24px\">\n",
              "    <path d=\"M0 0h24v24H0V0z\" fill=\"none\"/>\n",
              "    <path d=\"M18.56 5.44l.94 2.06.94-2.06 2.06-.94-2.06-.94-.94-2.06-.94 2.06-2.06.94zm-11 1L8.5 8.5l.94-2.06 2.06-.94-2.06-.94L8.5 2.5l-.94 2.06-2.06.94zm10 10l.94 2.06.94-2.06 2.06-.94-2.06-.94-.94-2.06-.94 2.06-2.06.94z\"/><path d=\"M17.41 7.96l-1.37-1.37c-.4-.4-.92-.59-1.43-.59-.52 0-1.04.2-1.43.59L10.3 9.45l-7.72 7.72c-.78.78-.78 2.05 0 2.83L4 21.41c.39.39.9.59 1.41.59.51 0 1.02-.2 1.41-.59l7.78-7.78 2.81-2.81c.8-.78.8-2.07 0-2.86zM5.41 20L4 18.59l7.72-7.72 1.47 1.35L5.41 20z\"/>\n",
              "  </svg>\n",
              "      </button>\n",
              "      \n",
              "  <style>\n",
              "    .colab-df-container {\n",
              "      display:flex;\n",
              "      flex-wrap:wrap;\n",
              "      gap: 12px;\n",
              "    }\n",
              "\n",
              "    .colab-df-convert {\n",
              "      background-color: #E8F0FE;\n",
              "      border: none;\n",
              "      border-radius: 50%;\n",
              "      cursor: pointer;\n",
              "      display: none;\n",
              "      fill: #1967D2;\n",
              "      height: 32px;\n",
              "      padding: 0 0 0 0;\n",
              "      width: 32px;\n",
              "    }\n",
              "\n",
              "    .colab-df-convert:hover {\n",
              "      background-color: #E2EBFA;\n",
              "      box-shadow: 0px 1px 2px rgba(60, 64, 67, 0.3), 0px 1px 3px 1px rgba(60, 64, 67, 0.15);\n",
              "      fill: #174EA6;\n",
              "    }\n",
              "\n",
              "    [theme=dark] .colab-df-convert {\n",
              "      background-color: #3B4455;\n",
              "      fill: #D2E3FC;\n",
              "    }\n",
              "\n",
              "    [theme=dark] .colab-df-convert:hover {\n",
              "      background-color: #434B5C;\n",
              "      box-shadow: 0px 1px 3px 1px rgba(0, 0, 0, 0.15);\n",
              "      filter: drop-shadow(0px 1px 2px rgba(0, 0, 0, 0.3));\n",
              "      fill: #FFFFFF;\n",
              "    }\n",
              "  </style>\n",
              "\n",
              "      <script>\n",
              "        const buttonEl =\n",
              "          document.querySelector('#df-63608258-9f1d-4103-9e89-f2720b1702f6 button.colab-df-convert');\n",
              "        buttonEl.style.display =\n",
              "          google.colab.kernel.accessAllowed ? 'block' : 'none';\n",
              "\n",
              "        async function convertToInteractive(key) {\n",
              "          const element = document.querySelector('#df-63608258-9f1d-4103-9e89-f2720b1702f6');\n",
              "          const dataTable =\n",
              "            await google.colab.kernel.invokeFunction('convertToInteractive',\n",
              "                                                     [key], {});\n",
              "          if (!dataTable) return;\n",
              "\n",
              "          const docLinkHtml = 'Like what you see? Visit the ' +\n",
              "            '<a target=\"_blank\" href=https://colab.research.google.com/notebooks/data_table.ipynb>data table notebook</a>'\n",
              "            + ' to learn more about interactive tables.';\n",
              "          element.innerHTML = '';\n",
              "          dataTable['output_type'] = 'display_data';\n",
              "          await google.colab.output.renderOutput(dataTable, element);\n",
              "          const docLink = document.createElement('div');\n",
              "          docLink.innerHTML = docLinkHtml;\n",
              "          element.appendChild(docLink);\n",
              "        }\n",
              "      </script>\n",
              "    </div>\n",
              "  </div>\n",
              "  "
            ],
            "text/plain": [
              "       spd_1\n",
              " 0  0.298180\n",
              " 1  0.002879\n",
              " 2  0.002111\n",
              "-1  0.034897"
            ]
          },
          "metadata": {},
          "execution_count": 61
        }
      ]
    },
    {
      "cell_type": "markdown",
      "source": [
        "### Fairness of models\n",
        "1. Between parameters\n",
        "The results from the models show that when coordinating parameters, the number of clusters gets bigger and the overall SPD becomes smaller. However this fact does not prove that the model with more clusters would result in less bias. As the instances are more sparse in the model with greater number of clusters, the distributional difference between two clusters would be also small.  \n",
        "2. Comparing two clustering methods\n",
        "Also, comparing the SPD tables between two different clustering methods, there was no meaningful difference.\n",
        "\n",
        "4 tables show that our dataset models cannot guarantee the fair clustering as at most 2 labels in one SPD model shows the value out of the fair range (-0.1, 0.1).\n"
      ],
      "metadata": {
        "id": "tVIavl3GHNZP"
      }
    }
  ],
  "metadata": {
    "accelerator": "GPU",
    "colab": {
      "provenance": []
    },
    "kernelspec": {
      "display_name": "Python 3",
      "name": "python3"
    },
    "language_info": {
      "name": "python"
    }
  },
  "nbformat": 4,
  "nbformat_minor": 0
}