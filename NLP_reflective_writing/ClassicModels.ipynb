{
 "cells": [
  {
   "cell_type": "markdown",
   "id": "6f56ad31",
   "metadata": {},
   "source": [
    "# Reflectiveness classification - Natural Language Processing (NLP)\n",
    "### Hyosang & Raniya"
   ]
  },
  {
   "cell_type": "code",
   "execution_count": 43,
   "id": "4b7186df",
   "metadata": {},
   "outputs": [],
   "source": [
    "import pandas as pd \n",
    "import numpy as np\n",
    "import matplotlib.pyplot as plt"
   ]
  },
  {
   "cell_type": "code",
   "execution_count": 2,
   "id": "d6edd31d",
   "metadata": {},
   "outputs": [],
   "source": [
    "data = pd.read_csv(\"sentences_all_hand.tsv\", sep = \"\\t\")"
   ]
  },
  {
   "cell_type": "code",
   "execution_count": 3,
   "id": "14a07896",
   "metadata": {
    "scrolled": false
   },
   "outputs": [
    {
     "data": {
      "text/html": [
       "<div>\n",
       "<style scoped>\n",
       "    .dataframe tbody tr th:only-of-type {\n",
       "        vertical-align: middle;\n",
       "    }\n",
       "\n",
       "    .dataframe tbody tr th {\n",
       "        vertical-align: top;\n",
       "    }\n",
       "\n",
       "    .dataframe thead th {\n",
       "        text-align: right;\n",
       "    }\n",
       "</style>\n",
       "<table border=\"1\" class=\"dataframe\">\n",
       "  <thead>\n",
       "    <tr style=\"text-align: right;\">\n",
       "      <th></th>\n",
       "      <th>Unnamed: 0</th>\n",
       "      <th>corpus_id</th>\n",
       "      <th>sentence_id</th>\n",
       "      <th>sentence</th>\n",
       "      <th>options</th>\n",
       "      <th>final</th>\n",
       "    </tr>\n",
       "  </thead>\n",
       "  <tbody>\n",
       "    <tr>\n",
       "      <th>0</th>\n",
       "      <td>0.0</td>\n",
       "      <td>0</td>\n",
       "      <td>0.0</td>\n",
       "      <td>Zunächst habe ich meinen Arbeitsplatz vorberei...</td>\n",
       "      <td>0,2</td>\n",
       "      <td>0</td>\n",
       "    </tr>\n",
       "    <tr>\n",
       "      <th>1</th>\n",
       "      <td>1.0</td>\n",
       "      <td>0</td>\n",
       "      <td>1.0</td>\n",
       "      <td>Anschließend las ich das Fallbeispiel mehrmals...</td>\n",
       "      <td>0</td>\n",
       "      <td>0</td>\n",
       "    </tr>\n",
       "    <tr>\n",
       "      <th>2</th>\n",
       "      <td>2.0</td>\n",
       "      <td>0</td>\n",
       "      <td>2.0</td>\n",
       "      <td>Ich bin neutral und offen an die Aufgabe heran...</td>\n",
       "      <td>0,1</td>\n",
       "      <td>1</td>\n",
       "    </tr>\n",
       "    <tr>\n",
       "      <th>3</th>\n",
       "      <td>3.0</td>\n",
       "      <td>0</td>\n",
       "      <td>3.0</td>\n",
       "      <td>Nachdem ich zunächst die Aufgabe ohne Lerninha...</td>\n",
       "      <td>0,2</td>\n",
       "      <td>2</td>\n",
       "    </tr>\n",
       "    <tr>\n",
       "      <th>4</th>\n",
       "      <td>4.0</td>\n",
       "      <td>0</td>\n",
       "      <td>4.0</td>\n",
       "      <td>Die Tipps haben mir sehr geholfen, um meine Lö...</td>\n",
       "      <td>2</td>\n",
       "      <td>2</td>\n",
       "    </tr>\n",
       "  </tbody>\n",
       "</table>\n",
       "</div>"
      ],
      "text/plain": [
       "   Unnamed: 0  corpus_id  sentence_id  \\\n",
       "0         0.0          0          0.0   \n",
       "1         1.0          0          1.0   \n",
       "2         2.0          0          2.0   \n",
       "3         3.0          0          3.0   \n",
       "4         4.0          0          4.0   \n",
       "\n",
       "                                            sentence options  final  \n",
       "0  Zunächst habe ich meinen Arbeitsplatz vorberei...     0,2      0  \n",
       "1  Anschließend las ich das Fallbeispiel mehrmals...       0      0  \n",
       "2  Ich bin neutral und offen an die Aufgabe heran...     0,1      1  \n",
       "3  Nachdem ich zunächst die Aufgabe ohne Lerninha...     0,2      2  \n",
       "4  Die Tipps haben mir sehr geholfen, um meine Lö...       2      2  "
      ]
     },
     "execution_count": 3,
     "metadata": {},
     "output_type": "execute_result"
    }
   ],
   "source": [
    "data.head(5)"
   ]
  },
  {
   "cell_type": "code",
   "execution_count": 4,
   "id": "8ea6d5ee",
   "metadata": {},
   "outputs": [],
   "source": [
    "# Delete unnecessary column\n",
    "data.drop(data.columns[[0]], axis=1, inplace=True)"
   ]
  },
  {
   "cell_type": "code",
   "execution_count": 5,
   "id": "1117a78e",
   "metadata": {},
   "outputs": [
    {
     "data": {
      "text/html": [
       "<div>\n",
       "<style scoped>\n",
       "    .dataframe tbody tr th:only-of-type {\n",
       "        vertical-align: middle;\n",
       "    }\n",
       "\n",
       "    .dataframe tbody tr th {\n",
       "        vertical-align: top;\n",
       "    }\n",
       "\n",
       "    .dataframe thead th {\n",
       "        text-align: right;\n",
       "    }\n",
       "</style>\n",
       "<table border=\"1\" class=\"dataframe\">\n",
       "  <thead>\n",
       "    <tr style=\"text-align: right;\">\n",
       "      <th></th>\n",
       "      <th>corpus_id</th>\n",
       "      <th>sentence_id</th>\n",
       "      <th>sentence</th>\n",
       "      <th>options</th>\n",
       "      <th>final</th>\n",
       "    </tr>\n",
       "  </thead>\n",
       "  <tbody>\n",
       "    <tr>\n",
       "      <th>0</th>\n",
       "      <td>0</td>\n",
       "      <td>0.0</td>\n",
       "      <td>Zunächst habe ich meinen Arbeitsplatz vorberei...</td>\n",
       "      <td>0,2</td>\n",
       "      <td>0</td>\n",
       "    </tr>\n",
       "    <tr>\n",
       "      <th>1</th>\n",
       "      <td>0</td>\n",
       "      <td>1.0</td>\n",
       "      <td>Anschließend las ich das Fallbeispiel mehrmals...</td>\n",
       "      <td>0</td>\n",
       "      <td>0</td>\n",
       "    </tr>\n",
       "    <tr>\n",
       "      <th>2</th>\n",
       "      <td>0</td>\n",
       "      <td>2.0</td>\n",
       "      <td>Ich bin neutral und offen an die Aufgabe heran...</td>\n",
       "      <td>0,1</td>\n",
       "      <td>1</td>\n",
       "    </tr>\n",
       "    <tr>\n",
       "      <th>3</th>\n",
       "      <td>0</td>\n",
       "      <td>3.0</td>\n",
       "      <td>Nachdem ich zunächst die Aufgabe ohne Lerninha...</td>\n",
       "      <td>0,2</td>\n",
       "      <td>2</td>\n",
       "    </tr>\n",
       "    <tr>\n",
       "      <th>4</th>\n",
       "      <td>0</td>\n",
       "      <td>4.0</td>\n",
       "      <td>Die Tipps haben mir sehr geholfen, um meine Lö...</td>\n",
       "      <td>2</td>\n",
       "      <td>2</td>\n",
       "    </tr>\n",
       "  </tbody>\n",
       "</table>\n",
       "</div>"
      ],
      "text/plain": [
       "   corpus_id  sentence_id                                           sentence  \\\n",
       "0          0          0.0  Zunächst habe ich meinen Arbeitsplatz vorberei...   \n",
       "1          0          1.0  Anschließend las ich das Fallbeispiel mehrmals...   \n",
       "2          0          2.0  Ich bin neutral und offen an die Aufgabe heran...   \n",
       "3          0          3.0  Nachdem ich zunächst die Aufgabe ohne Lerninha...   \n",
       "4          0          4.0  Die Tipps haben mir sehr geholfen, um meine Lö...   \n",
       "\n",
       "  options  final  \n",
       "0     0,2      0  \n",
       "1       0      0  \n",
       "2     0,1      1  \n",
       "3     0,2      2  \n",
       "4       2      2  "
      ]
     },
     "execution_count": 5,
     "metadata": {},
     "output_type": "execute_result"
    }
   ],
   "source": [
    "data.head(5)"
   ]
  },
  {
   "cell_type": "code",
   "execution_count": 6,
   "id": "a1213694",
   "metadata": {
    "scrolled": false
   },
   "outputs": [
    {
     "name": "stdout",
     "output_type": "stream",
     "text": [
      "<class 'pandas.core.frame.DataFrame'>\n",
      "RangeIndex: 7620 entries, 0 to 7619\n",
      "Data columns (total 5 columns):\n",
      " #   Column       Non-Null Count  Dtype  \n",
      "---  ------       --------------  -----  \n",
      " 0   corpus_id    7620 non-null   int64  \n",
      " 1   sentence_id  7619 non-null   float64\n",
      " 2   sentence     7620 non-null   object \n",
      " 3   options      7620 non-null   object \n",
      " 4   final        7620 non-null   int64  \n",
      "dtypes: float64(1), int64(2), object(2)\n",
      "memory usage: 297.8+ KB\n"
     ]
    }
   ],
   "source": [
    "data.info()"
   ]
  },
  {
   "cell_type": "code",
   "execution_count": 7,
   "id": "604e2315",
   "metadata": {},
   "outputs": [
    {
     "name": "stderr",
     "output_type": "stream",
     "text": [
      "<ipython-input-7-d26d2a7acca7>:13: SettingWithCopyWarning: \n",
      "A value is trying to be set on a copy of a slice from a DataFrame\n",
      "\n",
      "See the caveats in the documentation: https://pandas.pydata.org/pandas-docs/stable/user_guide/indexing.html#returning-a-view-versus-a-copy\n",
      "  data['0'][i] = 1\n",
      "<ipython-input-7-d26d2a7acca7>:17: SettingWithCopyWarning: \n",
      "A value is trying to be set on a copy of a slice from a DataFrame\n",
      "\n",
      "See the caveats in the documentation: https://pandas.pydata.org/pandas-docs/stable/user_guide/indexing.html#returning-a-view-versus-a-copy\n",
      "  data['2'][i] = 1\n",
      "<ipython-input-7-d26d2a7acca7>:15: SettingWithCopyWarning: \n",
      "A value is trying to be set on a copy of a slice from a DataFrame\n",
      "\n",
      "See the caveats in the documentation: https://pandas.pydata.org/pandas-docs/stable/user_guide/indexing.html#returning-a-view-versus-a-copy\n",
      "  data['1'][i] = 1\n",
      "<ipython-input-7-d26d2a7acca7>:19: SettingWithCopyWarning: \n",
      "A value is trying to be set on a copy of a slice from a DataFrame\n",
      "\n",
      "See the caveats in the documentation: https://pandas.pydata.org/pandas-docs/stable/user_guide/indexing.html#returning-a-view-versus-a-copy\n",
      "  data['3'][i] = 1\n",
      "<ipython-input-7-d26d2a7acca7>:23: SettingWithCopyWarning: \n",
      "A value is trying to be set on a copy of a slice from a DataFrame\n",
      "\n",
      "See the caveats in the documentation: https://pandas.pydata.org/pandas-docs/stable/user_guide/indexing.html#returning-a-view-versus-a-copy\n",
      "  data['5'][i] = 1\n",
      "<ipython-input-7-d26d2a7acca7>:21: SettingWithCopyWarning: \n",
      "A value is trying to be set on a copy of a slice from a DataFrame\n",
      "\n",
      "See the caveats in the documentation: https://pandas.pydata.org/pandas-docs/stable/user_guide/indexing.html#returning-a-view-versus-a-copy\n",
      "  data['4'][i] = 1\n"
     ]
    },
    {
     "data": {
      "text/html": [
       "<div>\n",
       "<style scoped>\n",
       "    .dataframe tbody tr th:only-of-type {\n",
       "        vertical-align: middle;\n",
       "    }\n",
       "\n",
       "    .dataframe tbody tr th {\n",
       "        vertical-align: top;\n",
       "    }\n",
       "\n",
       "    .dataframe thead th {\n",
       "        text-align: right;\n",
       "    }\n",
       "</style>\n",
       "<table border=\"1\" class=\"dataframe\">\n",
       "  <thead>\n",
       "    <tr style=\"text-align: right;\">\n",
       "      <th></th>\n",
       "      <th>corpus_id</th>\n",
       "      <th>sentence_id</th>\n",
       "      <th>sentence</th>\n",
       "      <th>options</th>\n",
       "      <th>final</th>\n",
       "      <th>0</th>\n",
       "      <th>1</th>\n",
       "      <th>2</th>\n",
       "      <th>3</th>\n",
       "      <th>4</th>\n",
       "      <th>5</th>\n",
       "    </tr>\n",
       "  </thead>\n",
       "  <tbody>\n",
       "    <tr>\n",
       "      <th>0</th>\n",
       "      <td>0</td>\n",
       "      <td>0.0</td>\n",
       "      <td>Zunächst habe ich meinen Arbeitsplatz vorberei...</td>\n",
       "      <td>0,2</td>\n",
       "      <td>0</td>\n",
       "      <td>1</td>\n",
       "      <td>0</td>\n",
       "      <td>1</td>\n",
       "      <td>0</td>\n",
       "      <td>0</td>\n",
       "      <td>0</td>\n",
       "    </tr>\n",
       "    <tr>\n",
       "      <th>1</th>\n",
       "      <td>0</td>\n",
       "      <td>1.0</td>\n",
       "      <td>Anschließend las ich das Fallbeispiel mehrmals...</td>\n",
       "      <td>0</td>\n",
       "      <td>0</td>\n",
       "      <td>1</td>\n",
       "      <td>0</td>\n",
       "      <td>0</td>\n",
       "      <td>0</td>\n",
       "      <td>0</td>\n",
       "      <td>0</td>\n",
       "    </tr>\n",
       "    <tr>\n",
       "      <th>2</th>\n",
       "      <td>0</td>\n",
       "      <td>2.0</td>\n",
       "      <td>Ich bin neutral und offen an die Aufgabe heran...</td>\n",
       "      <td>0,1</td>\n",
       "      <td>1</td>\n",
       "      <td>1</td>\n",
       "      <td>1</td>\n",
       "      <td>0</td>\n",
       "      <td>0</td>\n",
       "      <td>0</td>\n",
       "      <td>0</td>\n",
       "    </tr>\n",
       "    <tr>\n",
       "      <th>3</th>\n",
       "      <td>0</td>\n",
       "      <td>3.0</td>\n",
       "      <td>Nachdem ich zunächst die Aufgabe ohne Lerninha...</td>\n",
       "      <td>0,2</td>\n",
       "      <td>2</td>\n",
       "      <td>1</td>\n",
       "      <td>0</td>\n",
       "      <td>1</td>\n",
       "      <td>0</td>\n",
       "      <td>0</td>\n",
       "      <td>0</td>\n",
       "    </tr>\n",
       "    <tr>\n",
       "      <th>4</th>\n",
       "      <td>0</td>\n",
       "      <td>4.0</td>\n",
       "      <td>Die Tipps haben mir sehr geholfen, um meine Lö...</td>\n",
       "      <td>2</td>\n",
       "      <td>2</td>\n",
       "      <td>0</td>\n",
       "      <td>0</td>\n",
       "      <td>1</td>\n",
       "      <td>0</td>\n",
       "      <td>0</td>\n",
       "      <td>0</td>\n",
       "    </tr>\n",
       "  </tbody>\n",
       "</table>\n",
       "</div>"
      ],
      "text/plain": [
       "   corpus_id  sentence_id                                           sentence  \\\n",
       "0          0          0.0  Zunächst habe ich meinen Arbeitsplatz vorberei...   \n",
       "1          0          1.0  Anschließend las ich das Fallbeispiel mehrmals...   \n",
       "2          0          2.0  Ich bin neutral und offen an die Aufgabe heran...   \n",
       "3          0          3.0  Nachdem ich zunächst die Aufgabe ohne Lerninha...   \n",
       "4          0          4.0  Die Tipps haben mir sehr geholfen, um meine Lö...   \n",
       "\n",
       "  options  final  0  1  2  3  4  5  \n",
       "0     0,2      0  1  0  1  0  0  0  \n",
       "1       0      0  1  0  0  0  0  0  \n",
       "2     0,1      1  1  1  0  0  0  0  \n",
       "3     0,2      2  1  0  1  0  0  0  \n",
       "4       2      2  0  0  1  0  0  0  "
      ]
     },
     "execution_count": 7,
     "metadata": {},
     "output_type": "execute_result"
    }
   ],
   "source": [
    "# Data preprocessing for multi label classification - one hot encoding\n",
    "\n",
    "data['0'] = [0] * len(data)\n",
    "data['1'] = [0] * len(data)\n",
    "data['2'] = [0] * len(data)\n",
    "data['3'] = [0] * len(data)\n",
    "data['4'] = [0] * len(data)\n",
    "data['5'] = [0] * len(data)\n",
    "\n",
    "for i in range(len(data['options'])): \n",
    "    temp = data['options'][i].split(',')\n",
    "    if '0' in temp: \n",
    "        data['0'][i] = 1\n",
    "    if '1' in temp: \n",
    "        data['1'][i] = 1\n",
    "    if '2' in temp: \n",
    "        data['2'][i] = 1\n",
    "    if '3' in temp: \n",
    "        data['3'][i] = 1\n",
    "    if '4' in temp: \n",
    "        data['4'][i] = 1\n",
    "    if '5' in temp: \n",
    "        data['5'][i] = 1\n",
    "data.head(5)"
   ]
  },
  {
   "cell_type": "code",
   "execution_count": 8,
   "id": "6a1550cd",
   "metadata": {},
   "outputs": [],
   "source": [
    "multilabel_data = data[['sentence_id', 'sentence', '0', '1', '2', '3', '4', '5']]"
   ]
  },
  {
   "cell_type": "code",
   "execution_count": 9,
   "id": "768b57da",
   "metadata": {},
   "outputs": [],
   "source": [
    "# csv file making to use it later to load_dataset function for multi label classification\n",
    "# multilabel_data.to_csv(\"sentences_all_hand.csv\", index = False)"
   ]
  },
  {
   "cell_type": "code",
   "execution_count": 10,
   "id": "31d507e4",
   "metadata": {
    "scrolled": false
   },
   "outputs": [
    {
     "data": {
      "text/html": [
       "<div>\n",
       "<style scoped>\n",
       "    .dataframe tbody tr th:only-of-type {\n",
       "        vertical-align: middle;\n",
       "    }\n",
       "\n",
       "    .dataframe tbody tr th {\n",
       "        vertical-align: top;\n",
       "    }\n",
       "\n",
       "    .dataframe thead th {\n",
       "        text-align: right;\n",
       "    }\n",
       "</style>\n",
       "<table border=\"1\" class=\"dataframe\">\n",
       "  <thead>\n",
       "    <tr style=\"text-align: right;\">\n",
       "      <th></th>\n",
       "      <th>corpus_id</th>\n",
       "      <th>sentence_id</th>\n",
       "      <th>sentence</th>\n",
       "      <th>options</th>\n",
       "      <th>final</th>\n",
       "      <th>0</th>\n",
       "      <th>1</th>\n",
       "      <th>2</th>\n",
       "      <th>3</th>\n",
       "      <th>4</th>\n",
       "      <th>5</th>\n",
       "    </tr>\n",
       "  </thead>\n",
       "  <tbody>\n",
       "    <tr>\n",
       "      <th>7082</th>\n",
       "      <td>4</td>\n",
       "      <td>86.0</td>\n",
       "      <td>Sie hat sich nicht verändert, wurde aber um we...</td>\n",
       "      <td>2</td>\n",
       "      <td>2</td>\n",
       "      <td>0</td>\n",
       "      <td>0</td>\n",
       "      <td>1</td>\n",
       "      <td>0</td>\n",
       "      <td>0</td>\n",
       "      <td>0</td>\n",
       "    </tr>\n",
       "    <tr>\n",
       "      <th>5687</th>\n",
       "      <td>3</td>\n",
       "      <td>2282.0</td>\n",
       "      <td>Obwohl ich weiß, dass sich diese Liste im Lauf...</td>\n",
       "      <td>3</td>\n",
       "      <td>3</td>\n",
       "      <td>0</td>\n",
       "      <td>0</td>\n",
       "      <td>0</td>\n",
       "      <td>1</td>\n",
       "      <td>0</td>\n",
       "      <td>0</td>\n",
       "    </tr>\n",
       "    <tr>\n",
       "      <th>6505</th>\n",
       "      <td>3</td>\n",
       "      <td>3100.0</td>\n",
       "      <td>Dies würde zu Verärgerung führen und sogar ein...</td>\n",
       "      <td>3</td>\n",
       "      <td>3</td>\n",
       "      <td>0</td>\n",
       "      <td>0</td>\n",
       "      <td>0</td>\n",
       "      <td>1</td>\n",
       "      <td>0</td>\n",
       "      <td>0</td>\n",
       "    </tr>\n",
       "    <tr>\n",
       "      <th>5280</th>\n",
       "      <td>3</td>\n",
       "      <td>1875.0</td>\n",
       "      <td>Wenn wir keine Freundschaften schließen und au...</td>\n",
       "      <td>2,3</td>\n",
       "      <td>3</td>\n",
       "      <td>0</td>\n",
       "      <td>0</td>\n",
       "      <td>1</td>\n",
       "      <td>1</td>\n",
       "      <td>0</td>\n",
       "      <td>0</td>\n",
       "    </tr>\n",
       "    <tr>\n",
       "      <th>5273</th>\n",
       "      <td>3</td>\n",
       "      <td>1868.0</td>\n",
       "      <td>Die dreiwöchige Abwesenheit von der Prep Schoo...</td>\n",
       "      <td>1,4</td>\n",
       "      <td>4</td>\n",
       "      <td>0</td>\n",
       "      <td>1</td>\n",
       "      <td>0</td>\n",
       "      <td>0</td>\n",
       "      <td>1</td>\n",
       "      <td>0</td>\n",
       "    </tr>\n",
       "    <tr>\n",
       "      <th>3211</th>\n",
       "      <td>2</td>\n",
       "      <td>259.0</td>\n",
       "      <td>Irgendwo gibt es ein bug den ich nicht finden ...</td>\n",
       "      <td>1</td>\n",
       "      <td>1</td>\n",
       "      <td>0</td>\n",
       "      <td>1</td>\n",
       "      <td>0</td>\n",
       "      <td>0</td>\n",
       "      <td>0</td>\n",
       "      <td>0</td>\n",
       "    </tr>\n",
       "    <tr>\n",
       "      <th>2225</th>\n",
       "      <td>1</td>\n",
       "      <td>673.0</td>\n",
       "      <td>Bei dieser Aufgabe habe ich mich weniger in di...</td>\n",
       "      <td>2</td>\n",
       "      <td>2</td>\n",
       "      <td>0</td>\n",
       "      <td>0</td>\n",
       "      <td>1</td>\n",
       "      <td>0</td>\n",
       "      <td>0</td>\n",
       "      <td>0</td>\n",
       "    </tr>\n",
       "    <tr>\n",
       "      <th>75</th>\n",
       "      <td>0</td>\n",
       "      <td>75.0</td>\n",
       "      <td>Auch die Streitschlichtung empfand ich, wie ob...</td>\n",
       "      <td>2</td>\n",
       "      <td>2</td>\n",
       "      <td>0</td>\n",
       "      <td>0</td>\n",
       "      <td>1</td>\n",
       "      <td>0</td>\n",
       "      <td>0</td>\n",
       "      <td>0</td>\n",
       "    </tr>\n",
       "    <tr>\n",
       "      <th>371</th>\n",
       "      <td>0</td>\n",
       "      <td>371.0</td>\n",
       "      <td>Anderer Seitz habe ich mir vor der Thematik sc...</td>\n",
       "      <td>2</td>\n",
       "      <td>2</td>\n",
       "      <td>0</td>\n",
       "      <td>0</td>\n",
       "      <td>1</td>\n",
       "      <td>0</td>\n",
       "      <td>0</td>\n",
       "      <td>0</td>\n",
       "    </tr>\n",
       "    <tr>\n",
       "      <th>4453</th>\n",
       "      <td>3</td>\n",
       "      <td>1041.0</td>\n",
       "      <td>Mit den vielen Argumenten für und gegen aus de...</td>\n",
       "      <td>3,4</td>\n",
       "      <td>4</td>\n",
       "      <td>0</td>\n",
       "      <td>0</td>\n",
       "      <td>0</td>\n",
       "      <td>1</td>\n",
       "      <td>1</td>\n",
       "      <td>0</td>\n",
       "    </tr>\n",
       "  </tbody>\n",
       "</table>\n",
       "</div>"
      ],
      "text/plain": [
       "      corpus_id  sentence_id  \\\n",
       "7082          4         86.0   \n",
       "5687          3       2282.0   \n",
       "6505          3       3100.0   \n",
       "5280          3       1875.0   \n",
       "5273          3       1868.0   \n",
       "3211          2        259.0   \n",
       "2225          1        673.0   \n",
       "75            0         75.0   \n",
       "371           0        371.0   \n",
       "4453          3       1041.0   \n",
       "\n",
       "                                               sentence options  final  0  1  \\\n",
       "7082  Sie hat sich nicht verändert, wurde aber um we...       2      2  0  0   \n",
       "5687  Obwohl ich weiß, dass sich diese Liste im Lauf...       3      3  0  0   \n",
       "6505  Dies würde zu Verärgerung führen und sogar ein...       3      3  0  0   \n",
       "5280  Wenn wir keine Freundschaften schließen und au...     2,3      3  0  0   \n",
       "5273  Die dreiwöchige Abwesenheit von der Prep Schoo...     1,4      4  0  1   \n",
       "3211  Irgendwo gibt es ein bug den ich nicht finden ...       1      1  0  1   \n",
       "2225  Bei dieser Aufgabe habe ich mich weniger in di...       2      2  0  0   \n",
       "75    Auch die Streitschlichtung empfand ich, wie ob...       2      2  0  0   \n",
       "371   Anderer Seitz habe ich mir vor der Thematik sc...       2      2  0  0   \n",
       "4453  Mit den vielen Argumenten für und gegen aus de...     3,4      4  0  0   \n",
       "\n",
       "      2  3  4  5  \n",
       "7082  1  0  0  0  \n",
       "5687  0  1  0  0  \n",
       "6505  0  1  0  0  \n",
       "5280  1  1  0  0  \n",
       "5273  0  0  1  0  \n",
       "3211  0  0  0  0  \n",
       "2225  1  0  0  0  \n",
       "75    1  0  0  0  \n",
       "371   1  0  0  0  \n",
       "4453  0  1  1  0  "
      ]
     },
     "execution_count": 10,
     "metadata": {},
     "output_type": "execute_result"
    }
   ],
   "source": [
    "data.sample(10)"
   ]
  },
  {
   "cell_type": "markdown",
   "id": "61e1b95d",
   "metadata": {},
   "source": [
    "When checking the sample of dataframe, we found some sentence was still in English. Therefore language detection should be worked on. \n",
    "\n",
    "Although we tried with 4 to five methods(TextBlob, Googletrans, Polyglot, langdetect), none of them were not able to perfectly detect the language in sentence. That would be the probably the reason why the original datafile still contained english sentence in the first place. Therefore manual data cleansing must be proceeded with the help of one library.\n",
    "\n",
    "Because there were limited performance shown in TextBlob they were excluded. Polyglot and Googletrans is not based on rule or stats, and langdetect needs comparably larger portion of text for detection hence we chose pycld2. "
   ]
  },
  {
   "cell_type": "code",
   "execution_count": 11,
   "id": "80bfcf27",
   "metadata": {
    "scrolled": true
   },
   "outputs": [],
   "source": [
    "# Language detection function in pycld2\n",
    "import pycld2 as cld2"
   ]
  },
  {
   "cell_type": "code",
   "execution_count": 12,
   "id": "c1a5ba95",
   "metadata": {},
   "outputs": [],
   "source": [
    "# Index of non-german sentences stored in a list\n",
    "nonegerman = []\n",
    "for i in range(len(data)):\n",
    "    isReliable, textBytesFound, details = cld2.detect(data['sentence'][i])\n",
    "    if details[0][0] != \"GERMAN\": \n",
    "        nonegerman.append(i)"
   ]
  },
  {
   "cell_type": "code",
   "execution_count": 13,
   "id": "e3126ee8",
   "metadata": {},
   "outputs": [
    {
     "data": {
      "text/plain": [
       "240"
      ]
     },
     "execution_count": 13,
     "metadata": {},
     "output_type": "execute_result"
    }
   ],
   "source": [
    "len(nonegerman)"
   ]
  },
  {
   "cell_type": "code",
   "execution_count": 14,
   "id": "bfcb8e1d",
   "metadata": {
    "scrolled": true
   },
   "outputs": [
    {
     "name": "stdout",
     "output_type": "stream",
     "text": [
      "[15, 16, 17, 20, 22, 26, 96, 167, 207, 208] \n",
      "\n",
      "[209, 212, 255, 296, 351, 378, 384, 391, 419, 456] \n",
      "\n",
      "[540, 541, 542, 543, 544, 548, 549, 577, 578, 579] \n",
      "\n",
      "[718, 725, 731, 735, 739, 740, 741, 742, 743, 752] \n",
      "\n",
      "[790, 791, 844, 896, 909, 912, 927, 928, 931, 994] \n",
      "\n",
      "[995, 996, 997, 1025, 1065, 1066, 1067, 1095, 1106, 1107] \n",
      "\n",
      "[1263, 1308, 1314, 1315, 1321, 1376, 1484, 1485, 1504, 1568] \n",
      "\n",
      "[1580, 1581, 1583, 1584, 1589, 1590, 1627, 1628, 1688, 1695] \n",
      "\n",
      "[1697, 1699, 1732, 1740, 1781, 1782, 1898, 1903, 1958, 2042] \n",
      "\n",
      "[2185, 2270, 2271, 2282, 2283, 2284, 2288, 2290, 2293, 2298] \n",
      "\n",
      "[2300, 2341, 2458, 2459, 2600, 2723, 2726, 2825, 2924, 2925] \n",
      "\n",
      "[2980, 3009, 3019, 3025, 3026, 3030, 3031, 3033, 3042, 3043] \n",
      "\n",
      "[3044, 3045, 3046, 3049, 3052, 3061, 3065, 3069, 3072, 3081] \n",
      "\n",
      "[3091, 3099, 3102, 3103, 3104, 3109, 3111, 3131, 3133, 3134] \n",
      "\n",
      "[3157, 3170, 3179, 3185, 3190, 3193, 3197, 3222, 3227, 3284] \n",
      "\n",
      "[3325, 3332, 3340, 3375, 3389, 3394, 3458, 3546, 3600, 3642] \n",
      "\n",
      "[3695, 3704, 3712, 3884, 3932, 3956, 3957, 3965, 3986, 4162] \n",
      "\n",
      "[4173, 4538, 4587, 4593, 4595, 4605, 4626, 4701, 4860, 4903] \n",
      "\n",
      "[4945, 4988, 5013, 5106, 5219, 5264, 5447, 5460, 5623, 5631] \n",
      "\n",
      "[5737, 5846, 5991, 6154, 6225, 6227, 6257, 6300, 6302, 6308] \n",
      "\n",
      "[6341, 6482, 6494, 6632, 6633, 6661, 6689, 6720, 6722, 6762] \n",
      "\n",
      "[6844, 6856, 6858, 6867, 6894, 6923, 7041, 7083, 7084, 7093] \n",
      "\n",
      "[7123, 7155, 7183, 7204, 7210, 7252, 7308, 7312, 7363, 7398] \n",
      "\n",
      "[7416, 7417, 7434, 7435, 7463, 7470, 7486, 7600, 7607, 7613] \n",
      "\n"
     ]
    }
   ],
   "source": [
    "for i in range(1, len(nonegerman)+1): \n",
    "    if i%10 == 0: \n",
    "        print(nonegerman[i-10:i], \"\\n\")"
   ]
  },
  {
   "cell_type": "markdown",
   "id": "5aeb8b4c",
   "metadata": {},
   "source": [
    "Checking the index printed above in the 'sentences_all.tsv' file, only translated English sentence to German using DeepL translator. There were some rows only containing a symbol but we did not handle them to keep the integrity of data which should be used for comparing with another team. \n",
    "\n",
    "Then the manually handled file is named 'sentences_all_manual.tsv'. \n"
   ]
  },
  {
   "cell_type": "markdown",
   "id": "7c662f42",
   "metadata": {},
   "source": [
    "## EDA of text data - single target"
   ]
  },
  {
   "cell_type": "code",
   "execution_count": 54,
   "id": "2a7cb9e6",
   "metadata": {},
   "outputs": [
    {
     "name": "stdout",
     "output_type": "stream",
     "text": [
      "1. Number of samples: 7620\n",
      "2. Number of classes: [0 1 2 3 4 5]\n",
      "3. Number of samples per class:\n",
      "\n",
      "   final\n",
      "0   3057\n",
      "2   1933\n",
      "3   1286\n",
      "1    517\n",
      "4    457\n",
      "5    370\n",
      "\n",
      "4. Median of the number of words in a sentence: 18.0\n",
      "\n",
      "5. Max number of words in a sentence: 121\n"
     ]
    }
   ],
   "source": [
    "# Key metrics of data\n",
    "print(\"1. Number of samples:\", len(data))\n",
    "print(\"2. Number of classes:\", np.sort(pd.unique(data.final)))\n",
    "print(\"3. Number of samples per class:\\n\")\n",
    "print(pd.DataFrame(data.final.value_counts()))\n",
    "\n",
    "cnt_all = [len(data.sentence[i].split()) for i in range(len(data))]\n",
    "print(\"\\n4. Median of the number of words in a sentence:\", np.median(cnt_all))\n",
    "print(\"\\n5. Max number of words in a sentence:\", np.max(cnt_all))"
   ]
  },
  {
   "cell_type": "code",
   "execution_count": 16,
   "id": "6fcade3a",
   "metadata": {
    "scrolled": true
   },
   "outputs": [
    {
     "name": "stderr",
     "output_type": "stream",
     "text": [
      "[nltk_data] Downloading package stopwords to /Users/gytkd/nltk_data...\n",
      "[nltk_data]   Package stopwords is already up-to-date!\n"
     ]
    },
    {
     "data": {
      "text/plain": [
       "True"
      ]
     },
     "execution_count": 16,
     "metadata": {},
     "output_type": "execute_result"
    }
   ],
   "source": [
    "# Data cleaning & preprocessing for removing stopwords. \n",
    "\n",
    "import re \n",
    "import nltk\n",
    "\n",
    "nltk.download('stopwords')"
   ]
  },
  {
   "cell_type": "markdown",
   "id": "5ece65f1",
   "metadata": {},
   "source": [
    "### Goal of the pre-processing\n",
    "We needed to remove the stopwords as classifying the meaning of the sentences into some categories.\n",
    "\n",
    "Also, lemmatization of german should have been differ from the one of english. nltk does not provide the german lemmatizing tools, which has been developed from Standford uni for english.\n",
    "\n",
    "Therefore we used the Hannover Tagger\n",
    "\n"
   ]
  },
  {
   "cell_type": "markdown",
   "id": "92d27574",
   "metadata": {},
   "source": [
    "###  Stemming and Lemmatization application\n",
    "- Lemmatization can act as redundant process in this task, since getting tags is not essential as we are not selecting words with language type e.g. nouns, adjectives, adverbs..\n",
    "- Doing stemming and lemmatization decision can be intuitively adjusted by researchers.\n",
    "- If about to apply both processes, then lemmatization -> stemming would be appropriate order in another project.\n",
    "- Therefore we tried 3 combinations of dataset \n",
    "\n",
    "    1) Stemmed dataset \n",
    "    2) Lemmatized dataset\n",
    "    3) Lemmatized and then stemmed dataset\n"
   ]
  },
  {
   "cell_type": "code",
   "execution_count": 17,
   "id": "9ddefcac",
   "metadata": {},
   "outputs": [
    {
     "name": "stderr",
     "output_type": "stream",
     "text": [
      "[nltk_data] Downloading package wordnet to /Users/gytkd/nltk_data...\n",
      "[nltk_data]   Package wordnet is already up-to-date!\n"
     ]
    },
    {
     "data": {
      "text/plain": [
       "['zunächst arbeitsplatz vorbereitet konzentriert aufgabe bearbeiten',\n",
       " 'anschließend las fallbeispiel mehrmals fing spontan fragen beantworten',\n",
       " 'neutral offen aufgabe herangegangen recht wohl gefühlt',\n",
       " 'nachdem zunächst aufgabe lerninhalte bearbeitet las tipps konnte mehr reproduktion hinzufügen lösung struktur geben hintergrundwissen basierte',\n",
       " 'tipps geholfen lösung verbessern',\n",
       " 'zufrieden leistung',\n",
       " 'allerdings bewusst vollständig',\n",
       " 'leider weiß fehlt bzw verbessert',\n",
       " 'schließlich gute übung perfekt',\n",
       " 'motiviert finde klassengeschehen klassendynamik gutes effektives lernen wichtig']"
      ]
     },
     "execution_count": 17,
     "metadata": {},
     "output_type": "execute_result"
    }
   ],
   "source": [
    "# Construct corpus with token unit sentence\n",
    "# Non-german alphabets containing words are removed.\n",
    "# Stemming library and list.\n",
    "\n",
    "from nltk.corpus import stopwords\n",
    "from nltk.stem.porter import PorterStemmer\n",
    "nltk.download('wordnet')\n",
    "\n",
    "ps = PorterStemmer()\n",
    "corpus = []\n",
    "\n",
    "for i in range(0, len(data)):\n",
    "    review = re.sub('[^a-zA-ZäöüÄÖÜß]', ' ', data['sentence'][i])\n",
    "    review = review.lower()\n",
    "    review = review.split()\n",
    "    \n",
    "    review = [word for word in review if not word in stopwords.words('german')]\n",
    "    review = ' '.join(review)\n",
    "    corpus.append(review)\n",
    "corpus[:10]"
   ]
  },
  {
   "cell_type": "code",
   "execution_count": 18,
   "id": "0c1b9ba4",
   "metadata": {
    "scrolled": true
   },
   "outputs": [
    {
     "data": {
      "text/plain": [
       "['zunächst arbeitsplatz vorbereitet konzentriert aufgabe bearbeiten',\n",
       " 'anschließend las fallbeispiel mehrmals fing spontan fragen beantworten',\n",
       " 'neutral offen aufgabe herangegangen recht wohl gefühlt',\n",
       " 'nachdem zunächst aufgabe lerninhalte bearbeitet las tipps konnte mehr reproduktion hinzufügen lösung struktur geben hintergrundwissen basiert',\n",
       " 'tipps geholfen lösung verbessern',\n",
       " 'zufrieden leistung',\n",
       " 'allerdings bewusst vollständig',\n",
       " 'leider weiß fehlt bzw verbessert',\n",
       " 'schließlich gute übung perfekt',\n",
       " 'motiviert finde klassengeschehen klassendynamik gutes effektives lernen wichtig']"
      ]
     },
     "execution_count": 18,
     "metadata": {},
     "output_type": "execute_result"
    }
   ],
   "source": [
    "# Stemmed corpus\n",
    "stem_corpus = [ps.stem(word) for word in corpus]\n",
    "stem_corpus[:10]"
   ]
  },
  {
   "cell_type": "code",
   "execution_count": 19,
   "id": "af062cf3",
   "metadata": {
    "scrolled": true
   },
   "outputs": [
    {
     "data": {
      "text/plain": [
       "['zunächst Arbeitsplatz vorbereiten konzentriert Aufgabe bearbeiten',\n",
       " 'anschließend lesen Fallbeispiel mehrmals fangen spontan fragen beantworten',\n",
       " 'neutral offen Aufgabe herangehen recht wohl fühlen',\n",
       " 'nachdem zunächst Aufgabe Lerninhalte bearbeiten Las Tipps können mehr Reproduktion hinfügen Lösung Struktur geben hintergrundwissen basieren',\n",
       " 'Tipps helfen Lösung verbessern',\n",
       " 'zufrieden Leistung',\n",
       " 'allerdings bewissen vollständig',\n",
       " 'leider weiß fehlen Bzw verbessern',\n",
       " 'schließlich gut Übung perfekt',\n",
       " 'motivieren finden klassengeschehen klassendynamik gut effektiv lernen wichtig']"
      ]
     },
     "execution_count": 19,
     "metadata": {},
     "output_type": "execute_result"
    }
   ],
   "source": [
    "# Lemmatizing corpus\n",
    "# sentences_tok  =  [nltk.tokenize.word_tokenize ( sent )  for  sent  in  corpus\n",
    "# For german lemmatization, NLTK cannot be used so that we used the HanoverTagger.\n",
    "\n",
    "from HanTa import HanoverTagger as ht\n",
    "\n",
    "lem_corpus  =  []\n",
    "temp = ''\n",
    "tagger = ht.HanoverTagger('morphmodel_ger.pgz')\n",
    "\n",
    "for raw in corpus:\n",
    "    tok_raw = [nltk.tokenize.word_tokenize( raw )]\n",
    "    lem_tok = []\n",
    "    for tok in tok_raw:\n",
    "        tags = tagger.tag_sent(tok)\n",
    "        lem_tok.extend(lemma for (word, lemma, pos) in tags)\n",
    "    temp = \" \".join(lem_tok)\n",
    "    lem_corpus.append(temp)\n",
    "\n",
    "lem_corpus[:10]"
   ]
  },
  {
   "cell_type": "code",
   "execution_count": 20,
   "id": "8c0ac803",
   "metadata": {},
   "outputs": [
    {
     "data": {
      "text/plain": [
       "['zunächst arbeitsplatz vorbereiten konzentriert aufgabe bearbeiten',\n",
       " 'anschließend lesen fallbeispiel mehrmals fangen spontan fragen beantworten',\n",
       " 'neutral offen aufgabe herangehen recht wohl fühlen',\n",
       " 'nachdem zunächst aufgabe lerninhalte bearbeiten las tipps können mehr reproduktion hinfügen lösung struktur geben hintergrundwissen basieren',\n",
       " 'tipps helfen lösung verbessern',\n",
       " 'zufrieden leistung',\n",
       " 'allerdings bewissen vollständig',\n",
       " 'leider weiß fehlen bzw verbessern',\n",
       " 'schließlich gut übung perfekt',\n",
       " 'motivieren finden klassengeschehen klassendynamik gut effektiv lernen wichtig']"
      ]
     },
     "execution_count": 20,
     "metadata": {},
     "output_type": "execute_result"
    }
   ],
   "source": [
    "# Lemmatized and stemmed corpus \n",
    "lem_stem_corpus = [ps.stem(word) for word in lem_corpus]\n",
    "lem_stem_corpus[:10]"
   ]
  },
  {
   "cell_type": "markdown",
   "id": "12eb0adc",
   "metadata": {},
   "source": [
    "### Summary of dataset\n",
    "corpus\n",
    "\n",
    "1. non-german alphabets are removed e.g. '.' or '!'\n",
    "2. lowercase\n",
    "3. stopwords are removed\n",
    "\n",
    "lem_corpus: lemmatized corpus\n",
    "\n",
    "stem_corpus: stemmed corpus"
   ]
  },
  {
   "cell_type": "code",
   "execution_count": 21,
   "id": "df7b5f8a",
   "metadata": {
    "scrolled": true
   },
   "outputs": [
    {
     "name": "stdout",
     "output_type": "stream",
     "text": [
      "[('gut', 948),\n",
      " ('Kind', 846),\n",
      " ('Aufgabe', 834),\n",
      " ('Thema', 527),\n",
      " ('lernen', 471),\n",
      " ('Bearbeitung', 412),\n",
      " ('geben', 402),\n",
      " ('werden', 402),\n",
      " ('Lehrer', 376),\n",
      " ('wichtig', 368)]\n"
     ]
    },
    {
     "data": {
      "image/png": "[encoded data removed]",
      "text/plain": [
       "<Figure size 432x288 with 1 Axes>"
      ]
     },
     "metadata": {
      "needs_background": "light"
     },
     "output_type": "display_data"
    },
    {
     "data": {
      "text/plain": [
       "<AxesSubplot:xlabel='Samples', ylabel='Counts'>"
      ]
     },
     "execution_count": 21,
     "metadata": {},
     "output_type": "execute_result"
    }
   ],
   "source": [
    "# Check the most common words in graph\n",
    "# Plus, we can see the useful feature of the lemmatization - tag. \n",
    "#      If we were looking for nouns only, then we can give the condition after the for (word, lemma, pos)\n",
    "# In a variable sentences_tok: Each sentence will be one list containing words.\n",
    "\n",
    "from pprint import pprint\n",
    "common  =  []  \n",
    "sentences_tok  =  [nltk.tokenize.word_tokenize ( sent )  for  sent  in  corpus] \n",
    "\n",
    "for  sent  in  sentences_tok : \n",
    "    tags  =  tagger.tag_sent(sent)  \n",
    "    comm_from_sent  =  [ lemma  for  ( word , lemma , pos )  in  tags] \n",
    "    common.extend(comm_from_sent)\n",
    "\n",
    "fdist  =  nltk.FreqDist (common)    \n",
    "\n",
    "# Most common 10 words\n",
    "pprint (fdist.most_common ( 10 )) \n",
    "# Graph most common 15 words\n",
    "fdist.plot (15 , cumulative = False )"
   ]
  },
  {
   "cell_type": "code",
   "execution_count": 22,
   "id": "1b5cc3df",
   "metadata": {},
   "outputs": [],
   "source": [
    "# Visualization library\n",
    "import seaborn as sns\n",
    "import matplotlib.pyplot as plt\n",
    "from nltk.tokenize import word_tokenize\n",
    "from nltk import ngrams\n",
    "from collections import Counter\n",
    "\n",
    "# A sample length - Number of samples without spaces in between\n",
    "def plot_sample_length_distribution(sample_texts):\n",
    "    \"\"\"Plots the sample length distribution.\n",
    "\n",
    "    # Arguments\n",
    "        samples_texts: list, sample texts.\n",
    "    \"\"\"\n",
    "    plt.hist([len(s.split()) for s in sample_texts], 50)\n",
    "    plt.xlabel('Length of a sample')\n",
    "    plt.ylabel('Number of samples')\n",
    "    plt.title('Sample length distribution')\n",
    "    plt.show()"
   ]
  },
  {
   "cell_type": "code",
   "execution_count": 23,
   "id": "20e63d82",
   "metadata": {},
   "outputs": [],
   "source": [
    "# Word frequency for unigram, bigram, and trigram.\n",
    "def word_frequency(new_tokens):\n",
    "    counted = Counter(new_tokens)\n",
    "    counted_2 = Counter(ngrams(new_tokens, 2))\n",
    "    counted_3 = Counter(ngrams(new_tokens, 3))\n",
    "    \n",
    "    word_freq = pd.DataFrame(counted.items(), columns = ['word', 'frequency']).sort_values(by = ['frequency'], ascending = False)\n",
    "    word_pairs = pd.DataFrame(counted_2.items(), columns = ['pairs', 'frequency']).sort_values(by = ['frequency'], ascending = False)\n",
    "    trigrams = pd.DataFrame(counted_3.items(), columns = ['trigrams', 'frequency']).sort_values(by = ['frequency'], ascending = False)\n",
    "    return word_freq, word_pairs, trigrams\n",
    "\n",
    "data2, data3, data4 = word_frequency(common)"
   ]
  },
  {
   "cell_type": "code",
   "execution_count": 24,
   "id": "b59fcdbc",
   "metadata": {},
   "outputs": [],
   "source": [
    "# Add another column of word_len in dataframe of unigram \n",
    "data2['word_len'] = [len(w) for w in data2['word']]\n",
    "data2 = data2.reset_index(drop = True)"
   ]
  },
  {
   "cell_type": "code",
   "execution_count": 25,
   "id": "d871adb8",
   "metadata": {},
   "outputs": [
    {
     "data": {
      "text/html": [
       "<div>\n",
       "<style scoped>\n",
       "    .dataframe tbody tr th:only-of-type {\n",
       "        vertical-align: middle;\n",
       "    }\n",
       "\n",
       "    .dataframe tbody tr th {\n",
       "        vertical-align: top;\n",
       "    }\n",
       "\n",
       "    .dataframe thead th {\n",
       "        text-align: right;\n",
       "    }\n",
       "</style>\n",
       "<table border=\"1\" class=\"dataframe\">\n",
       "  <thead>\n",
       "    <tr style=\"text-align: right;\">\n",
       "      <th></th>\n",
       "      <th>word</th>\n",
       "      <th>frequency</th>\n",
       "      <th>word_len</th>\n",
       "    </tr>\n",
       "  </thead>\n",
       "  <tbody>\n",
       "    <tr>\n",
       "      <th>0</th>\n",
       "      <td>gut</td>\n",
       "      <td>948</td>\n",
       "      <td>3</td>\n",
       "    </tr>\n",
       "    <tr>\n",
       "      <th>1</th>\n",
       "      <td>Kind</td>\n",
       "      <td>846</td>\n",
       "      <td>4</td>\n",
       "    </tr>\n",
       "    <tr>\n",
       "      <th>2</th>\n",
       "      <td>Aufgabe</td>\n",
       "      <td>834</td>\n",
       "      <td>7</td>\n",
       "    </tr>\n",
       "    <tr>\n",
       "      <th>3</th>\n",
       "      <td>Thema</td>\n",
       "      <td>527</td>\n",
       "      <td>5</td>\n",
       "    </tr>\n",
       "    <tr>\n",
       "      <th>4</th>\n",
       "      <td>lernen</td>\n",
       "      <td>471</td>\n",
       "      <td>6</td>\n",
       "    </tr>\n",
       "    <tr>\n",
       "      <th>...</th>\n",
       "      <td>...</td>\n",
       "      <td>...</td>\n",
       "      <td>...</td>\n",
       "    </tr>\n",
       "    <tr>\n",
       "      <th>9203</th>\n",
       "      <td>Lucky</td>\n",
       "      <td>1</td>\n",
       "      <td>5</td>\n",
       "    </tr>\n",
       "    <tr>\n",
       "      <th>9204</th>\n",
       "      <td>Fotograf</td>\n",
       "      <td>1</td>\n",
       "      <td>8</td>\n",
       "    </tr>\n",
       "    <tr>\n",
       "      <th>9205</th>\n",
       "      <td>teamleit</td>\n",
       "      <td>1</td>\n",
       "      <td>8</td>\n",
       "    </tr>\n",
       "    <tr>\n",
       "      <th>9206</th>\n",
       "      <td>chefkoch</td>\n",
       "      <td>1</td>\n",
       "      <td>8</td>\n",
       "    </tr>\n",
       "    <tr>\n",
       "      <th>9207</th>\n",
       "      <td>nerven</td>\n",
       "      <td>1</td>\n",
       "      <td>6</td>\n",
       "    </tr>\n",
       "  </tbody>\n",
       "</table>\n",
       "<p>9208 rows × 3 columns</p>\n",
       "</div>"
      ],
      "text/plain": [
       "          word  frequency  word_len\n",
       "0          gut        948         3\n",
       "1         Kind        846         4\n",
       "2      Aufgabe        834         7\n",
       "3        Thema        527         5\n",
       "4       lernen        471         6\n",
       "...        ...        ...       ...\n",
       "9203     Lucky          1         5\n",
       "9204  Fotograf          1         8\n",
       "9205  teamleit          1         8\n",
       "9206  chefkoch          1         8\n",
       "9207    nerven          1         6\n",
       "\n",
       "[9208 rows x 3 columns]"
      ]
     },
     "execution_count": 25,
     "metadata": {},
     "output_type": "execute_result"
    }
   ],
   "source": [
    "# Words lemmatized ordered in frequency with word_len information together\n",
    "data2"
   ]
  },
  {
   "cell_type": "code",
   "execution_count": 26,
   "id": "0760504d",
   "metadata": {
    "scrolled": true
   },
   "outputs": [
    {
     "data": {
      "image/png": "[encoded data removed]",
      "text/plain": [
       "<Figure size 432x288 with 1 Axes>"
      ]
     },
     "metadata": {
      "needs_background": "light"
     },
     "output_type": "display_data"
    }
   ],
   "source": [
    "# Visualization \n",
    "# Length of a sample and Number of samples - how many words in each sentence\n",
    "\n",
    "plot_sample_length_distribution(corpus)"
   ]
  },
  {
   "cell_type": "markdown",
   "id": "2b1a9d9e",
   "metadata": {},
   "source": [
    "Most of the sentences consist of 0-30 words."
   ]
  },
  {
   "cell_type": "code",
   "execution_count": 27,
   "id": "346eb9ef",
   "metadata": {
    "scrolled": true
   },
   "outputs": [
    {
     "name": "stdout",
     "output_type": "stream",
     "text": [
      "Max length: 121, Min length: 1, Average Length :  19.090288713910763\n"
     ]
    }
   ],
   "source": [
    "# Max, Min, Average length of the sentence\n",
    "data['len']= data['sentence'].str.split().map(lambda x: len(x))\n",
    "print('Max length: {}, Min length: {}, Average Length :  {}'.format(max(data['len']),min(data['len']),data['len'].mean()))"
   ]
  },
  {
   "cell_type": "markdown",
   "id": "a3141133",
   "metadata": {},
   "source": [
    "## N-grams\n",
    "N-grams is the continuous sequence of words or symbols in a document.\n",
    "\n",
    "If N == 1: unigram, N == 2: bigram, N == 3: trigram"
   ]
  },
  {
   "cell_type": "code",
   "execution_count": 36,
   "id": "27237260",
   "metadata": {
    "scrolled": true
   },
   "outputs": [
    {
     "data": {
      "text/plain": [
       "<AxesSubplot:xlabel='frequency', ylabel='trigrams'>"
      ]
     },
     "execution_count": 36,
     "metadata": {},
     "output_type": "execute_result"
    },
    {
     "data": {
      "image/png": "[encoded data removed]",
      "text/plain": [
       "<Figure size 504x1152 with 3 Axes>"
      ]
     },
     "metadata": {
      "needs_background": "light"
     },
     "output_type": "display_data"
    }
   ],
   "source": [
    "# Word frequency\n",
    "fig, axes = plt.subplots(3,1,figsize=(7,16))\n",
    "\n",
    "sns.barplot(ax=axes[0],x='frequency',y='word',data= data2.head(10))\n",
    "sns.barplot(ax=axes[1],x='frequency',y='pairs',data=data3.head(10))\n",
    "sns.barplot(ax=axes[2],x='frequency',y='trigrams',data=data4.head(10))\n",
    "\n"
   ]
  },
  {
   "cell_type": "markdown",
   "id": "315e0dea",
   "metadata": {},
   "source": [
    "# Machine learning"
   ]
  },
  {
   "cell_type": "code",
   "execution_count": 29,
   "id": "79ebfb73",
   "metadata": {},
   "outputs": [],
   "source": [
    "from sklearn import naive_bayes, svm\n",
    "from sklearn.ensemble import RandomForestClassifier\n",
    "from sklearn.metrics import accuracy_score\n",
    "from sklearn.metrics import f1_score\n",
    "from sklearn.metrics import cohen_kappa_score"
   ]
  },
  {
   "cell_type": "markdown",
   "id": "69e780fa",
   "metadata": {},
   "source": [
    "## Preprocessing - Bag of Words\n",
    "\n",
    "As we are not using multiple documents rather all are combined in one document, TF/IDF does not have a power to impact a lot on the result. Therefore we chose BoW. "
   ]
  },
  {
   "cell_type": "code",
   "execution_count": 30,
   "id": "eaa26429",
   "metadata": {},
   "outputs": [],
   "source": [
    "# Creating the Bag of Words model\n",
    "from sklearn.feature_extraction.text import CountVectorizer\n",
    "cv = CountVectorizer(max_features=2500)\n",
    "\n",
    "# By changing the dataset from 1)stem_corpus, 2)lem_corpus, 3)lem_stem_corpus \n",
    "#    Different accuracy results are below.\n",
    "\n",
    "X = cv.fit_transform(lem_stem_corpus).toarray()\n",
    "y = data['final']"
   ]
  },
  {
   "cell_type": "code",
   "execution_count": 31,
   "id": "ce15465b",
   "metadata": {},
   "outputs": [],
   "source": [
    "# Train-test set split\n",
    "from sklearn.model_selection import train_test_split\n",
    "X_train, X_test, y_train, y_test = train_test_split(X, y, test_size = 0.20, random_state = 0)"
   ]
  },
  {
   "cell_type": "code",
   "execution_count": 39,
   "id": "e7cde065",
   "metadata": {},
   "outputs": [],
   "source": [
    "# For the classification report \n",
    "from sklearn.metrics import classification_report\n",
    "label_names = ['0', '1', '2', '3', '4', '5']"
   ]
  },
  {
   "cell_type": "markdown",
   "id": "bff3326f",
   "metadata": {},
   "source": [
    "## SVM\n",
    "\n",
    "It is known to be well performing in text classification"
   ]
  },
  {
   "cell_type": "code",
   "execution_count": 40,
   "id": "efcef795",
   "metadata": {},
   "outputs": [
    {
     "name": "stdout",
     "output_type": "stream",
     "text": [
      "              precision    recall  f1-score   support\n",
      "\n",
      "           0       0.57      0.74      0.64       568\n",
      "           1       0.34      0.33      0.33       100\n",
      "           2       0.51      0.48      0.49       404\n",
      "           3       0.40      0.28      0.33       270\n",
      "           4       0.23      0.16      0.19        96\n",
      "           5       0.39      0.22      0.28        86\n",
      "\n",
      "    accuracy                           0.50      1524\n",
      "   macro avg       0.41      0.37      0.38      1524\n",
      "weighted avg       0.48      0.50      0.48      1524\n",
      "\n",
      "SVM Cohen's Kappa ->  0.30240852119257544\n"
     ]
    }
   ],
   "source": [
    "SVM = svm.SVC(C=1.0, kernel='linear', degree=3, gamma='auto')\n",
    "SVM.fit(X_train,y_train)\n",
    "\n",
    "# predict the labels on validation dataset\n",
    "prediction_SVM = SVM.predict(X_test)\n",
    "\n",
    "print(classification_report(y_test, prediction_SVM,target_names=label_names))\n",
    "print(\"SVM Cohen's Kappa -> \", cohen_kappa_score(y_test, prediction_SVM))"
   ]
  },
  {
   "cell_type": "markdown",
   "id": "464f3f71",
   "metadata": {},
   "source": [
    "## Naive Bayes Classifier \n",
    "\n",
    "It goes well with multinomial variant. "
   ]
  },
  {
   "cell_type": "code",
   "execution_count": 41,
   "id": "84f3c886",
   "metadata": {},
   "outputs": [
    {
     "name": "stdout",
     "output_type": "stream",
     "text": [
      "              precision    recall  f1-score   support\n",
      "\n",
      "           0       0.57      0.67      0.62       568\n",
      "           1       0.37      0.14      0.20       100\n",
      "           2       0.44      0.60      0.51       404\n",
      "           3       0.36      0.25      0.30       270\n",
      "           4       0.29      0.07      0.12        96\n",
      "           5       0.42      0.27      0.33        86\n",
      "\n",
      "    accuracy                           0.48      1524\n",
      "   macro avg       0.41      0.33      0.34      1524\n",
      "weighted avg       0.46      0.48      0.46      1524\n",
      "\n",
      "Naive Bayes Cohen's Kappa ->  0.27482598859439256\n"
     ]
    }
   ],
   "source": [
    "Naive = naive_bayes.MultinomialNB()\n",
    "Naive.fit(X_train,y_train)\n",
    "\n",
    "# predict the labels on validation dataset\n",
    "prediction_NB = Naive.predict(X_test)\n",
    "\n",
    "print(classification_report(y_test, prediction_NB,target_names=label_names))\n",
    "print(\"Naive Bayes Cohen's Kappa -> \", cohen_kappa_score(y_test, prediction_NB))"
   ]
  },
  {
   "cell_type": "markdown",
   "id": "47053a07",
   "metadata": {},
   "source": [
    "## Random Forest"
   ]
  },
  {
   "cell_type": "code",
   "execution_count": 42,
   "id": "9b3de5ac",
   "metadata": {
    "scrolled": false
   },
   "outputs": [
    {
     "name": "stdout",
     "output_type": "stream",
     "text": [
      "              precision    recall  f1-score   support\n",
      "\n",
      "           0       0.51      0.82      0.63       568\n",
      "           1       0.29      0.33      0.31       100\n",
      "           2       0.45      0.46      0.46       404\n",
      "           3       0.52      0.10      0.16       270\n",
      "           4       0.31      0.04      0.07        96\n",
      "           5       0.38      0.12      0.18        86\n",
      "\n",
      "    accuracy                           0.47      1524\n",
      "   macro avg       0.41      0.31      0.30      1524\n",
      "weighted avg       0.46      0.47      0.42      1524\n",
      "\n",
      "Random Forest Cohen's Kappa ->  0.24099626660837659\n"
     ]
    }
   ],
   "source": [
    "rf = RandomForestClassifier()\n",
    "rf.fit(X_train, y_train)\n",
    "prediction_RF = rf.predict(X_test)\n",
    "\n",
    "print(classification_report(y_test, prediction_RF,target_names=label_names))\n",
    "print(\"Random Forest Cohen's Kappa -> \", cohen_kappa_score(y_test, prediction_RF))"
   ]
  },
  {
   "cell_type": "markdown",
   "id": "f0405d4c",
   "metadata": {},
   "source": [
    "### F1 Score by different dataset\n",
    "\n",
    "F1 score = 2{(precision * recall)/ (precision + recall)}\n",
    "\n",
    "[Lemmatization -> stemming]\n",
    "\n",
    "* svm = [0.64171123 0.33333333 0.49492386 0.32751092 0.1875     0.28148148]\n",
    "* nb = [0.61676159 0.20289855 0.5057232  0.2962963  0.11666667 0.32624113]\n",
    "* rf = [0.62176871 0.30841121 0.44389642 0.16969697 0.03669725 0.21052632]\n",
    "\n",
    "    \n",
    "[stemmed]\n",
    "    \n",
    "* svm = [0.64626866 0.30150754 0.4507772  0.3580786  0.22516556 0.3125    ]\n",
    "* nb = [0.61676159 0.20289855 0.5057232  0.2962963  0.11666667 0.32624113]\n",
    "* rf = [0.61964039 0.34418605 0.46078431 0.1497006  0.05172414 0.34710744]\n",
    "\n",
    "\n",
    "[Lemmatized]\n",
    "    \n",
    "* svm = [0.64427481 0.33502538 0.48621554 0.329718   0.14473684 0.26153846]\n",
    "* nb = [0.61676159 0.20289855 0.5057232  0.2962963  0.11666667 0.32624113]\n",
    "* rf = [0.64337508 0.30046948 0.44730077 0.16969697 0.07272727 0.18      ]"
   ]
  },
  {
   "cell_type": "markdown",
   "id": "c2314cc6",
   "metadata": {},
   "source": [
    "### Cohen's Kappa by different dataset\n",
    "\n",
    "rater1: Real observation \n",
    "rater2: Model prediction\n",
    "(rater1, rater2 can be switched as well)\n",
    "\n",
    "Po = Agreement between rater 1, rater 2: TP and TN\n",
    "\n",
    "pe = Agreement between rater 1 and rater 2 by chance: (Rater1 positive * Rater2 positive) + (Rater1 negative * Rater2 negative) \n",
    "\n",
    "\n",
    "<Kappa: Agreement>\n",
    "\n",
    "<0: Less than chance agreement\n",
    "\n",
    "0.01 - 0.20: Slight agreement\n",
    "\n",
    "0.21 - 0.40: Fair agreement\n",
    "\n",
    "0.41 - 0.60: Moderate agreement\n",
    "\n",
    "0.61 - 0.80: Substantial agreement \n",
    "\n",
    "0.81 - 0.99: Almost perfect agreement\n",
    "\n",
    "\n",
    "\n",
    "[Lemmatization -> stemming]\n",
    "\n",
    "* svm = 0.302408\n",
    "* nb = 0.274825\n",
    "* rf = 0.233542\n",
    "\n",
    "    \n",
    "[stemmed]\n",
    "    \n",
    "* svm = 0.297399\n",
    "* nb = 0.309497\n",
    "* rf = 0.247251\n",
    "\n",
    "\n",
    "[Lemmatized]\n",
    "    \n",
    "* svm = 0.297042\n",
    "* nb = 0.276526\n",
    "* rf = 0.249603"
   ]
  },
  {
   "cell_type": "markdown",
   "id": "4b5dc228",
   "metadata": {},
   "source": [
    "There was no big difference depending on the application of lemmatization and stemming to the dataset, therefore we chose to present the stemmed corpus"
   ]
  },
  {
   "cell_type": "markdown",
   "id": "2e88e48e",
   "metadata": {},
   "source": [
    "### Train & Test - group assigned train - test set"
   ]
  },
  {
   "cell_type": "code",
   "execution_count": 46,
   "id": "0fac2026",
   "metadata": {},
   "outputs": [
    {
     "data": {
      "text/html": [
       "<div>\n",
       "<style scoped>\n",
       "    .dataframe tbody tr th:only-of-type {\n",
       "        vertical-align: middle;\n",
       "    }\n",
       "\n",
       "    .dataframe tbody tr th {\n",
       "        vertical-align: top;\n",
       "    }\n",
       "\n",
       "    .dataframe thead th {\n",
       "        text-align: right;\n",
       "    }\n",
       "</style>\n",
       "<table border=\"1\" class=\"dataframe\">\n",
       "  <thead>\n",
       "    <tr style=\"text-align: right;\">\n",
       "      <th></th>\n",
       "      <th>corpus_id</th>\n",
       "      <th>sentence_id</th>\n",
       "      <th>sentence</th>\n",
       "      <th>options</th>\n",
       "      <th>final</th>\n",
       "    </tr>\n",
       "  </thead>\n",
       "  <tbody>\n",
       "    <tr>\n",
       "      <th>0</th>\n",
       "      <td>0</td>\n",
       "      <td>800</td>\n",
       "      <td>Ja, ich war konzentriert wenn ich immer mal wi...</td>\n",
       "      <td>0,2</td>\n",
       "      <td>2</td>\n",
       "    </tr>\n",
       "    <tr>\n",
       "      <th>1</th>\n",
       "      <td>3</td>\n",
       "      <td>319</td>\n",
       "      <td>Ich bin der festen Überzeugung, dass sich dies...</td>\n",
       "      <td>3</td>\n",
       "      <td>3</td>\n",
       "    </tr>\n",
       "    <tr>\n",
       "      <th>2</th>\n",
       "      <td>3</td>\n",
       "      <td>2177</td>\n",
       "      <td>Das erste, was ich tat, war, Year 3 Lesern ein...</td>\n",
       "      <td>0</td>\n",
       "      <td>0</td>\n",
       "    </tr>\n",
       "    <tr>\n",
       "      <th>3</th>\n",
       "      <td>4</td>\n",
       "      <td>0</td>\n",
       "      <td>Über die WEKA-Übung:</td>\n",
       "      <td>0</td>\n",
       "      <td>0</td>\n",
       "    </tr>\n",
       "    <tr>\n",
       "      <th>4</th>\n",
       "      <td>0</td>\n",
       "      <td>1552</td>\n",
       "      <td>Nichtsdestotrotz finde ich es gut, dass diese ...</td>\n",
       "      <td>0,2</td>\n",
       "      <td>2</td>\n",
       "    </tr>\n",
       "  </tbody>\n",
       "</table>\n",
       "</div>"
      ],
      "text/plain": [
       "   corpus_id  sentence_id                                           sentence  \\\n",
       "0          0          800  Ja, ich war konzentriert wenn ich immer mal wi...   \n",
       "1          3          319  Ich bin der festen Überzeugung, dass sich dies...   \n",
       "2          3         2177  Das erste, was ich tat, war, Year 3 Lesern ein...   \n",
       "3          4            0                               Über die WEKA-Übung:   \n",
       "4          0         1552  Nichtsdestotrotz finde ich es gut, dass diese ...   \n",
       "\n",
       "  options  final  \n",
       "0     0,2      2  \n",
       "1       3      3  \n",
       "2       0      0  \n",
       "3       0      0  \n",
       "4     0,2      2  "
      ]
     },
     "execution_count": 46,
     "metadata": {},
     "output_type": "execute_result"
    }
   ],
   "source": [
    "# Using group train - test set\n",
    "train_data= pd.read_csv(\"sentences_train.tsv\", sep = \"\\t\")\n",
    "\n",
    "train_data.head(5)\n",
    "\n",
    "# Delete unnecessary column\n",
    "train_data.drop(train_data.columns[[0]], axis=1, inplace=True)\n",
    "\n",
    "train_data.head(5)\n"
   ]
  },
  {
   "cell_type": "code",
   "execution_count": 45,
   "id": "75253de0",
   "metadata": {
    "scrolled": false
   },
   "outputs": [
    {
     "data": {
      "text/html": [
       "<div>\n",
       "<style scoped>\n",
       "    .dataframe tbody tr th:only-of-type {\n",
       "        vertical-align: middle;\n",
       "    }\n",
       "\n",
       "    .dataframe tbody tr th {\n",
       "        vertical-align: top;\n",
       "    }\n",
       "\n",
       "    .dataframe thead th {\n",
       "        text-align: right;\n",
       "    }\n",
       "</style>\n",
       "<table border=\"1\" class=\"dataframe\">\n",
       "  <thead>\n",
       "    <tr style=\"text-align: right;\">\n",
       "      <th></th>\n",
       "      <th>corpus_id</th>\n",
       "      <th>sentence_id</th>\n",
       "      <th>sentence</th>\n",
       "      <th>options</th>\n",
       "      <th>final</th>\n",
       "    </tr>\n",
       "  </thead>\n",
       "  <tbody>\n",
       "    <tr>\n",
       "      <th>0</th>\n",
       "      <td>0</td>\n",
       "      <td>542</td>\n",
       "      <td>die</td>\n",
       "      <td>0</td>\n",
       "      <td>0</td>\n",
       "    </tr>\n",
       "    <tr>\n",
       "      <th>1</th>\n",
       "      <td>1</td>\n",
       "      <td>1178</td>\n",
       "      <td>Was hat mir während der Bearbeitung besonders ...</td>\n",
       "      <td>0</td>\n",
       "      <td>0</td>\n",
       "    </tr>\n",
       "    <tr>\n",
       "      <th>2</th>\n",
       "      <td>1</td>\n",
       "      <td>902</td>\n",
       "      <td>Trotzdem ist anzumerken, dass eine Fülle an ge...</td>\n",
       "      <td>2</td>\n",
       "      <td>2</td>\n",
       "    </tr>\n",
       "    <tr>\n",
       "      <th>3</th>\n",
       "      <td>0</td>\n",
       "      <td>1460</td>\n",
       "      <td>Ich verstand erst nach Öfteren durchlesen der ...</td>\n",
       "      <td>2</td>\n",
       "      <td>2</td>\n",
       "    </tr>\n",
       "    <tr>\n",
       "      <th>4</th>\n",
       "      <td>3</td>\n",
       "      <td>2359</td>\n",
       "      <td>Obwohl mein Tag mit einer Geschichtsstunde beg...</td>\n",
       "      <td>0,1</td>\n",
       "      <td>1</td>\n",
       "    </tr>\n",
       "  </tbody>\n",
       "</table>\n",
       "</div>"
      ],
      "text/plain": [
       "   corpus_id  sentence_id                                           sentence  \\\n",
       "0          0          542                                                die   \n",
       "1          1         1178  Was hat mir während der Bearbeitung besonders ...   \n",
       "2          1          902  Trotzdem ist anzumerken, dass eine Fülle an ge...   \n",
       "3          0         1460  Ich verstand erst nach Öfteren durchlesen der ...   \n",
       "4          3         2359  Obwohl mein Tag mit einer Geschichtsstunde beg...   \n",
       "\n",
       "  options  final  \n",
       "0       0      0  \n",
       "1       0      0  \n",
       "2       2      2  \n",
       "3       2      2  \n",
       "4     0,1      1  "
      ]
     },
     "execution_count": 45,
     "metadata": {},
     "output_type": "execute_result"
    }
   ],
   "source": [
    "# Using group train - test set\n",
    "test_data= pd.read_csv(\"sentences_test.tsv\", sep = \"\\t\")\n",
    "\n",
    "test_data.head(5)\n",
    "\n",
    "# Delete unnecessary column\n",
    "test_data.drop(test_data.columns[[0]], axis=1, inplace=True)\n",
    "\n",
    "test_data.head(5)"
   ]
  },
  {
   "cell_type": "code",
   "execution_count": 50,
   "id": "bf8d96b3",
   "metadata": {},
   "outputs": [],
   "source": [
    "# Text cleaning for train_data and test_data\n",
    "\n",
    "ps = PorterStemmer()\n",
    "corpus_train = []\n",
    "corpus_test = []\n",
    "\n",
    "# Text cleaning\n",
    "for i in range(0, len(train_data)):\n",
    "    review = re.sub('[^a-zA-ZäöüÄÖÜß]', ' ', train_data['sentence'][i])\n",
    "    review = review.lower()\n",
    "    review = review.split()\n",
    "    \n",
    "    review = [word for word in review if not word in stopwords.words('german')]\n",
    "    review = ' '.join(review)\n",
    "    corpus_train.append(review)\n",
    "\n",
    "for i in range(0, len(test_data)):\n",
    "    review = re.sub('[^a-zA-ZäöüÄÖÜß]', ' ', test_data['sentence'][i])\n",
    "    review = review.lower()\n",
    "    review = review.split()\n",
    "    \n",
    "    review = [word for word in review if not word in stopwords.words('german')]\n",
    "    review = ' '.join(review)\n",
    "    corpus_test.append(review)\n",
    "    \n",
    "# Stemmed corpus\n",
    "stem_corpus_train = [ps.stem(word) for word in corpus_train]\n",
    "stem_corpus_test = [ps.stem(word) for word in corpus_test]\n",
    "\n",
    "# Bag of Words\n",
    "\n",
    "X_train = cv.fit_transform(stem_corpus_train).toarray()\n",
    "y_train = train_data['final']\n",
    "\n",
    "X_test = cv.fit_transform(stem_corpus_test).toarray()\n",
    "y_test = test_data['final']"
   ]
  },
  {
   "cell_type": "markdown",
   "id": "febaf967",
   "metadata": {},
   "source": [
    "## SVM\n",
    "\n",
    "It is known to be well performing in text classification"
   ]
  },
  {
   "cell_type": "code",
   "execution_count": 51,
   "id": "f2ca4d14",
   "metadata": {},
   "outputs": [
    {
     "name": "stdout",
     "output_type": "stream",
     "text": [
      "              precision    recall  f1-score   support\n",
      "\n",
      "           0       0.43      0.68      0.53       604\n",
      "           1       0.04      0.05      0.05       107\n",
      "           2       0.26      0.20      0.22       360\n",
      "           3       0.25      0.10      0.14       278\n",
      "           4       0.05      0.01      0.02       100\n",
      "           5       0.10      0.05      0.07        75\n",
      "\n",
      "    accuracy                           0.34      1524\n",
      "   macro avg       0.19      0.18      0.17      1524\n",
      "weighted avg       0.29      0.34      0.29      1524\n",
      "\n",
      "SVM Cohen's Kappa ->  0.040062034451455064\n"
     ]
    }
   ],
   "source": [
    "SVM = svm.SVC(C=1.0, kernel='linear', degree=3, gamma='auto')\n",
    "SVM.fit(X_train,y_train)\n",
    "\n",
    "# predict the labels on validation dataset\n",
    "prediction_SVM = SVM.predict(X_test)\n",
    "\n",
    "print(classification_report(y_test, prediction_SVM,target_names=label_names))\n",
    "print(\"SVM Cohen's Kappa -> \", cohen_kappa_score(y_test, prediction_SVM))"
   ]
  },
  {
   "cell_type": "markdown",
   "id": "692cf9ff",
   "metadata": {},
   "source": [
    "## Naive Bayes Classifier \n",
    "\n",
    "It goes well with multinomial variant. "
   ]
  },
  {
   "cell_type": "code",
   "execution_count": 52,
   "id": "a91d31a7",
   "metadata": {},
   "outputs": [
    {
     "name": "stdout",
     "output_type": "stream",
     "text": [
      "              precision    recall  f1-score   support\n",
      "\n",
      "           0       0.45      0.43      0.44       604\n",
      "           1       0.07      0.15      0.09       107\n",
      "           2       0.28      0.16      0.20       360\n",
      "           3       0.18      0.12      0.14       278\n",
      "           4       0.08      0.08      0.08       100\n",
      "           5       0.05      0.15      0.08        75\n",
      "\n",
      "    accuracy                           0.25      1524\n",
      "   macro avg       0.18      0.18      0.17      1524\n",
      "weighted avg       0.29      0.25      0.26      1524\n",
      "\n",
      "Naive Bayes Cohen's Kappa ->  0.03364843104699755\n"
     ]
    }
   ],
   "source": [
    "Naive = naive_bayes.MultinomialNB()\n",
    "Naive.fit(X_train,y_train)\n",
    "\n",
    "# predict the labels on validation dataset\n",
    "prediction_NB = Naive.predict(X_test)\n",
    "\n",
    "print(classification_report(y_test, prediction_NB,target_names=label_names))\n",
    "print(\"Naive Bayes Cohen's Kappa -> \", cohen_kappa_score(y_test, prediction_NB))"
   ]
  },
  {
   "cell_type": "markdown",
   "id": "221058ff",
   "metadata": {},
   "source": [
    "## Random Forest"
   ]
  },
  {
   "cell_type": "code",
   "execution_count": 53,
   "id": "feea6568",
   "metadata": {
    "scrolled": false
   },
   "outputs": [
    {
     "name": "stdout",
     "output_type": "stream",
     "text": [
      "              precision    recall  f1-score   support\n",
      "\n",
      "           0       0.44      0.64      0.52       604\n",
      "           1       0.05      0.06      0.05       107\n",
      "           2       0.23      0.26      0.25       360\n",
      "           3       0.29      0.07      0.12       278\n",
      "           4       0.08      0.02      0.03       100\n",
      "           5       0.06      0.03      0.04        75\n",
      "\n",
      "    accuracy                           0.34      1524\n",
      "   macro avg       0.19      0.18      0.17      1524\n",
      "weighted avg       0.30      0.34      0.29      1524\n",
      "\n",
      "Random Forest Cohen's Kappa ->  0.04270584343156292\n"
     ]
    }
   ],
   "source": [
    "rf = RandomForestClassifier()\n",
    "rf.fit(X_train, y_train)\n",
    "prediction_RF = rf.predict(X_test)\n",
    "\n",
    "print(classification_report(y_test, prediction_RF,target_names=label_names))\n",
    "print(\"Random Forest Cohen's Kappa -> \", cohen_kappa_score(y_test, prediction_RF))"
   ]
  }
 ],
 "metadata": {
  "kernelspec": {
   "display_name": "Python 3 (ipykernel)",
   "language": "python",
   "name": "python3"
  },
  "language_info": {
   "codemirror_mode": {
    "name": "ipython",
    "version": 3
   },
   "file_extension": ".py",
   "mimetype": "text/x-python",
   "name": "python",
   "nbconvert_exporter": "python",
   "pygments_lexer": "ipython3",
   "version": "3.9.13"
  }
 },
 "nbformat": 4,
 "nbformat_minor": 5
}
